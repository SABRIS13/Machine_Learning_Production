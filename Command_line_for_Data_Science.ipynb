{
  "nbformat": 4,
  "nbformat_minor": 0,
  "metadata": {
    "colab": {
      "provenance": [],
      "include_colab_link": true
    },
    "kernelspec": {
      "name": "python3",
      "display_name": "Python 3"
    },
    "language_info": {
      "name": "python"
    }
  },
  "cells": [
    {
      "cell_type": "markdown",
      "metadata": {
        "id": "view-in-github",
        "colab_type": "text"
      },
      "source": [
        "<a href=\"https://colab.research.google.com/github/SABRIS13/Machine_Learning_Production/blob/main/Command_line_for_Data_Science.ipynb\" target=\"_parent\"><img src=\"https://colab.research.google.com/assets/colab-badge.svg\" alt=\"Open In Colab\"/></a>"
      ]
    },
    {
      "cell_type": "markdown",
      "source": [
        "![BASH.svg](data:image/svg+xml;base64,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)"
      ],
      "metadata": {
        "id": "YH0eVJy2b7WL"
      }
    },
    {
      "cell_type": "markdown",
      "source": [
        "# Command Line for Data Science"
      ],
      "metadata": {
        "id": "8VZ8KgWNF6Iz"
      }
    },
    {
      "cell_type": "markdown",
      "source": [
        "## Linux commands 01"
      ],
      "metadata": {
        "id": "Fc86ZbjSGAp5"
      }
    },
    {
      "cell_type": "markdown",
      "source": [
        "Pendientes cut command"
      ],
      "metadata": {
        "id": "01Z66P3s16Fq"
      }
    },
    {
      "cell_type": "markdown",
      "source": [
        "### `echo`"
      ],
      "metadata": {
        "id": "FK2B9uhfsTrS"
      }
    },
    {
      "cell_type": "markdown",
      "source": [
        "El comando `echo` imprime por pantalla cualquier input que le pasemos"
      ],
      "metadata": {
        "id": "KWuJY4w8sDsm"
      }
    },
    {
      "cell_type": "code",
      "execution_count": null,
      "metadata": {
        "id": "h6qqK4xoFvTD"
      },
      "outputs": [],
      "source": [
        "%%bash\n",
        "\n",
        "echo \"hola mundo\""
      ]
    },
    {
      "cell_type": "markdown",
      "source": [
        "### `cal`"
      ],
      "metadata": {
        "id": "0MUCENDDsceM"
      }
    },
    {
      "cell_type": "markdown",
      "source": [
        "Imprime el calendario"
      ],
      "metadata": {
        "id": "6PC5fFm0sgR1"
      }
    },
    {
      "cell_type": "code",
      "source": [
        "%%bash\n",
        "\n",
        "cal"
      ],
      "metadata": {
        "id": "r35XQ4HrsPn6"
      },
      "execution_count": null,
      "outputs": []
    },
    {
      "cell_type": "code",
      "source": [
        "%%bash\n",
        "\n",
        "cal 2017"
      ],
      "metadata": {
        "id": "v1AYRTILsPsI"
      },
      "execution_count": null,
      "outputs": []
    },
    {
      "cell_type": "code",
      "source": [
        "%%bash\n",
        "\n",
        "cal -y"
      ],
      "metadata": {
        "id": "5d4BaOMls17W"
      },
      "execution_count": null,
      "outputs": []
    },
    {
      "cell_type": "markdown",
      "source": [
        "### `date`"
      ],
      "metadata": {
        "id": "aUK0h3hTs9S8"
      }
    },
    {
      "cell_type": "code",
      "source": [
        "%%bash\n",
        "\n",
        "date"
      ],
      "metadata": {
        "id": "tPgt0J5Fs8jg"
      },
      "execution_count": null,
      "outputs": []
    },
    {
      "cell_type": "markdown",
      "source": [
        "### `clear`"
      ],
      "metadata": {
        "id": "N8CcQ-N1tF2E"
      }
    },
    {
      "cell_type": "markdown",
      "source": [
        "Si escribimos el comando `clear` en la terminal, este nos ayudar'a a limpiar todas las lineas escritas previamente (tambi'en podemos usar `ctrl + l`)"
      ],
      "metadata": {
        "id": "j6Hqu_PxtJOU"
      }
    },
    {
      "cell_type": "markdown",
      "source": [
        "### `↑` & `↓` (teclas)"
      ],
      "metadata": {
        "id": "IpH2jodfuH6I"
      }
    },
    {
      "cell_type": "markdown",
      "source": [
        "Las teclas `↑` y `↓` nos ayudan a navegar entre los comandos que hemos usado"
      ],
      "metadata": {
        "id": "x3BHYMxsuUl-"
      }
    },
    {
      "cell_type": "markdown",
      "source": [
        "### `history` & `!`"
      ],
      "metadata": {
        "id": "3fL_If9Tt9ef"
      }
    },
    {
      "cell_type": "markdown",
      "source": [
        "Si usamos el comando `history`, este nos ayuda a ver el historial de todo lo que hemos escrito sobre la terminal\n",
        "\n",
        "En caso de querer ejecutar nuevamente alguno de esos comandos basta con teclear el signo de admiraci'on y usar su indice, por ejemplo si queremos ejecutar el comando con el indice 3, usar'iamos\n",
        "\n",
        "`!3`"
      ],
      "metadata": {
        "id": "gOcDv-Z8tulR"
      }
    },
    {
      "cell_type": "markdown",
      "source": [
        "Si queremos ejecutar nuevamente el ultimo comando tambi'en podemos usar `!!`"
      ],
      "metadata": {
        "id": "xTK_hX-wvZLu"
      }
    },
    {
      "cell_type": "markdown",
      "source": [
        "Si queremos limpiar el historial podemos usar `history -c; history -w` esto borra el historial y lo hace permanente"
      ],
      "metadata": {
        "id": "FsLnqoq2viTB"
      }
    },
    {
      "cell_type": "markdown",
      "source": [
        "### `exit`"
      ],
      "metadata": {
        "id": "tEl_pYHUv0gT"
      }
    },
    {
      "cell_type": "markdown",
      "source": [
        "si queremos cerrar la terminal podemos teclear `exit`"
      ],
      "metadata": {
        "id": "KDE63E1Ov4aX"
      }
    },
    {
      "cell_type": "markdown",
      "source": [
        "### `$PATH` & `which`"
      ],
      "metadata": {
        "id": "Jjji75SDwfQ3"
      }
    },
    {
      "cell_type": "markdown",
      "source": [
        "Todos los comandos son programas que estan instalados en algun lugar de nuestra computadora y los programas siempre son la primera parte de nuestros comandos, la forma general en la que ingresamos los comandos a la terminal es la siguiente:"
      ],
      "metadata": {
        "id": "9BcOtazKwHwf"
      }
    },
    {
      "cell_type": "markdown",
      "source": [
        "`NombreDelPrograma opciones inputs`"
      ],
      "metadata": {
        "id": "EOSdQFNkyMwo"
      }
    },
    {
      "cell_type": "markdown",
      "source": [
        "las `opciones` son para modificar su comportamiento y los `inputs` son los insumos con los que va a operar"
      ],
      "metadata": {
        "id": "yBSEiRJ7yM3a"
      }
    },
    {
      "cell_type": "markdown",
      "source": [
        "Cuando usamos algun comando ocurre que la ruta donde esta el programa ser'a buscada en algo que llamaso el __shell path__ el cual es una lista de directorios que contienen ese programa. \n",
        "\n",
        "`$PATH` es una variable de ambiente que nos da la lista de directorios donde los programas seran buscados.\n",
        "\n",
        "Para ver los directorios donde se buscan los programas, podemos usar el siguiente comando:"
      ],
      "metadata": {
        "id": "F3l5UXQ5yPPR"
      }
    },
    {
      "cell_type": "code",
      "source": [
        "%%bash\n",
        "\n",
        "echo $PATH"
      ],
      "metadata": {
        "id": "lzPin7kitcDS"
      },
      "execution_count": null,
      "outputs": []
    },
    {
      "cell_type": "markdown",
      "source": [
        "el __shell__ emnpieza a buscar el programa desde el directorio que se encuentra mas a la izquierda, si no lo encuentra se pasa al siguiente directorio, cadad `:` separa directorios."
      ],
      "metadata": {
        "id": "VC83dPdCynKz"
      }
    },
    {
      "cell_type": "markdown",
      "source": [
        "Si el shell no encuentra el programa en ninguno de esos folders entonces arrojara un error."
      ],
      "metadata": {
        "id": "KdEi0eMh4O1g"
      }
    },
    {
      "cell_type": "code",
      "source": [
        "%%bash\n",
        "\n",
        "pythonero"
      ],
      "metadata": {
        "id": "4qKrFHymyal_"
      },
      "execution_count": null,
      "outputs": []
    },
    {
      "cell_type": "markdown",
      "source": [
        "si queremos saber en que directorio se encuentra un programa podemos usar `which`"
      ],
      "metadata": {
        "id": "uLBor9rYyRcu"
      }
    },
    {
      "cell_type": "code",
      "source": [
        "%%bash\n",
        "\n",
        "which cal"
      ],
      "metadata": {
        "id": "S544-Pi0tcF9"
      },
      "execution_count": null,
      "outputs": []
    },
    {
      "cell_type": "code",
      "source": [
        "%%bash\n",
        "\n",
        "which echo"
      ],
      "metadata": {
        "id": "tDb7dBHfz_z9"
      },
      "execution_count": null,
      "outputs": []
    },
    {
      "cell_type": "code",
      "source": [
        "%%bash\n",
        "\n",
        "which python3"
      ],
      "metadata": {
        "id": "I_vRTtsAz6Xo"
      },
      "execution_count": null,
      "outputs": []
    },
    {
      "cell_type": "code",
      "source": [
        "%%bash\n",
        "\n",
        "which which"
      ],
      "metadata": {
        "id": "ZlqtvH9n0HKr"
      },
      "execution_count": null,
      "outputs": []
    },
    {
      "cell_type": "markdown",
      "source": [
        "## Inputs & Options"
      ],
      "metadata": {
        "id": "QuQB9j2ayRhs"
      }
    },
    {
      "cell_type": "markdown",
      "source": [
        "Podemos hacer los comandos mas personalizados si especificamos\n",
        "\n",
        "* __Inputs__\n",
        "* __Options__\n"
      ],
      "metadata": {
        "id": "57obW8L7cTbN"
      }
    },
    {
      "cell_type": "markdown",
      "source": [
        "### __Inputs__"
      ],
      "metadata": {
        "id": "M122dP9Le0Zf"
      }
    },
    {
      "cell_type": "markdown",
      "source": [
        "No todos los comandos requieren inputs, como `date`, pero la mayoría de los comandos sí requieren inputs,a los inputs también se les conoce como __operands__,"
      ],
      "metadata": {
        "id": "tmEO89hHe4uz"
      }
    },
    {
      "cell_type": "markdown",
      "source": [
        "#### 1 Input"
      ],
      "metadata": {
        "id": "gQ9O1dKVfcd2"
      }
    },
    {
      "cell_type": "code",
      "source": [
        "%%bash\n",
        "\n",
        "echo \"hola\""
      ],
      "metadata": {
        "id": "6c6gWzspf3AC"
      },
      "execution_count": null,
      "outputs": []
    },
    {
      "cell_type": "code",
      "source": [
        "%%bash\n",
        "\n",
        "cal 2017"
      ],
      "metadata": {
        "id": "7KL7u6jFcIkh"
      },
      "execution_count": null,
      "outputs": []
    },
    {
      "cell_type": "markdown",
      "source": [
        "#### 2 Inputs"
      ],
      "metadata": {
        "id": "N8TXtFMrffts"
      }
    },
    {
      "cell_type": "code",
      "source": [
        "%%bash\n",
        "\n",
        "cal 12 2017"
      ],
      "metadata": {
        "id": "vBRy24eIcIsf"
      },
      "execution_count": null,
      "outputs": []
    },
    {
      "cell_type": "markdown",
      "source": [
        "### Options"
      ],
      "metadata": {
        "id": "PNLZbpZUgClA"
      }
    },
    {
      "cell_type": "markdown",
      "source": [
        "Las opciones las pasamos a los comandos despues de un dash `-`"
      ],
      "metadata": {
        "id": "TKBQvgiBgdMp"
      }
    },
    {
      "cell_type": "markdown",
      "source": [
        "Supongamos que existe un comando con diferentes opciones\n",
        "\n",
        "`ComandoLinux -a -b -c -d -e -f -g`\n",
        "\n",
        "el comando de arriba junto con todas sus opcioens podemos escribirlo tambi'en de la forma:\n",
        "\n",
        "`ComandoLinux -abcdefg`\n",
        "\n",
        "Incluso podemos cambiar el orden, y seguira ejecutandose de forma regular"
      ],
      "metadata": {
        "id": "a8WS8eapikuE"
      }
    },
    {
      "cell_type": "markdown",
      "source": [
        "A veces las opciones tienen formatos largos.\n",
        "\n",
        "ejemplo:"
      ],
      "metadata": {
        "id": "ACVFJwBLjQzv"
      }
    },
    {
      "cell_type": "markdown",
      "source": [
        "formato corto, aca usamos un dash `-`"
      ],
      "metadata": {
        "id": "cm3f5NcBjmZT"
      }
    },
    {
      "cell_type": "code",
      "source": [
        "%%bash\n",
        "\n",
        "date -u"
      ],
      "metadata": {
        "id": "OuYAo57CjgAQ"
      },
      "execution_count": null,
      "outputs": []
    },
    {
      "cell_type": "markdown",
      "source": [
        "formato largo, aca usamos dos dashes `--`"
      ],
      "metadata": {
        "id": "f8Mg4MPrjo5V"
      }
    },
    {
      "cell_type": "code",
      "source": [
        "%%bash\n",
        "\n",
        "date --universal"
      ],
      "metadata": {
        "id": "3WaIZjIJjhbz"
      },
      "execution_count": null,
      "outputs": []
    },
    {
      "cell_type": "markdown",
      "source": [
        "__NOTA__: los formatos largos son más fáciles de leer, pero no siempre estan disponibles y no pueden ser encadenadas"
      ],
      "metadata": {
        "id": "b6-P0RxXjxLg"
      }
    },
    {
      "cell_type": "markdown",
      "source": [
        "veamos un __ejemplo__ en donde a las opciones les vamos a pasar sus propios inputs"
      ],
      "metadata": {
        "id": "jBu1SQDPlZRd"
      }
    },
    {
      "cell_type": "markdown",
      "source": [
        "Mostramos un mes particular"
      ],
      "metadata": {
        "id": "GD-yewoUla2o"
      }
    },
    {
      "cell_type": "code",
      "source": [
        "%%bash\n",
        "\n",
        "cal 10 2022"
      ],
      "metadata": {
        "id": "-EOzVTGejheq"
      },
      "execution_count": null,
      "outputs": []
    },
    {
      "cell_type": "markdown",
      "source": [
        "Mostramos un mes particular y 1 mes despues"
      ],
      "metadata": {
        "id": "5y_pwsuvlfDJ"
      }
    },
    {
      "cell_type": "code",
      "source": [
        "%%bash\n",
        "\n",
        "cal -A 1 10 2022"
      ],
      "metadata": {
        "id": "Qe0qMZgGlRnF"
      },
      "execution_count": null,
      "outputs": []
    },
    {
      "cell_type": "markdown",
      "source": [
        "Mostramos un mes particular y 1 mes antes"
      ],
      "metadata": {
        "id": "0U6KBBqOlrh8"
      }
    },
    {
      "cell_type": "code",
      "source": [
        "%%bash\n",
        "\n",
        "cal -B 1 10 2022"
      ],
      "metadata": {
        "id": "LGUeCMaIjhif"
      },
      "execution_count": null,
      "outputs": []
    },
    {
      "cell_type": "markdown",
      "source": [
        "Mostramos un mes particular, 1 mes antes y un mes despues"
      ],
      "metadata": {
        "id": "N57Nws9Ql1OP"
      }
    },
    {
      "cell_type": "code",
      "source": [
        "%%bash\n",
        "\n",
        "cal -B 1 -A 1 10 2022"
      ],
      "metadata": {
        "id": "JiswMWeIlvoD"
      },
      "execution_count": null,
      "outputs": []
    },
    {
      "cell_type": "markdown",
      "source": [
        "Algunos comandos nos permiten especificar los inputs de las opciones con un signo `=` para tener mas presición.\n",
        "\n",
        "Con `Cal` __NO FUNCIONA__, pero si funcionara sería algo así \n",
        "\n",
        "* Opción corta `cal -B=1 -A=1 10 2022`\n",
        "* Opción larga `cal --before=1 --after=1 10 2022`"
      ],
      "metadata": {
        "id": "UsAPUfGJmiq3"
      }
    },
    {
      "cell_type": "markdown",
      "source": [
        "## Redirection `>`, `>>`"
      ],
      "metadata": {
        "id": "Pgrp_X-bSfye"
      }
    },
    {
      "cell_type": "markdown",
      "source": [
        "* `stdin` (standar input): es el nombre del stream input donde la data es enviada y leida por un programa \n",
        "* `stdout` (standard output): es el nombre del stream que sale del programa que puede ser escrito en algun lugar"
      ],
      "metadata": {
        "id": "Y2avIsDrYvzG"
      }
    },
    {
      "cell_type": "markdown",
      "source": [
        "Para entender el concepto de redirección usaremos `cat`, ya que este es usado para concatenar o apilar diferentes archivos, `cat` lee `stdin` y escribre `stdout`"
      ],
      "metadata": {
        "id": "xpXRpnThSy3D"
      }
    },
    {
      "cell_type": "markdown",
      "source": [
        "### cat"
      ],
      "metadata": {
        "id": "-BFHzLIFgOXt"
      }
    },
    {
      "cell_type": "markdown",
      "source": [
        "Si abrimos una terminal y escribimos `cat`, el comando va a estar esperando a recibir standar input para que pueda correr, stdin por defecto esta conectado al teclado, entonces debemos escribir algo, si escribimos por ejemplo \n",
        "\n",
        "\n",
        "```\n",
        "cat \n",
        "hola\n",
        "```\n",
        " esto va a regresar inmediatamente:\n",
        "\n",
        "``` \n",
        "hola\n",
        "```\n",
        "\n",
        "El standar output esta conectado por defecto a la terminal y arroja la misma palabra que usemos como input \n",
        "\n"
      ],
      "metadata": {
        "id": "iqE-4Ft0U1c6"
      }
    },
    {
      "cell_type": "code",
      "source": [],
      "metadata": {
        "id": "CYyhv2wa6yPe"
      },
      "execution_count": null,
      "outputs": []
    },
    {
      "cell_type": "code",
      "source": [
        "# pruebalo\n",
        "!cat"
      ],
      "metadata": {
        "id": "53ODKiZzcZ58"
      },
      "execution_count": null,
      "outputs": []
    },
    {
      "cell_type": "markdown",
      "source": [
        "cada stream de datos tiene su propio nombre y tambien tiene un n'umero asociado\n",
        "\n",
        "* 0 - `stdin`\n",
        "* 1 - `stdout`\n",
        "* 2 - `stderr`"
      ],
      "metadata": {
        "id": "8FHFvAxhZa4Z"
      }
    },
    {
      "cell_type": "markdown",
      "source": [
        "Si queremos que el output de `cat` sea redirigido a un archivo por ejemplo `output.txt`, entonces usamos \n",
        "\n",
        "\n",
        "\n",
        "```\n",
        "cat 1> outout.txt\n",
        "```\n",
        "\n",
        "lo que estamos diciendo en la linea de arriba es poner la salida `1` en `output.txt`"
      ],
      "metadata": {
        "id": "fHgxlYzaXxFx"
      }
    },
    {
      "cell_type": "code",
      "source": [
        "# pruebalo\n",
        "!cat 1> output.txt"
      ],
      "metadata": {
        "id": "QBrCJMuYlvrC"
      },
      "execution_count": null,
      "outputs": []
    },
    {
      "cell_type": "markdown",
      "source": [
        "Linux entiende que queremos guardar un stream de datos, no es necesario usar el 1, basta con colocar\n",
        "\n",
        "```\n",
        "cat > output.txt\n",
        "```"
      ],
      "metadata": {
        "id": "bgGSq1F-dlSd"
      }
    },
    {
      "cell_type": "code",
      "source": [
        "# pruebalo\n",
        "!cat > output.txt"
      ],
      "metadata": {
        "id": "yjEoGRXilvt-"
      },
      "execution_count": null,
      "outputs": []
    },
    {
      "cell_type": "markdown",
      "source": [
        "Cada que usamos `>` sobre `output.txt`, se reescribe (o se trunca realmente) el ultimo stream de datos, si queremos que la data persista en lugar de reescribir, entonces debemos usar `>>`"
      ],
      "metadata": {
        "id": "JvQtp3oXe4p0"
      }
    },
    {
      "cell_type": "code",
      "source": [
        "# escribe HOLA en la primera linea\n",
        "!cat > output.txt"
      ],
      "metadata": {
        "id": "3UDfZHAMlvw3"
      },
      "execution_count": null,
      "outputs": []
    },
    {
      "cell_type": "code",
      "source": [
        "# escribe MUNDO en la segunda linea\n",
        "!cat >> output.txt"
      ],
      "metadata": {
        "id": "NE6QqRamkZ4B"
      },
      "execution_count": null,
      "outputs": []
    },
    {
      "cell_type": "markdown",
      "source": [
        "Si queremos escribir los errores, podemos usar"
      ],
      "metadata": {
        "id": "sykkFG71hYxY"
      }
    },
    {
      "cell_type": "code",
      "source": [
        "!cat -bandera_no_valida"
      ],
      "metadata": {
        "id": "0_BhTBxfgYPU"
      },
      "execution_count": null,
      "outputs": []
    },
    {
      "cell_type": "code",
      "source": [
        "!cat -bandera_no_valida 2> error.txt"
      ],
      "metadata": {
        "id": "nabmDoiogYSE"
      },
      "execution_count": null,
      "outputs": []
    },
    {
      "cell_type": "markdown",
      "source": [
        "y Si queremos apilar mas errores, solo usamos `2>>`"
      ],
      "metadata": {
        "id": "aVJ7HGWdhrtc"
      }
    },
    {
      "cell_type": "markdown",
      "source": [
        "Si queremos guardar el `stdout` y el `stderr` podemos usar"
      ],
      "metadata": {
        "id": "6t_8MbpXjWqP"
      }
    },
    {
      "cell_type": "code",
      "source": [
        "!cat > output.txt 2> error.txt"
      ],
      "metadata": {
        "id": "Yhtianu3gYXP"
      },
      "execution_count": null,
      "outputs": []
    },
    {
      "cell_type": "markdown",
      "source": [
        "Y para concaternar"
      ],
      "metadata": {
        "id": "7PMcvfnkjpDd"
      }
    },
    {
      "cell_type": "code",
      "source": [
        "!cat >> output.txt 2>> error.txt"
      ],
      "metadata": {
        "id": "MiUc8JhEgYbS"
      },
      "execution_count": null,
      "outputs": []
    },
    {
      "cell_type": "code",
      "source": [
        "!cat -bandera_no_valida >> output.txt 2>> error.txt"
      ],
      "metadata": {
        "id": "GFXNpGWij3eI"
      },
      "execution_count": null,
      "outputs": []
    },
    {
      "cell_type": "markdown",
      "source": [
        "Para recibir `stdin` de un archivo, podemos usar\n",
        "\n",
        "\n",
        "\n",
        "```\n",
        "cat < input.txt\n",
        "```\n",
        "\n"
      ],
      "metadata": {
        "id": "qP22oiOylEZH"
      }
    },
    {
      "cell_type": "code",
      "source": [
        "# escribe \"Hola mundo\" en el archivo input.txt\n",
        "# para despues poder usarlo como ejemplo\n",
        "!cat > input.txt"
      ],
      "metadata": {
        "id": "jFx3cCH4lNhR"
      },
      "execution_count": null,
      "outputs": []
    },
    {
      "cell_type": "markdown",
      "source": [
        "Para redirigir el input y escribirlo (esto sería como hacer una copia)"
      ],
      "metadata": {
        "id": "C1I3djMrl441"
      }
    },
    {
      "cell_type": "code",
      "source": [
        "!cat < input.txt > hola.txt"
      ],
      "metadata": {
        "id": "aNdpNWe0lT39"
      },
      "execution_count": null,
      "outputs": []
    },
    {
      "cell_type": "code",
      "source": [
        "# Otras formas de hacerlo\n",
        "# !cat 0< input.txt 1> hola.txt\n",
        "# !cat input.txt > hola.txt"
      ],
      "metadata": {
        "id": "rJTC68Qx8unN"
      },
      "execution_count": null,
      "outputs": []
    },
    {
      "cell_type": "markdown",
      "source": [
        "Todo en linux es tratado como un archivo, incluso las terminales!"
      ],
      "metadata": {
        "id": "3z248gTJnjZ6"
      }
    },
    {
      "cell_type": "markdown",
      "source": [
        "El siguiente ejercico debe ser realizado en Linux, y debemos abrir dos terminales\n",
        "\n",
        "1. en una terminal localizamos donde esta su ubicación con `tty`"
      ],
      "metadata": {
        "id": "onl9NNvbn6ed"
      }
    },
    {
      "cell_type": "code",
      "source": [
        "!tty"
      ],
      "metadata": {
        "id": "5qNIJhztm9_U"
      },
      "execution_count": null,
      "outputs": []
    },
    {
      "cell_type": "markdown",
      "source": [
        "![image.png](data:image/png;base64,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)"
      ],
      "metadata": {
        "id": "7TUWMM0yom3m"
      }
    },
    {
      "cell_type": "markdown",
      "source": [
        "2. en la segunda terminal escribimos\n",
        "\n",
        "\n",
        "\n",
        "```\n",
        "cat 0< input.txt > /dev/pts/0\n",
        "```\n",
        "\n"
      ],
      "metadata": {
        "id": "F5sQdDIOotPZ"
      }
    },
    {
      "cell_type": "markdown",
      "source": [
        "Al dar enter podran observar como la data pasa de una terminal a otra"
      ],
      "metadata": {
        "id": "G8R9MJqGp9ee"
      }
    },
    {
      "cell_type": "markdown",
      "source": [
        "En general si usamos\n",
        "\n",
        "\n",
        "\n",
        "```\n",
        "cat archivo.txt\n",
        "```\n",
        "\n",
        "Esto imprimira todo el contenido de `archivo.txt` por pantalla\n"
      ],
      "metadata": {
        "id": "zNA0qgyggcrn"
      }
    },
    {
      "cell_type": "markdown",
      "source": [
        "## Linux commands 02"
      ],
      "metadata": {
        "id": "445rgmv5ATYN"
      }
    },
    {
      "cell_type": "markdown",
      "source": [
        "### relative & absolute paths"
      ],
      "metadata": {
        "id": "aVTFowNhEtS8"
      }
    },
    {
      "cell_type": "markdown",
      "source": [
        "......"
      ],
      "metadata": {
        "id": "ko18KDc-EtkL"
      }
    },
    {
      "cell_type": "code",
      "source": [],
      "metadata": {
        "id": "XOP3R6a6GjtA"
      },
      "execution_count": null,
      "outputs": []
    },
    {
      "cell_type": "markdown",
      "source": [
        "### `pwd`"
      ],
      "metadata": {
        "id": "I0Gj2RWEAcgs"
      }
    },
    {
      "cell_type": "markdown",
      "source": [
        "Nos ayuda a saber en que directorio estamos parados"
      ],
      "metadata": {
        "id": "rnGn8IsGAfhD"
      }
    },
    {
      "cell_type": "code",
      "source": [
        "%%bash\n",
        "\n",
        "pwd"
      ],
      "metadata": {
        "id": "6rQ1gjnXAdTC"
      },
      "execution_count": null,
      "outputs": []
    },
    {
      "cell_type": "markdown",
      "source": [
        "### `ls`"
      ],
      "metadata": {
        "id": "R7cZBYjZAit4"
      }
    },
    {
      "cell_type": "markdown",
      "source": [
        "para enlistar el contenido de un directorio (por defecto enlista el directorio sobre el que estamos parados)"
      ],
      "metadata": {
        "id": "4HKQKtsHAjY1"
      }
    },
    {
      "cell_type": "code",
      "source": [
        "%%bash\n",
        "\n",
        "ls"
      ],
      "metadata": {
        "id": "XwTfxdUzAnIG"
      },
      "execution_count": null,
      "outputs": []
    },
    {
      "cell_type": "markdown",
      "source": [
        "Podemos enlistar el contenido de otra ruta\n",
        "\n",
        "\n",
        "```\n",
        "ls /path_directory/\n",
        "```"
      ],
      "metadata": {
        "id": "ru5ve1R9AqIz"
      }
    },
    {
      "cell_type": "markdown",
      "source": [
        "Para poder ver todo lo que contiene un directorio, sin importar que tan anidados esten los directorios o los archivos, podemos usar la opci'on `-R` (por recursividad)."
      ],
      "metadata": {
        "id": "NUUKp4Wm9VVK"
      }
    },
    {
      "cell_type": "markdown",
      "source": [
        "\n",
        "\n",
        "```\n",
        "ls -R\n",
        "```\n",
        "\n"
      ],
      "metadata": {
        "id": "saTzE1Bp-aLB"
      }
    },
    {
      "cell_type": "markdown",
      "source": [
        "Si queremos saber que es cada uno de los archivos desplegados, podemos usar `-F` que imprime: \n",
        "\n",
        "* `/` al final de cada directorio\n",
        "* `*` al final de cada ejecutable"
      ],
      "metadata": {
        "id": "seiCH1EW-fft"
      }
    },
    {
      "cell_type": "markdown",
      "source": [
        "`ls` puede ser ejecutado usando como argumento la ruta de algun directorio especifico:\n",
        "\n",
        "\n",
        "\n",
        "```\n",
        "ls /path_name/dir_name\n",
        "```\n",
        "\n"
      ],
      "metadata": {
        "id": "64R2SO6__H0Q"
      }
    },
    {
      "cell_type": "markdown",
      "source": [
        "### `cd`"
      ],
      "metadata": {
        "id": "m7h_l84YAyX7"
      }
    },
    {
      "cell_type": "markdown",
      "source": [
        "este comando nos permite movernos entre directorios"
      ],
      "metadata": {
        "id": "s3OP-NraAyhm"
      }
    },
    {
      "cell_type": "code",
      "source": [
        "%%bash\n",
        "\n",
        "pwd\n",
        "ls"
      ],
      "metadata": {
        "id": "8k4RQj6-A5Zs"
      },
      "execution_count": null,
      "outputs": []
    },
    {
      "cell_type": "code",
      "source": [
        "%%bash\n",
        "\n",
        "cd /content/sample_data\n",
        "ls"
      ],
      "metadata": {
        "id": "jillcCxeA5ik"
      },
      "execution_count": null,
      "outputs": []
    },
    {
      "cell_type": "markdown",
      "source": [
        "Si usamos `cd ..` siempre nos mueve un directorio arriba"
      ],
      "metadata": {
        "id": "X9DWT8QwBVZk"
      }
    },
    {
      "cell_type": "markdown",
      "source": [
        "### `mkdir`"
      ],
      "metadata": {
        "id": "Rrek1yYjHs5W"
      }
    },
    {
      "cell_type": "markdown",
      "source": [
        "Si queremos crear un directorio nuevo, podemos aplicar este comando\n",
        "\n",
        "\n",
        "\n",
        "```\n",
        "mkdir nuevo_directorio\n",
        "```\n",
        "\n"
      ],
      "metadata": {
        "id": "lVG9DgMl18j3"
      }
    },
    {
      "cell_type": "markdown",
      "source": [
        "* `..` direcciona un directorio arriba\n",
        "* `.` hace referencia al directorio donde estamos parados"
      ],
      "metadata": {
        "id": "46BPeYmp1wnH"
      }
    },
    {
      "cell_type": "markdown",
      "source": [
        "### `rm`"
      ],
      "metadata": {
        "id": "N2TL2gkgHm6u"
      }
    },
    {
      "cell_type": "markdown",
      "source": [
        "Para eliminar archivos usamos `rm` (remove) y podemos pasarle como argumentos todos los arvhivos que queremos eliminar\n",
        "\n",
        "Ejemplo:\n",
        "\n",
        "\n",
        "\n",
        "```\n",
        "rm archivo1.txt archivo2.txt archivo3.txt\n",
        "```\n",
        "\n"
      ],
      "metadata": {
        "id": "OSa0eCMK3Y6V"
      }
    },
    {
      "cell_type": "markdown",
      "source": [
        "__NOTA__: A diferencia de los ambientes graficos, el shell no tiene un bote de basura, entonces si eliminamos algo esto sera eliminado para siempre"
      ],
      "metadata": {
        "id": "mhSsjSIC4R3_"
      }
    },
    {
      "cell_type": "code",
      "source": [
        "%%bash \n",
        "\n",
        "echo 'texto de ejemplo' > eliminar_este_archivo.txt"
      ],
      "metadata": {
        "id": "gx5Wmqut6YAZ"
      },
      "execution_count": null,
      "outputs": []
    },
    {
      "cell_type": "code",
      "source": [
        "%%bash\n",
        "\n",
        "rm eliminar_este_archivo.txt"
      ],
      "metadata": {
        "id": "GTUa_l7_9li-"
      },
      "execution_count": null,
      "outputs": []
    },
    {
      "cell_type": "markdown",
      "source": [
        "### `rmdir`"
      ],
      "metadata": {
        "id": "fkOHzZfe5qhu"
      }
    },
    {
      "cell_type": "markdown",
      "source": [
        "Este comando sirve para eliminar directorios, por seguridad solo elimina directorios vacios, si queremos eliminar un directorio con contenido entonces debemos usar labandera `-r`"
      ],
      "metadata": {
        "id": "a5HLnr-I5_CG"
      }
    },
    {
      "cell_type": "code",
      "source": [
        "%%bash\n",
        "\n",
        "mkdir directorio_vacio"
      ],
      "metadata": {
        "id": "_GHity-2HlrF"
      },
      "execution_count": null,
      "outputs": []
    },
    {
      "cell_type": "code",
      "source": [
        "%%bash\n",
        "\n",
        "rmdir directorio_vacio"
      ],
      "metadata": {
        "id": "Y7185ihFHl15"
      },
      "execution_count": null,
      "outputs": []
    },
    {
      "cell_type": "markdown",
      "source": [
        "Para eliminar un directorio con contenido usamos `rm`\n",
        "\n",
        "\n",
        "```\n",
        "rm -r directorio_con_contenido\n",
        "```\n",
        "\n"
      ],
      "metadata": {
        "id": "4ViwpO6iBXvy"
      }
    },
    {
      "cell_type": "code",
      "source": [
        "%%bash\n",
        "\n",
        "mkdir directorio_01\n",
        "echo 'texto de ejemplo' > directorio_01/eliminar_este_archivo.txt"
      ],
      "metadata": {
        "id": "r8orzozwHl6q"
      },
      "execution_count": null,
      "outputs": []
    },
    {
      "cell_type": "code",
      "source": [
        "%%bash\n",
        "\n",
        "# mkdir directorio_01\n",
        "echo 'texto de ejemplo' > directorio_01/eliminar_este_archivo.txt"
      ],
      "metadata": {
        "id": "zU_e3T2iBjMd"
      },
      "execution_count": null,
      "outputs": []
    },
    {
      "cell_type": "code",
      "source": [
        "%%bash\n",
        "\n",
        "ls directorio_01"
      ],
      "metadata": {
        "id": "qEZ0i7ErBjPU"
      },
      "execution_count": null,
      "outputs": []
    },
    {
      "cell_type": "code",
      "source": [
        "%%bash\n",
        "\n",
        "rm -r directorio_01"
      ],
      "metadata": {
        "id": "s3-koc2kBjUw"
      },
      "execution_count": null,
      "outputs": []
    },
    {
      "cell_type": "markdown",
      "source": [
        "### `cp`"
      ],
      "metadata": {
        "id": "_3JoVq35BX5X"
      }
    },
    {
      "cell_type": "markdown",
      "source": [
        "Nos ayuda a copiar archivos"
      ],
      "metadata": {
        "id": "1iWRUtd6BYIY"
      }
    },
    {
      "cell_type": "code",
      "source": [
        "%%bash\n",
        "\n",
        "echo 'archivo de allan' > allan_ejemplo.txt\n",
        "mkdir directorio_nuevo"
      ],
      "metadata": {
        "id": "3hrZyscOARDd"
      },
      "execution_count": null,
      "outputs": []
    },
    {
      "cell_type": "markdown",
      "source": [
        "Con el siguiente comando copiamos el archivo `allan_ejemplo.txt` y creamos una copia con el nombre `allan_ejemplo_2.txt`"
      ],
      "metadata": {
        "id": "X7GOUniMDSHj"
      }
    },
    {
      "cell_type": "code",
      "source": [
        "%%bash\n",
        "\n",
        "cp allan_ejemplo.txt allan_ejemplo_2.txt"
      ],
      "metadata": {
        "id": "HgkBKqHbARNT"
      },
      "execution_count": null,
      "outputs": []
    },
    {
      "cell_type": "markdown",
      "source": [
        "Para copiar un archivo a otro directorio podemos usar:"
      ],
      "metadata": {
        "id": "560AIiRADpAy"
      }
    },
    {
      "cell_type": "code",
      "source": [
        "%%bash\n",
        "\n",
        "cp allan_ejemplo.txt ./directorio_nuevo"
      ],
      "metadata": {
        "id": "CE0azcFLDtpt"
      },
      "execution_count": null,
      "outputs": []
    },
    {
      "cell_type": "markdown",
      "source": [
        "Para copiar dos o mas archivos simplemente enlistamos antes de indicar el destino"
      ],
      "metadata": {
        "id": "AK4RecdPD-mU"
      }
    },
    {
      "cell_type": "code",
      "source": [
        "%%bash\n",
        "\n",
        "cp allan_ejemplo.txt allan_ejemplo_2.txt ./directorio_nuevo"
      ],
      "metadata": {
        "id": "GflegoZKD9rP"
      },
      "execution_count": null,
      "outputs": []
    },
    {
      "cell_type": "markdown",
      "source": [
        "Eliminamos los archivos"
      ],
      "metadata": {
        "id": "GRaxmMe_E6WE"
      }
    },
    {
      "cell_type": "code",
      "source": [
        "%%bash\n",
        "\n",
        "rm allan_ejemplo.txt allan_ejemplo_2.txt"
      ],
      "metadata": {
        "id": "O0Yv688rEdlo"
      },
      "execution_count": null,
      "outputs": []
    },
    {
      "cell_type": "markdown",
      "source": [
        "Si queremos copiar todos los elementos de un directorio a local por ejemplo, podemos usar el `*`\n",
        "\n",
        "\n",
        "\n",
        "```\n",
        "cp path_origin/* /path_destination \n",
        "```\n",
        "\n"
      ],
      "metadata": {
        "id": "ZRS5ahuWE8n_"
      }
    },
    {
      "cell_type": "markdown",
      "source": [
        "El siguiente comando trae todo el contenido de `./directorio_nuevo` al directorio donde estamos parados"
      ],
      "metadata": {
        "id": "QkdpGsXUFiD3"
      }
    },
    {
      "cell_type": "code",
      "source": [
        "%%bash\n",
        "\n",
        "cp ./directorio_nuevo/* ."
      ],
      "metadata": {
        "id": "lMZWN64GEdwx"
      },
      "execution_count": null,
      "outputs": []
    },
    {
      "cell_type": "markdown",
      "source": [
        "Si queremos copiar directorios completos usamos la bandera `-r`"
      ],
      "metadata": {
        "id": "svijhvFkF69l"
      }
    },
    {
      "cell_type": "code",
      "source": [
        "%%bash\n",
        "\n",
        "cp -r ./directorio_nuevo directorio_2"
      ],
      "metadata": {
        "id": "AXPseVvGEd0i"
      },
      "execution_count": null,
      "outputs": []
    },
    {
      "cell_type": "markdown",
      "source": [
        "__NOTA__: observa que como no existita el directorio de destino, este fue creado"
      ],
      "metadata": {
        "id": "1ayhzXSRGPAR"
      }
    },
    {
      "cell_type": "markdown",
      "source": [
        "### `mv`"
      ],
      "metadata": {
        "id": "0WL-yeT1H9lV"
      }
    },
    {
      "cell_type": "markdown",
      "source": [
        "a diferencia de `cp` que nos ayuda a copiar archivos, `mv` nos permite mover archivos de un directorio a otro (como si estuvieramos arrastrando un archivo en un ambiente grafico)\n",
        "\n",
        "por ejemplo para mover dos archivos un directorio arriba podemos usar\n",
        "\n",
        "\n",
        "```\n",
        "mv archivo1.txt archivo2.txt ..\n",
        "```\n",
        "\n"
      ],
      "metadata": {
        "id": "2z_tL9sNJPdA"
      }
    },
    {
      "cell_type": "markdown",
      "source": [
        "`mv` también nos ayuda a renombrar archivos, debemos tener cuidado con esta operación, reescribir o eliminar archivos puede ser muy fácil.\n",
        "\n",
        "por ejemplo si queremos renombrar un archivo en lugar de especificar un directorio de destino lo que haremos es especificar el nombre del archivo bajo el mismo directorio.\n",
        "\n",
        "por ejemplo:\n",
        "\n",
        "```\n",
        "mv archivo_viejo.txt archivo_nuevo.txt\n",
        "```\n",
        "\n"
      ],
      "metadata": {
        "id": "k8jjhEFGKI90"
      }
    },
    {
      "cell_type": "code",
      "source": [
        "%%bash\n",
        "\n",
        "echo 'archivo nuevo' > archivo_mv.txt\n",
        "mkdir directorio_dos"
      ],
      "metadata": {
        "id": "Z5mTqpt8Ed4c"
      },
      "execution_count": null,
      "outputs": []
    },
    {
      "cell_type": "markdown",
      "source": [
        "Lo renombramos"
      ],
      "metadata": {
        "id": "GgdNKLxbMcjq"
      }
    },
    {
      "cell_type": "code",
      "source": [
        "%%bash\n",
        "\n",
        "mv archivo_mv.txt nombre_nuevo.txt"
      ],
      "metadata": {
        "id": "BKbe7ca6MbNr"
      },
      "execution_count": null,
      "outputs": []
    },
    {
      "cell_type": "markdown",
      "source": [
        "lo movemos al directorio que creamos"
      ],
      "metadata": {
        "id": "UO6-s2KLOVso"
      }
    },
    {
      "cell_type": "code",
      "source": [
        "%%bash\n",
        "\n",
        "mv nombre_nuevo.txt directorio_dos/"
      ],
      "metadata": {
        "id": "HjKpKr1yOVDd"
      },
      "execution_count": null,
      "outputs": []
    },
    {
      "cell_type": "markdown",
      "source": [
        "### head & tail"
      ],
      "metadata": {
        "id": "WZYlkhSSh_uf"
      }
    },
    {
      "cell_type": "markdown",
      "source": [
        "`head` nos ayuda cuando tenemos un archivo y queremos ver su contenido de forma rapida, si queremos ver las primeras 5 lineas usamos `-n 5` por ejemplo:\n",
        "\n",
        "\n",
        "\n",
        "```\n",
        "head -n 5 /path/nombre_del_arvhivo\n",
        "```\n",
        "\n"
      ],
      "metadata": {
        "id": "RVJUP92eDifI"
      }
    },
    {
      "cell_type": "code",
      "source": [
        "# descarguemos un archivo para usarlo como ejemplo\n",
        "# mas adelante explicaremos el comando\n",
        "!wget -O Mall_Customers.csv https://raw.githubusercontent.com/edroga/Datasets_for_projects/main/Mall_Customers.csv"
      ],
      "metadata": {
        "id": "l3j_ftp4iKVn"
      },
      "execution_count": null,
      "outputs": []
    },
    {
      "cell_type": "code",
      "source": [
        "%%bash\n",
        "\n",
        "head -n 3 /content/Mall_Customers.csv"
      ],
      "metadata": {
        "id": "ABIJ_PgjENxi"
      },
      "execution_count": null,
      "outputs": []
    },
    {
      "cell_type": "markdown",
      "source": [
        "### less"
      ],
      "metadata": {
        "id": "2Gt4r8mGhp7W"
      }
    },
    {
      "cell_type": "markdown",
      "source": [
        "Cuando usamos `less` sobre un archivo, podremos inspeccionar ese archivo por partes, sin necesidad de imprimir todo por pantalla, una vez que usamos `less` tenemos dos opciones que podemos usar:\n",
        "\n",
        "* __barra de espacio__ para pasar a la siguiente pagina\n",
        "* __:q__ (introducir por teclado) para salirnos"
      ],
      "metadata": {
        "id": "-cpQfKfsAbcX"
      }
    },
    {
      "cell_type": "code",
      "source": [
        "%%bash\n",
        "\n",
        "less /content/Mall_Customers.csv"
      ],
      "metadata": {
        "id": "_rThFWwRC0KS"
      },
      "execution_count": null,
      "outputs": []
    },
    {
      "cell_type": "markdown",
      "source": [
        "### wc"
      ],
      "metadata": {
        "id": "szNSFp7BIt0E"
      }
    },
    {
      "cell_type": "markdown",
      "source": [
        "`wc` (word count) imprime el n'umero de caracteres, palabras y lineas de un archivo.\n",
        "\n",
        "* `-c` para obtener el conteo de caracteres en un archivo\n",
        "* `-w` para obtener el conteo de palabras en un archivo\n",
        "* `-l` para obtener el conteo de lineas en un archivo\n"
      ],
      "metadata": {
        "id": "j5xbiwgG_1Zp"
      }
    },
    {
      "cell_type": "code",
      "source": [
        "%%bash\n",
        "\n",
        "wc -c /content/Mall_Customers.csv"
      ],
      "metadata": {
        "id": "C8elF1sfA97c"
      },
      "execution_count": null,
      "outputs": []
    },
    {
      "cell_type": "code",
      "source": [
        "%%bash\n",
        "\n",
        "wc -w /content/Mall_Customers.csv"
      ],
      "metadata": {
        "id": "oqersgteBEV9"
      },
      "execution_count": null,
      "outputs": []
    },
    {
      "cell_type": "code",
      "source": [
        "%%bash\n",
        "\n",
        "wc -l /content/Mall_Customers.csv"
      ],
      "metadata": {
        "id": "M4lkWNmGBEd5"
      },
      "execution_count": null,
      "outputs": []
    },
    {
      "cell_type": "markdown",
      "source": [
        "### cut"
      ],
      "metadata": {
        "id": "qlNROKPAFyLx"
      }
    },
    {
      "cell_type": "markdown",
      "source": [
        "Si queremos seleccionar especificamente una columna de un archivo, podemos usar `cut`, por ejemplo:\n",
        "\n",
        "\n",
        "\n",
        "```\n",
        "cut -f 2-5,8 -d , archivo.csv\n",
        "```\n",
        "\n",
        "Esto seleccionar'a de la columna 2 a la 5 y la columna 8 de archivo.txt"
      ],
      "metadata": {
        "id": "m4fdfNtNF10-"
      }
    },
    {
      "cell_type": "code",
      "source": [
        "%%bash\n",
        "\n",
        "head -n 3 /content/Mall_Customers.csv"
      ],
      "metadata": {
        "id": "wAUroAP8GAof"
      },
      "execution_count": null,
      "outputs": []
    },
    {
      "cell_type": "code",
      "source": [
        "%%bash\n",
        "\n",
        "cut -f 3,5 -d, /content/Mall_Customers.csv"
      ],
      "metadata": {
        "id": "P66bqpGeF1TV"
      },
      "execution_count": null,
      "outputs": []
    },
    {
      "cell_type": "markdown",
      "source": [
        "### grep"
      ],
      "metadata": {
        "id": "_qxE0Na7Iobw"
      }
    },
    {
      "cell_type": "markdown",
      "source": [
        "`grep` nos ayuda a filtrar informaci'on, selecciona lineas de con base en su contenido.\n",
        "\n",
        "Por ejemplo si queremos del fichero `Mall_Customers.csv` en als lineas donde aparece el numero 77, podemos hacerlo con:"
      ],
      "metadata": {
        "id": "FyP4mfEn1ewl"
      }
    },
    {
      "cell_type": "code",
      "source": [
        "%%bash\n",
        "grep 77 /content/Mall_Customers.csv"
      ],
      "metadata": {
        "id": "5bPgoPZK2VFa"
      },
      "execution_count": null,
      "outputs": []
    },
    {
      "cell_type": "markdown",
      "source": [
        "Algunas de las opciones mas usadas de `grep` son:\n",
        "\n",
        "* -`c`: Imprime el conteo de las lineas coincidentes encontradas\n",
        "* -`h`: No imprime el nombre del archivo si se busca en multiples archivos\n",
        "* -`i`: Ignora min'usculas y masy'usculas, los casos son tratados por igual \n",
        "* -`l`: Imprime los nombres de los archivos que contienen las coincidencias encontradas y no las coincidencias\n",
        "* -`n`: Imprime el numero de las lineas a los que corresponden las coincidencias encontradas\n",
        "* -`v`: Invierte la busqueda e imprime el complemento de las lineas coincidentes encontradas"
      ],
      "metadata": {
        "id": "KwC-8Kiq3Kfs"
      }
    },
    {
      "cell_type": "code",
      "source": [
        "%%bash\n",
        "grep -c Female /content/Mall_Customers.csv"
      ],
      "metadata": {
        "id": "goBuEcRXE3Ra"
      },
      "execution_count": null,
      "outputs": []
    },
    {
      "cell_type": "code",
      "source": [
        "%%bash\n",
        "grep -c Male /content/Mall_Customers.csv"
      ],
      "metadata": {
        "id": "uEYERBsRE3YN"
      },
      "execution_count": null,
      "outputs": []
    },
    {
      "cell_type": "markdown",
      "source": [
        "### Pipe `|`"
      ],
      "metadata": {
        "id": "0FhN_slcVzcf"
      }
    },
    {
      "cell_type": "markdown",
      "source": [
        "El pipe nos ayuda a pasar el `stdout` de un comando (ubicado a la izquierda del `|`) y conectarlo como el `stdin` de otro comando (ubicado a la derecha del `|`)"
      ],
      "metadata": {
        "id": "JXZU5TO9Vzii"
      }
    },
    {
      "cell_type": "code",
      "source": [
        "%%bash\n",
        "\n",
        "date > date.txt"
      ],
      "metadata": {
        "id": "FfAKC9OfVzrU"
      },
      "execution_count": null,
      "outputs": []
    },
    {
      "cell_type": "code",
      "source": [
        "%%bash\n",
        "\n",
        "head -n 10 date.txt"
      ],
      "metadata": {
        "id": "Eiqc6-A9WYiy"
      },
      "execution_count": null,
      "outputs": []
    },
    {
      "cell_type": "code",
      "source": [
        " %%bash\n",
        " \n",
        " cut < date.txt --delimiter \" \" --fields 2-4"
      ],
      "metadata": {
        "id": "svuReh3NVzw7"
      },
      "execution_count": null,
      "outputs": []
    },
    {
      "cell_type": "code",
      "source": [
        "%%bash\n",
        "\n",
        "date | cut --delimiter \" \" --fields 2-4"
      ],
      "metadata": {
        "id": "C3-2tDldWPzQ"
      },
      "execution_count": null,
      "outputs": []
    },
    {
      "cell_type": "code",
      "source": [
        "%%bash\n",
        "\n",
        "# date | cut --delimiter \" \" --fields 2-4 > today.txt\n",
        "# date | cut > today.txt --delimiter \" \" --fields 2-4\n",
        "# date | cut --delimiter \" \" > today.txt --fields 2-4"
      ],
      "metadata": {
        "id": "W8tkLzCEWP-C"
      },
      "execution_count": null,
      "outputs": []
    },
    {
      "cell_type": "markdown",
      "source": [
        "Ejemplo 2"
      ],
      "metadata": {
        "id": "sXGH4kBOeDia"
      }
    },
    {
      "cell_type": "markdown",
      "source": [
        "Podemos encadenar muchos comandos con el `|`"
      ],
      "metadata": {
        "id": "Z6mR9cTXfPHx"
      }
    },
    {
      "cell_type": "markdown",
      "source": [
        "Primero descarguemos el archivo `nba.csv`"
      ],
      "metadata": {
        "id": "mog_dvd0fr5u"
      }
    },
    {
      "cell_type": "code",
      "source": [
        "%%bash\n",
        "\n",
        "wget -O nba.csv https://raw.githubusercontent.com/edroga/Datasets_for_projects/main/nba.csv"
      ],
      "metadata": {
        "id": "WsWQRliAWQH8"
      },
      "execution_count": null,
      "outputs": []
    },
    {
      "cell_type": "markdown",
      "source": [
        "Inspeccionemos las primeras 2 filas del archivo"
      ],
      "metadata": {
        "id": "40oTLMltfoCL"
      }
    },
    {
      "cell_type": "code",
      "source": [
        "%%bash\n",
        "\n",
        "head -n 3 nba.csv"
      ],
      "metadata": {
        "id": "h1qvP8zTWQP6"
      },
      "execution_count": null,
      "outputs": []
    },
    {
      "cell_type": "markdown",
      "source": [
        "Seleccionemos la columna __collage__, quitemos el nombre del encabezado de esa columna y luego seleccionemos las primeras 10 lineas."
      ],
      "metadata": {
        "id": "rAkIiLOZfpGl"
      }
    },
    {
      "cell_type": "code",
      "source": [
        "%%bash\n",
        "\n",
        "cut -d , -f 4 nba.csv | grep -v collage | head -n 10"
      ],
      "metadata": {
        "id": "V-T9_LazeXUF"
      },
      "execution_count": null,
      "outputs": []
    },
    {
      "cell_type": "markdown",
      "source": [
        "### sort"
      ],
      "metadata": {
        "id": "bGiKcEaaDJbK"
      }
    },
    {
      "cell_type": "markdown",
      "source": [
        "`sort` ordena la data. por defecto lo hace en orden alfabeticamente ascendente.\n",
        "\n",
        "* `-n` puede ser usado para ordenar numericamente\n",
        "* `-r` puede ser usado para ordenar de forma descendente\n",
        "* `-b` ignora los comienzos con espacios blancos\n",
        "* `-f` ignora si se usan may'usculas o min'usculas"
      ],
      "metadata": {
        "id": "HcJizESKHAAA"
      }
    },
    {
      "cell_type": "code",
      "source": [
        "%%bash\n",
        "\n",
        "cut -d , -f 4 nba.csv | grep -v collage | head -n 15 | sort -f -r"
      ],
      "metadata": {
        "id": "2uwzpQRsHHtX"
      },
      "execution_count": null,
      "outputs": []
    },
    {
      "cell_type": "markdown",
      "source": [
        "### uniq"
      ],
      "metadata": {
        "id": "EZW0MXYQHykK"
      }
    },
    {
      "cell_type": "markdown",
      "source": [
        "`uniq` nos ayuda a quitar lineas duplicadas. mas precisamente remueve lineas adyacentes duplicadas en un archivo, por eso es importante ordenarlo primero.\n",
        "\n",
        "por ejemplo, si un archivo contiene:\n",
        "\n",
        "* 2017-07-03\n",
        "* 2017-07-03\n",
        "* 2017-08-03\n",
        "* 2017-08-03\n",
        "\n",
        "Entonces, si usamos `uniq`, esto producir'a:\n",
        "\n",
        "* 2017-07-03\n",
        "* 2017-08-03\n",
        "\n",
        "Pero si el archivo se encuentra de la siguiente forma:\n",
        "\n",
        "* 2017-07-03\n",
        "* 2017-08-03\n",
        "* 2017-07-03\n",
        "* 2017-08-03\n",
        "\n",
        "Entonces `uniq` regresara las cuatro lineas ya que `uniq` esta disen'ado para trabajar con archivos muy grandes."
      ],
      "metadata": {
        "id": "8waLyy2mH0cm"
      }
    },
    {
      "cell_type": "code",
      "source": [
        "%%bash\n",
        "\n",
        "cut -d , -f 4 nba.csv | grep -v collage | sort -f -r | head -n 100 | uniq"
      ],
      "metadata": {
        "id": "thYIsI8wH0vH"
      },
      "execution_count": null,
      "outputs": []
    },
    {
      "cell_type": "markdown",
      "source": [
        "Si queremos saber la frecuencia de las apariciones de cada clase, podemos emplear `-c`"
      ],
      "metadata": {
        "id": "51arBPAToGdA"
      }
    },
    {
      "cell_type": "code",
      "source": [
        "%%bash\n",
        "\n",
        "cut -d , -f 4 nba.csv | grep -v collage | sort -f -r | head -n 100 | uniq -c"
      ],
      "metadata": {
        "id": "uG9Ud3eioO2-"
      },
      "execution_count": null,
      "outputs": []
    },
    {
      "cell_type": "markdown",
      "source": [
        "### wildcards"
      ],
      "metadata": {
        "id": "y9K_wRlBClAy"
      }
    },
    {
      "cell_type": "markdown",
      "source": [
        "La linea de comando nos permite el uso de __wildcards__ para especificar una lista de archivos/lineas con una sola expresi'on. las __wildcards__ mas comunes son:\n",
        "\n",
        "* `*` para la coincidencia de cero o mas caracteres"
      ],
      "metadata": {
        "id": "3g6iOoXo2y9O"
      }
    },
    {
      "cell_type": "code",
      "source": [
        "%%bash\n",
        "\n",
        "ls -l /bin/z*"
      ],
      "metadata": {
        "id": "ZbDsfpnUzIU_"
      },
      "execution_count": null,
      "outputs": []
    },
    {
      "cell_type": "markdown",
      "source": [
        "* `?` es para usar como comodin con un caracter"
      ],
      "metadata": {
        "id": "3rGRpy2O6t7E"
      }
    },
    {
      "cell_type": "code",
      "source": [
        "%%bash\n",
        "\n",
        "ls -l /bin/z?grep"
      ],
      "metadata": {
        "id": "j-UwvPrV663P"
      },
      "execution_count": null,
      "outputs": []
    },
    {
      "cell_type": "markdown",
      "source": [
        "* `[...]` regresa las coincidencias con cualquiera de los caracteres que se encuentren dentro de los brackets"
      ],
      "metadata": {
        "id": "5aSNJ6M287wV"
      }
    },
    {
      "cell_type": "code",
      "source": [
        "%%bash\n",
        "\n",
        "ls -l /bin/zc[am][pt]"
      ],
      "metadata": {
        "id": "Cfkw8Lwr87O2"
      },
      "execution_count": null,
      "outputs": []
    },
    {
      "cell_type": "markdown",
      "source": [
        "### tab completion"
      ],
      "metadata": {
        "id": "mpVj9EjIiifc"
      }
    },
    {
      "cell_type": "markdown",
      "source": [
        "Cuando estamos escribiendo el nombre de un archivo/directorio sobre la linea de comando y usamos la tecla `tab` esta intentara completar la palabra"
      ],
      "metadata": {
        "id": "nn-a240JGi-e"
      }
    },
    {
      "cell_type": "markdown",
      "source": [
        "### ctrl + c"
      ],
      "metadata": {
        "id": "lGZ7fIH0Im5U"
      }
    },
    {
      "cell_type": "markdown",
      "source": [
        "Si queremo que un programa detenga su ejecuci'on podemos escribir Ctrl + C para finalizarlo. Esto a menudo se escribe ^C en la documentación de Unix; tenga en cuenta que la 'c' puede estar en minúsculas."
      ],
      "metadata": {
        "id": "ttUXh4GsIrJO"
      }
    },
    {
      "cell_type": "markdown",
      "source": [
        "### environment variables"
      ],
      "metadata": {
        "id": "jcEVjtywKIu5"
      }
    },
    {
      "cell_type": "markdown",
      "source": [
        "Las variables de ambiente se escriben en may'usculas, algunas de las mas comunes son:"
      ],
      "metadata": {
        "id": "iW71TKB_zMbq"
      }
    },
    {
      "cell_type": "markdown",
      "source": [
        "|Variable |Purpose |Value|\n",
        "|------|------|------|\n",
        "|HOME|User's home directory|/home/repl|\n",
        "|PWD |Present working directory |Same as pwd command|\n",
        "|SHELL |Which shell program is being used |/bin/bash|\n",
        "|USER |User's ID |repl|"
      ],
      "metadata": {
        "id": "XTG2iQNXKPa6"
      }
    },
    {
      "cell_type": "markdown",
      "source": [
        "Para obtener un listado completo de las variables de ambiente, podemos escribir `set` en la linea de comando."
      ],
      "metadata": {
        "id": "AOVtMvH8K_OE"
      }
    },
    {
      "cell_type": "markdown",
      "source": [
        "### shell variable"
      ],
      "metadata": {
        "id": "5XI8RN3yNOdr"
      }
    },
    {
      "cell_type": "markdown",
      "source": [
        "Las varibles shell son como las variables locales para los lenguajes de programaci'on.\n",
        "\n",
        "Para crearlas solo debemos asignar el valor a un nombre, por ejemplo:\n",
        "\n",
        "\n",
        "\n",
        "```\n",
        "documento=archivo1999.csv\n",
        "```\n",
        "\n",
        "__NOTAS__: \n",
        "\n",
        "* No debemos colocar espacios en blanco antes ni despues del `=`\n",
        "* Despues de que la variable ha sido asignada, podemos revisar su valor con `$var_name`"
      ],
      "metadata": {
        "id": "4FKeNGWJNOkD"
      }
    },
    {
      "cell_type": "markdown",
      "source": [
        "### variable's value"
      ],
      "metadata": {
        "id": "PspUXOO3LPRb"
      }
    },
    {
      "cell_type": "markdown",
      "source": [
        "to print a variable's value you can use `echo`, which prints its arguments.\n",
        "\n",
        "If you try to use it to print a variable's value like this:\n",
        "\n",
        "echo USER\n",
        "it will print the variable's name, USER.\n",
        "\n",
        "To get the variable's value, you must put a dollar sign $ in front of it. Typing\n",
        "\n",
        "echo $USER"
      ],
      "metadata": {
        "id": "yYjrZWexLPoM"
      }
    },
    {
      "cell_type": "code",
      "source": [
        "%%bash\n",
        "\n",
        "echo $OSTYPE"
      ],
      "metadata": {
        "id": "B4z6X2VDKJKq"
      },
      "execution_count": null,
      "outputs": []
    },
    {
      "cell_type": "markdown",
      "source": [
        "### for loop"
      ],
      "metadata": {
        "id": "WULQ431eQEFL"
      }
    },
    {
      "cell_type": "markdown",
      "source": [
        "Shell variables are also used in loops, which repeat commands many times. If we run this command:"
      ],
      "metadata": {
        "id": "7_tufY-PQEPT"
      }
    },
    {
      "cell_type": "code",
      "source": [
        "%%bash\n",
        "\n",
        "for i in 1 2 3 4 5; do echo \"Welcome $i times\"; done"
      ],
      "metadata": {
        "id": "lXG8pf8tQErs"
      },
      "execution_count": null,
      "outputs": []
    },
    {
      "cell_type": "markdown",
      "source": [
        "Notice these things about the loop:\n",
        "\n",
        "The structure is \n",
        "\n",
        "`for …variable… in …list… ; do …body… ; done`\n",
        "\n",
        "\n",
        "* The list of things the loop is to process (in our case, 1, 2, 3, 4, 5).\n",
        "\n",
        "* The variable that keeps track of which thing the loop is currently processing (in our case, i).\n",
        "\n",
        "* The body of the loop that does the processing (in our case, echo $i).\n",
        "\n",
        "Notice that the body uses `$i` to get the variable's value instead of just `i`, just like it does with any other shell variable. Also notice where the semi-colons go: the first one comes between the list and the keyword do, and the second comes between the body and the keyword done."
      ],
      "metadata": {
        "id": "pit_cih6Qb-X"
      }
    },
    {
      "cell_type": "code",
      "source": [
        "%%bash\n",
        "\n",
        "for i in /bin/z*; do echo \"$i\"; done"
      ],
      "metadata": {
        "id": "uKTyNI65Ro2t"
      },
      "execution_count": null,
      "outputs": []
    },
    {
      "cell_type": "code",
      "source": [
        "%%bash\n",
        "\n",
        "for i in /bin/z*; do echo \"$i\" | cut -f 3 -d /; done"
      ],
      "metadata": {
        "id": "xgGHgyHET0iP"
      },
      "execution_count": null,
      "outputs": []
    },
    {
      "cell_type": "code",
      "source": [
        "%%bash\n",
        "\n",
        "for i in /bin/z*; do echo \"$i\" | cut -f 3 -d /; echo $i 'finalizado' ; echo '--------'; done"
      ],
      "metadata": {
        "id": "BuD8AXmUVxJB"
      },
      "execution_count": null,
      "outputs": []
    },
    {
      "cell_type": "markdown",
      "source": [
        "### spaces in filenames"
      ],
      "metadata": {
        "id": "HjIbEYdoVOxJ"
      }
    },
    {
      "cell_type": "markdown",
      "source": [
        "We shouldn't use spaces in filenames, it's easy and sensible to give files multi-word names like July 2017.csv when you are using a graphical file explorer. However, this causes problems when you are working in the shell. For example, suppose you wanted to rename July 2017.csv to be 2017 July data.csv. You cannot type:\n",
        "\n",
        "`mv July 2017.csv 2017 July data.csv`\n",
        "\n",
        "\n",
        "because it looks to the shell as though you are trying to move four files called July, 2017.csv, 2017, and July (again) into a directory called data.csv. Instead, you have to quote the files' names so that the shell treats each one as a single parameter:\n",
        "\n",
        "`mv 'July 2017.csv' '2017 July data.csv'`"
      ],
      "metadata": {
        "id": "ffEB0VgmVO5o"
      }
    },
    {
      "cell_type": "markdown",
      "source": [
        "### man"
      ],
      "metadata": {
        "id": "ckxh2Y2-FoC_"
      }
    },
    {
      "cell_type": "markdown",
      "source": [
        "To find out what commands do, people used to use the man command (short for \"manual\"). For example, the command man head brings up this information:"
      ],
      "metadata": {
        "id": "CaFh7KpuFxGa"
      }
    },
    {
      "cell_type": "code",
      "source": [
        "# !man head"
      ],
      "metadata": {
        "id": "BaB5m6QEFp6s"
      },
      "execution_count": null,
      "outputs": []
    },
    {
      "cell_type": "markdown",
      "source": [
        "man automatically invokes less, so you may need to press spacebar to page through the information and :q to quit.\n",
        "\n",
        "The one-line description under NAME tells you briefly what the command does, and the summary under SYNOPSIS lists all the flags it understands. Anything that is optional is shown in square brackets [...], either/or alternatives are separated by |, and things that can be repeated are shown by ..., so head's manual page is telling you that you can either give a line count with -n or a byte count with -c, and that you can give it any number of filenames."
      ],
      "metadata": {
        "id": "BBcOqDuWGDpJ"
      }
    },
    {
      "cell_type": "markdown",
      "source": [
        "### curl"
      ],
      "metadata": {
        "id": "WjDfENgVD7lB"
      }
    },
    {
      "cell_type": "markdown",
      "source": [
        "* __C__lient for __URLs__\n",
        "* Transfers data to and from servers\n",
        "* It is used to download data from HTTP(S) sites and FTP servers"
      ],
      "metadata": {
        "id": "5yKCk8geEDrP"
      }
    },
    {
      "cell_type": "markdown",
      "source": [
        "basic curl syntax:\n",
        "\n",
        "`curl [option flags] [URL]`\n",
        "\n",
        "curl supports many protocol calls like `HTTP`, `HTTPS`, `FTP` and `SFTP`"
      ],
      "metadata": {
        "id": "reYN5D_vE7s5"
      }
    },
    {
      "cell_type": "markdown",
      "source": [
        "the flag `-O` is used to save a file with its original name"
      ],
      "metadata": {
        "id": "FSRzzidAGqZb"
      }
    },
    {
      "cell_type": "code",
      "source": [
        "%%bash\n",
        "curl -O https://raw.githubusercontent.com/edroga/Datasets_for_projects/main/Mall_Customers.csv"
      ],
      "metadata": {
        "id": "1KiUmLR8E5jc"
      },
      "execution_count": null,
      "outputs": []
    },
    {
      "cell_type": "markdown",
      "source": [
        "to save a file with a different name, use `-o` followed by the new name"
      ],
      "metadata": {
        "id": "T3fb7229HDgD"
      }
    },
    {
      "cell_type": "code",
      "source": [
        "%%bash\n",
        "curl -o NewMall_Customers2.csv https://raw.githubusercontent.com/edroga/Datasets_for_projects/main/Mall_Customers.csv"
      ],
      "metadata": {
        "id": "Ig2nfLLIHMqs"
      },
      "execution_count": null,
      "outputs": []
    },
    {
      "cell_type": "markdown",
      "source": [
        "### wget"
      ],
      "metadata": {
        "id": "FhZFH5FrEAmB"
      }
    },
    {
      "cell_type": "markdown",
      "source": [
        "* Stands for __World Wide Web__ and __get__\n",
        "* It is used to download data from HTTP(s) and FTP (file, directories or webpages)\n",
        "* Better than `curl` at downloading multiple files recursively"
      ],
      "metadata": {
        "id": "DxWpg0fkKVjR"
      }
    },
    {
      "cell_type": "markdown",
      "source": [
        "basic wget syntax:\n",
        "\n",
        "`wget [option flags] [URL]`\n",
        "\n",
        "wget supports many protocol calls like `HTTP`, `HTTPS`, `FTP` and `SFTP`"
      ],
      "metadata": {
        "id": "7C7z5LwzLh7W"
      }
    },
    {
      "cell_type": "markdown",
      "source": [],
      "metadata": {
        "id": "AfMckY1bROLD"
      }
    },
    {
      "cell_type": "markdown",
      "source": [
        "Option flags unique to `wget`\n",
        "\n",
        "* `-b` go to background immediatly after startup\n",
        "* `-q` turn off `wget` output\n",
        "* `-c` resume broken download"
      ],
      "metadata": {
        "id": "VwlD3qlcL0LY"
      }
    },
    {
      "cell_type": "markdown",
      "source": [
        "### ssh"
      ],
      "metadata": {
        "id": "f5tLgTN3OPU5"
      }
    },
    {
      "cell_type": "markdown",
      "source": [
        "SSH or Secure Shell is a network communication protocol that enables two computers to communicate"
      ],
      "metadata": {
        "id": "4_EO8yEgOPrL"
      }
    },
    {
      "cell_type": "markdown",
      "source": [
        "\n",
        "\n",
        "```\n",
        "ssh [username]@[server IP]\n",
        "```\n",
        "\n"
      ],
      "metadata": {
        "id": "wxBRt0kpOh5A"
      }
    },
    {
      "cell_type": "markdown",
      "source": [
        "If we have a key file, then"
      ],
      "metadata": {
        "id": "ZH2ubUpgPN8a"
      }
    },
    {
      "cell_type": "markdown",
      "source": [
        "\n",
        "\n",
        "```\n",
        "ssh -i keyfile [username]@[server IP]\n",
        "```\n",
        "\n"
      ],
      "metadata": {
        "id": "31AQGzySPQ6v"
      }
    },
    {
      "cell_type": "markdown",
      "source": [
        "## csvkit"
      ],
      "metadata": {
        "id": "CT_Q5YfcRKnf"
      }
    },
    {
      "cell_type": "markdown",
      "source": [
        "### Install"
      ],
      "metadata": {
        "id": "KzAMPY7Jj0nu"
      }
    },
    {
      "cell_type": "markdown",
      "source": [
        "Data processing in the command line"
      ],
      "metadata": {
        "id": "f2IXLVrnaZhv"
      }
    },
    {
      "cell_type": "markdown",
      "source": [
        "para instalar csvkit\n",
        "\n",
        "\n",
        "\n",
        "```\n",
        "pip install csvkit\n",
        "```\n",
        "\n"
      ],
      "metadata": {
        "id": "vOxGjmXlbQ5C"
      }
    },
    {
      "cell_type": "markdown",
      "source": [
        "para actualizar csvkit\n",
        "\n",
        "\n",
        "\n",
        "```\n",
        "pip install -- upgrade csvkit\n",
        "```"
      ],
      "metadata": {
        "id": "2m2XxYorbaTb"
      }
    },
    {
      "cell_type": "code",
      "source": [
        "%%bash\n",
        "pip install csvkit"
      ],
      "metadata": {
        "id": "tR-wFkq2bGwx"
      },
      "execution_count": null,
      "outputs": []
    },
    {
      "cell_type": "code",
      "source": [
        "!curl -o nba.csv https://raw.githubusercontent.com/edroga/Datasets_for_projects/main/nba.csv"
      ],
      "metadata": {
        "id": "-gBom2cTKVvl"
      },
      "execution_count": null,
      "outputs": []
    },
    {
      "cell_type": "code",
      "source": [
        "%%bash\n",
        "\n",
        "in2csv -h"
      ],
      "metadata": {
        "id": "g5Mx-QBNFqFj"
      },
      "execution_count": null,
      "outputs": []
    },
    {
      "cell_type": "markdown",
      "source": [
        "### Converting files to csv"
      ],
      "metadata": {
        "id": "0zsO23KQf6q3"
      }
    },
    {
      "cell_type": "markdown",
      "source": [
        "para ver los nombres de las hojas\n",
        "\n",
        "```\n",
        "in2csv -n file_nale.xlsx\n",
        "```\n",
        "\n",
        "para pasar a csv\n",
        "\n",
        "```\n",
        "in2csv file_nale.xlsx --sheet \"hoja1\" > file_nale.csv\n",
        "```\n",
        "\n",
        "\n"
      ],
      "metadata": {
        "id": "yARlxLv0h9Wq"
      }
    },
    {
      "cell_type": "markdown",
      "source": [
        "### data preview"
      ],
      "metadata": {
        "id": "sHhXJirCisDC"
      }
    },
    {
      "cell_type": "code",
      "source": [
        "%%bash\n",
        "head -n 5 nba.csv"
      ],
      "metadata": {
        "id": "8QOr0CuwFqMx"
      },
      "execution_count": null,
      "outputs": []
    },
    {
      "cell_type": "code",
      "source": [
        "%%bash\n",
        "head -n 5 nba.csv | csvlook"
      ],
      "metadata": {
        "id": "8Gx7sb6el4Y-"
      },
      "execution_count": null,
      "outputs": []
    },
    {
      "cell_type": "markdown",
      "source": [
        "### descriptive stats"
      ],
      "metadata": {
        "id": "zQ7OhxTSkFWJ"
      }
    },
    {
      "cell_type": "code",
      "source": [
        "%%bash\n",
        "csvstat nba.csv"
      ],
      "metadata": {
        "id": "hpurqhtFlT67"
      },
      "execution_count": null,
      "outputs": []
    },
    {
      "cell_type": "markdown",
      "source": [
        "### Filtering"
      ],
      "metadata": {
        "id": "sj0BqwU3n81e"
      }
    },
    {
      "cell_type": "markdown",
      "source": [
        "use `csvcut -n` to see all column names"
      ],
      "metadata": {
        "id": "1DDJcSz-ozrZ"
      }
    },
    {
      "cell_type": "code",
      "source": [
        "%%bash\n",
        "csvcut -n nba.csv"
      ],
      "metadata": {
        "id": "zebpoIvKlT9s"
      },
      "execution_count": null,
      "outputs": []
    },
    {
      "cell_type": "markdown",
      "source": [
        "#### Columns"
      ],
      "metadata": {
        "id": "OoTJnYcxpU3p"
      }
    },
    {
      "cell_type": "markdown",
      "source": [
        "`csvcut` to filter data by columns (names or position)"
      ],
      "metadata": {
        "id": "dvsODZf7paqB"
      }
    },
    {
      "cell_type": "markdown",
      "source": [
        "filter by position"
      ],
      "metadata": {
        "id": "FaoyBfcupksJ"
      }
    },
    {
      "cell_type": "code",
      "source": [
        "%%bash\n",
        "csvcut -c 1 nba.csv"
      ],
      "metadata": {
        "id": "4UeT8vix2tsD"
      },
      "execution_count": null,
      "outputs": []
    },
    {
      "cell_type": "code",
      "source": [
        "%%bash\n",
        "csvcut -c 1,3 nba.csv"
      ],
      "metadata": {
        "id": "DLGCeYprqBEW"
      },
      "execution_count": null,
      "outputs": []
    },
    {
      "cell_type": "markdown",
      "source": [
        "filter by column name"
      ],
      "metadata": {
        "id": "dBHStKAwpvNN"
      }
    },
    {
      "cell_type": "code",
      "source": [
        "%%bash\n",
        "csvcut -c \"birth_city\",\"Player\" nba.csv"
      ],
      "metadata": {
        "id": "i_dJZqRspvYi"
      },
      "execution_count": null,
      "outputs": []
    },
    {
      "cell_type": "markdown",
      "source": [
        "#### Rows"
      ],
      "metadata": {
        "id": "ZwTnojGKpYAz"
      }
    },
    {
      "cell_type": "markdown",
      "source": [
        "`csvgrep` to filter data by row (exact match, pattern matching, regex) and must be paired with one of these options:\n",
        "\n",
        "* `-m` followed by the exact row value to filter\n",
        "* `-r` followed with a regex pattern\n",
        "* `-f` followed by the path to a file"
      ],
      "metadata": {
        "id": "wUF-lE-un_u-"
      }
    },
    {
      "cell_type": "code",
      "source": [
        "%%bash\n",
        "head -n 10 nba.csv | csvlook"
      ],
      "metadata": {
        "id": "3KuUC3Lc2tvd"
      },
      "execution_count": null,
      "outputs": []
    },
    {
      "cell_type": "markdown",
      "source": [
        "By column name"
      ],
      "metadata": {
        "id": "7HvQ5gM0sxw6"
      }
    },
    {
      "cell_type": "code",
      "source": [
        "%%bash\n",
        "csvgrep -c \"birth_city\" -m Savannah nba.csv | csvlook"
      ],
      "metadata": {
        "id": "dZnWfNuIrfDh"
      },
      "execution_count": null,
      "outputs": []
    },
    {
      "cell_type": "markdown",
      "source": [
        "By column position"
      ],
      "metadata": {
        "id": "m3YvLk0qszBK"
      }
    },
    {
      "cell_type": "code",
      "source": [
        "%%bash\n",
        "csvgrep -c 6 -m Savannah nba.csv | csvlook"
      ],
      "metadata": {
        "id": "J3vgCPp9swg6"
      },
      "execution_count": null,
      "outputs": []
    },
    {
      "cell_type": "markdown",
      "source": [
        "## Bash scripting"
      ],
      "metadata": {
        "id": "fs4oSUoMW1JM"
      }
    },
    {
      "cell_type": "markdown",
      "source": [
        "### Intro"
      ],
      "metadata": {
        "id": "xdisc61udVNs"
      }
    },
    {
      "cell_type": "markdown",
      "source": [
        "A Bash script has a few key defining features:\n",
        "\n",
        "* It usually begins with #!/usr/bash (on its own line)\n",
        "    * So your interpreter knows it is a Bash script and to use Bash located in /usr/bash\n",
        "    * This could be a different path if you installed Bash somewhere else such as /bin/bash (type which bash to check)\n",
        "\n",
        "* Middle lines contain code\n",
        "    * This may be line-by-line commands or programming constructs\n",
        "\n",
        "To save and run:\n",
        "\n",
        "* It has a file extension .sh\n",
        "    * Technically not needed if first line has the she-bang and path to Bash (#!/usr/bash), but a convention\n",
        "    \n",
        "* Can be run in the terminal using bash script_name.sh\n",
        "    * Or if you have mentioned first line (#!/usr/bash) you can simply run using ./script_name.sh\n",
        "\n",
        "\n",
        "\n"
      ],
      "metadata": {
        "id": "J1yv9_1IZVIj"
      }
    },
    {
      "cell_type": "markdown",
      "source": [
        "ejemplo: \n",
        "\n",
        "1. Crea un archvio con el nombre \"ejemplo.sh\"\n",
        "2. Editalo y coloca lo siguiente:\n",
        "\n",
        "```\n",
        "#!/usr/bash\n",
        "echo \"Hello world\"\n",
        "echo \"Hello again world\"\n",
        "```\n",
        "\n",
        "3. en la tarminal ejecuta `bash ejemplo.sh`"
      ],
      "metadata": {
        "id": "hXZ-xYgSbZFm"
      }
    },
    {
      "cell_type": "markdown",
      "source": [
        "Each line of a bash script can be a shell command. Therefore, you can also include pipes in your Bash scripts."
      ],
      "metadata": {
        "id": "8lE9g7bLcQR0"
      }
    },
    {
      "cell_type": "markdown",
      "source": [
        "### STDIN-STDOUT-STDERR"
      ],
      "metadata": {
        "id": "JzYJPdHzaYGt"
      }
    },
    {
      "cell_type": "markdown",
      "source": [
        "In Bash scripting, there are three 'streams' for your program:\n",
        "\n",
        "* STDIN (standard input). A stream of data into the program\n",
        "* STDOUT (standard output). A stream of data out of the program\n",
        "* STDERR (standard error). Errors in your program\n",
        "\n",
        "By default, these streams will come from and write out to the terminal.Though you may see 2> /dev/null in script calls; redirecting STDERR to be deleted. (1> /dev/null would be STDOUT)\n"
      ],
      "metadata": {
        "id": "7Gtg8__EdYFR"
      }
    },
    {
      "cell_type": "markdown",
      "source": [
        "### Arguments"
      ],
      "metadata": {
        "id": "F5w4qOXidd0E"
      }
    },
    {
      "cell_type": "markdown",
      "source": [
        "A key concept in Bash scripting is arguments\n",
        "\n",
        "Bash scripts can take arguments to be used inside by adding a space after the scriptexecution call.\n",
        "\n",
        "* ARGV is the array of all the arguments given to the program\n",
        "\n",
        "* Each argument can be accessed via the `$` notation. The first as `$1`, the second as `$2` etc.\n",
        "\n",
        "* `$@` and `$*` give all the arguments in ARGV\n",
        "\n",
        "* `$#` gives the length (number) of arguments"
      ],
      "metadata": {
        "id": "XQ1KvccceWS9"
      }
    },
    {
      "cell_type": "markdown",
      "source": [
        "ejemplo: \n",
        "\n",
        "1. Crea un archvio con el nombre \"argumentos.sh\"\n",
        "2. Editalo y coloca lo siguiente:\n",
        "\n",
        "```\n",
        "#!/usr/bash\n",
        "echo $1\n",
        "echo $2\n",
        "echo $3\n",
        "echo $@\n",
        "echo \"en total se han introducido \" $# \"argumentos\n",
        "```\n",
        "\n",
        "3. en la tarminal ejecuta `bash argumentos.sh uno dos cuatro nuve once`"
      ],
      "metadata": {
        "id": "y_mmz8BYeRzL"
      }
    },
    {
      "cell_type": "markdown",
      "source": [
        "### python tools"
      ],
      "metadata": {
        "id": "8g5Nd6TTOfhl"
      }
    },
    {
      "cell_type": "markdown",
      "source": [
        "para crear una herramienta en python que podamos controla desde la linea de comando podemos apoyarnos del paquete `argpare`.\n",
        "\n",
        "Por ejemplo si queremos sumar dos numeros usando python pero controlar los argumentos desde la liena de comando, podemos crear un script que se llame `python_sum.py` que contenga:\n",
        "\n",
        "\n",
        "\n",
        "```python\n",
        "import argparse\n",
        "\n",
        "# Create an argument parser\n",
        "parser = argparse.ArgumentParser(description='A script that adds two numbers')\n",
        "\n",
        "# Add two positional arguments\n",
        "parser.add_argument('num1', type=float, help='the first number to add')\n",
        "parser.add_argument('num2', type=float, help='the second number to add')\n",
        "\n",
        "# Parse the arguments\n",
        "args = parser.parse_args()\n",
        "\n",
        "# Add the two numbers and print the result\n",
        "result = args.num1 + args.num2\n",
        "print(f\"la suma de {args.num1} y {args.num2} da: {result}\")\n",
        "```\n",
        "\n",
        "para ejecutar este script con la linea de comando, podemos hacer lo siguiente:\n",
        "\n",
        "```\n",
        "python3 python_sum.py 5.7 6.8\n",
        "```\n",
        "\n",
        "\n"
      ],
      "metadata": {
        "id": "PN4wvKT0Ojy4"
      }
    },
    {
      "cell_type": "markdown",
      "source": [
        "## Ejercicios"
      ],
      "metadata": {
        "id": "p7YZyEyafr-g"
      }
    },
    {
      "cell_type": "markdown",
      "source": [
        "1. descarga el fichero [unirank.csv](https://raw.githubusercontent.com/edroga/Datasets_for_projects/main/unirank.csv) (usando bash)\n",
        "2. Cuantos 'college' se encuentran en el listado?\n",
        "3. Cuantos institutos hay por estado?"
      ],
      "metadata": {
        "id": "VO1OyADtfr7S"
      }
    },
    {
      "cell_type": "code",
      "source": [],
      "metadata": {
        "id": "xtxMtJI6XN3t"
      },
      "execution_count": null,
      "outputs": []
    },
    {
      "cell_type": "code",
      "source": [],
      "metadata": {
        "id": "guuzKiN8XN__"
      },
      "execution_count": null,
      "outputs": []
    },
    {
      "cell_type": "code",
      "source": [],
      "metadata": {
        "id": "Tk3w3NMfXOEW"
      },
      "execution_count": null,
      "outputs": []
    },
    {
      "cell_type": "code",
      "source": [],
      "metadata": {
        "id": "xZmBynh9XOJF"
      },
      "execution_count": null,
      "outputs": []
    },
    {
      "cell_type": "markdown",
      "source": [
        "### |||||||||||||||||||"
      ],
      "metadata": {
        "id": "6C3vgn-HE4-D"
      }
    },
    {
      "cell_type": "code",
      "source": [
        "## Pipe `|`\n",
        "\n",
        "nos ayuda para tomar el `stdout` de un comando y conectarlo como el `stdin` de otro comando\n",
        "\n",
        "!date > date.txt\n",
        "!cut < date.txt --delimiter \" \" --fields 2-4\n",
        "!date | cut --delimiter \" \" --fields 2-4\n",
        "!date | cut --delimiter \" \" --fields 2-4 > today.txt\n",
        "!date | cut > today.txt --delimiter \" \" --fields 2-4\n",
        "!date | cut --delimiter \" \" > today.txt --fields 2-4"
      ],
      "metadata": {
        "id": "iYtfxhvdl4VQ"
      },
      "execution_count": null,
      "outputs": []
    },
    {
      "cell_type": "markdown",
      "source": [
        "### `tee`"
      ],
      "metadata": {
        "id": "U7yBwIvT5wCw"
      }
    },
    {
      "cell_type": "code",
      "source": [
        "!date | tee fulldate.txt | cut --delimiter \" \" --fields 2-4 | tee today.txt"
      ],
      "metadata": {
        "id": "_a2ghllL2tyt"
      },
      "execution_count": null,
      "outputs": []
    },
    {
      "cell_type": "markdown",
      "source": [
        "### `xargs`"
      ],
      "metadata": {
        "id": "Zo3xhmTN6Hr3"
      }
    },
    {
      "cell_type": "code",
      "source": [
        "# no acepta stdin, solo argumentos de la linea de comando\n",
        "!date | echo"
      ],
      "metadata": {
        "id": "TmxrCiAw2t2G"
      },
      "execution_count": null,
      "outputs": []
    },
    {
      "cell_type": "code",
      "source": [
        "!date | xargs echo"
      ],
      "metadata": {
        "id": "9o8glyGR2t49"
      },
      "execution_count": null,
      "outputs": []
    },
    {
      "cell_type": "code",
      "source": [
        "!date | cut --delimiter \" \" --fields 2-4 | xargs echo"
      ],
      "metadata": {
        "id": "k0PHAuU96cwS"
      },
      "execution_count": null,
      "outputs": []
    },
    {
      "cell_type": "markdown",
      "source": [
        "Borremos los archivos"
      ],
      "metadata": {
        "id": "vDp7w47A7qa1"
      }
    },
    {
      "cell_type": "code",
      "source": [
        "cat > filestodelete.txt"
      ],
      "metadata": {
        "id": "XjQDEs_c6c5k"
      },
      "execution_count": null,
      "outputs": []
    },
    {
      "cell_type": "code",
      "source": [
        "!cat filestodelete.txt | rm"
      ],
      "metadata": {
        "id": "5EP1wktp8ARs"
      },
      "execution_count": null,
      "outputs": []
    },
    {
      "cell_type": "code",
      "source": [
        "!cat filestodelete.txt | xargs rm"
      ],
      "metadata": {
        "id": "yavUwNF38AYF"
      },
      "execution_count": null,
      "outputs": []
    },
    {
      "cell_type": "markdown",
      "source": [
        "## Alias"
      ],
      "metadata": {
        "id": "riJtYFh78cSw"
      }
    },
    {
      "cell_type": "code",
      "source": [
        "Python 3 Scripting for System Administrators"
      ],
      "metadata": {
        "id": "UtkM6d1P8SRW"
      },
      "execution_count": null,
      "outputs": []
    },
    {
      "cell_type": "code",
      "source": [],
      "metadata": {
        "id": "Tsv18qVj8SUf"
      },
      "execution_count": null,
      "outputs": []
    },
    {
      "cell_type": "code",
      "source": [],
      "metadata": {
        "id": "NYIuxvhg8SX2"
      },
      "execution_count": null,
      "outputs": []
    },
    {
      "cell_type": "code",
      "source": [],
      "metadata": {
        "id": "XNriIoWX8Sbb"
      },
      "execution_count": null,
      "outputs": []
    },
    {
      "cell_type": "code",
      "source": [
        "..."
      ],
      "metadata": {
        "id": "s_wzlQAx8SfT"
      },
      "execution_count": null,
      "outputs": []
    },
    {
      "cell_type": "code",
      "source": [
        "# Á\n",
        "# á\n",
        "\n",
        "# É\n",
        "# é\n",
        "\n",
        "# Í\n",
        "# í\n",
        "\n",
        "# Ó\n",
        "# ó\n",
        "\n",
        "# Ú\n",
        "# ú\n",
        "\n",
        "# Ñ\n",
        "# ñ"
      ],
      "metadata": {
        "id": "j3kVjRgAkZ6q"
      },
      "execution_count": null,
      "outputs": []
    },
    {
      "cell_type": "code",
      "source": [
        "!curl -o GOBXMU93.xls https://www.ieem.org.mx/numeralia/elecciones/locales/GOB93/GOBXMU93.xls"
      ],
      "metadata": {
        "id": "jJMD-VVEYuXv"
      },
      "execution_count": null,
      "outputs": []
    },
    {
      "cell_type": "code",
      "source": [],
      "metadata": {
        "id": "wPmO6sB0YubA"
      },
      "execution_count": null,
      "outputs": []
    }
  ]
}