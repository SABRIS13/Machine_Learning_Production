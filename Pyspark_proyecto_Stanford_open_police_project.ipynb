{
  "nbformat": 4,
  "nbformat_minor": 0,
  "metadata": {
    "kernelspec": {
      "display_name": "d1-spark2python3",
      "language": "python",
      "name": "spark-python-d1-spark2python3"
    },
    "language_info": {
      "nbconvert_exporter": "python",
      "file_extension": ".py",
      "mimetype": "text/x-python",
      "version": "3.5.2",
      "codemirror_mode": {
        "version": 3,
        "name": "ipython"
      },
      "pygments_lexer": "ipython3",
      "name": "python"
    },
    "colab": {
      "provenance": [],
      "include_colab_link": true
    }
  },
  "cells": [
    {
      "cell_type": "markdown",
      "metadata": {
        "id": "view-in-github",
        "colab_type": "text"
      },
      "source": [
        "<a href=\"https://colab.research.google.com/github/SABRIS13/Machine_Learning_Production/blob/main/Pyspark_proyecto_Stanford_open_police_project.ipynb\" target=\"_parent\"><img src=\"https://colab.research.google.com/assets/colab-badge.svg\" alt=\"Open In Colab\"/></a>"
      ]
    },
    {
      "cell_type": "markdown",
      "metadata": {
        "id": "6NFrSTocismU"
      },
      "source": [
        "# Standford open policing project"
      ]
    },
    {
      "cell_type": "code",
      "source": [
        "!pip install pyspark"
      ],
      "metadata": {
        "id": "2RzfuiUFGfiC",
        "colab": {
          "base_uri": "https://localhost:8080/"
        },
        "outputId": "e0546ed1-e328-4c3b-c12b-44ec375753a4"
      },
      "execution_count": 1,
      "outputs": [
        {
          "output_type": "stream",
          "name": "stdout",
          "text": [
            "Looking in indexes: https://pypi.org/simple, https://us-python.pkg.dev/colab-wheels/public/simple/\n",
            "Collecting pyspark\n",
            "  Downloading pyspark-3.3.2.tar.gz (281.4 MB)\n",
            "\u001b[2K     \u001b[90m━━━━━━━━━━━━━━━━━━━━━━━━━━━━━━━━━━━━━━━\u001b[0m \u001b[32m281.4/281.4 MB\u001b[0m \u001b[31m4.0 MB/s\u001b[0m eta \u001b[36m0:00:00\u001b[0m\n",
            "\u001b[?25h  Preparing metadata (setup.py) ... \u001b[?25l\u001b[?25hdone\n",
            "Collecting py4j==0.10.9.5\n",
            "  Downloading py4j-0.10.9.5-py2.py3-none-any.whl (199 kB)\n",
            "\u001b[2K     \u001b[90m━━━━━━━━━━━━━━━━━━━━━━━━━━━━━━━━━━━━━━━\u001b[0m \u001b[32m199.7/199.7 KB\u001b[0m \u001b[31m9.5 MB/s\u001b[0m eta \u001b[36m0:00:00\u001b[0m\n",
            "\u001b[?25hBuilding wheels for collected packages: pyspark\n",
            "  Building wheel for pyspark (setup.py) ... \u001b[?25l\u001b[?25hdone\n",
            "  Created wheel for pyspark: filename=pyspark-3.3.2-py2.py3-none-any.whl size=281824025 sha256=1387c70f9afcb0cbfbd5ae95903e706572eb39e51b27be3a0a9b0d920c8e39cd\n",
            "  Stored in directory: /root/.cache/pip/wheels/b1/59/a0/a1a0624b5e865fd389919c1a10f53aec9b12195d6747710baf\n",
            "Successfully built pyspark\n",
            "Installing collected packages: py4j, pyspark\n",
            "Successfully installed py4j-0.10.9.5 pyspark-3.3.2\n"
          ]
        }
      ]
    },
    {
      "cell_type": "code",
      "metadata": {
        "id": "yXl4piwKuZxg"
      },
      "source": [
        "# si estamos trabajando en colab, \n",
        "# debemos correr las siguientes líneas:\n",
        "from pyspark.sql import SparkSession\n",
        "spark = SparkSession.builder.getOrCreate()"
      ],
      "execution_count": 2,
      "outputs": []
    },
    {
      "cell_type": "code",
      "metadata": {
        "id": "KL_TP-lkuZ4l"
      },
      "source": [
        "# si estamos trabajando en colab, \n",
        "# podemos montar el drive\n",
        "# from google.colab import drive\n",
        "# drive.mount('/content/drive')"
      ],
      "execution_count": null,
      "outputs": []
    },
    {
      "cell_type": "markdown",
      "metadata": {
        "id": "2quZgsz_po8H"
      },
      "source": [
        "## Antecedentes"
      ]
    },
    {
      "cell_type": "markdown",
      "metadata": {
        "id": "zDgQzrkXpEKK"
      },
      "source": [
        "Trabajaremos datos del proyecto abierto _stanford open policing project_, que cuenta con data de 31 estados de los EUA, pero específicamente trabajaremos con datos del estado de Rhod Island.\n",
        "\n",
        "Este proyecto está relacionado con una serie de investigaciones y publicaciones muy famosas todas hechas en R, pero en este proyecto trabajaremos en spark, si quieren conocer más, pueden visitar la [página oficial](https://openpolicing.stanford.edu/) del proyecto"
      ]
    },
    {
      "cell_type": "markdown",
      "metadata": {
        "id": "5CDs-X2Spp8m"
      },
      "source": [
        "## Preparación de los datos"
      ]
    },
    {
      "cell_type": "markdown",
      "metadata": {
        "id": "SNJr9zFbpvMC"
      },
      "source": [
        "Examina y limpia los datos:"
      ]
    },
    {
      "cell_type": "code",
      "metadata": {
        "id": "MUShcSNOjHe3"
      },
      "source": [
        "from pyspark.sql import functions as F"
      ],
      "execution_count": 3,
      "outputs": []
    },
    {
      "cell_type": "code",
      "source": [
        "!wget -O police_activity.csv https://raw.githubusercontent.com/edroga/Datasets_for_projects/main/police_activity.csv"
      ],
      "metadata": {
        "id": "7W_i-CSwG57o",
        "colab": {
          "base_uri": "https://localhost:8080/"
        },
        "outputId": "e98ca83c-e1a8-42c0-c74a-96a88498d26b"
      },
      "execution_count": 4,
      "outputs": [
        {
          "output_type": "stream",
          "name": "stdout",
          "text": [
            "--2023-03-03 01:06:26--  https://raw.githubusercontent.com/edroga/Datasets_for_projects/main/police_activity.csv\n",
            "Resolving raw.githubusercontent.com (raw.githubusercontent.com)... 185.199.108.133, 185.199.109.133, 185.199.110.133, ...\n",
            "Connecting to raw.githubusercontent.com (raw.githubusercontent.com)|185.199.108.133|:443... connected.\n",
            "HTTP request sent, awaiting response... 200 OK\n",
            "Length: 9128997 (8.7M) [text/plain]\n",
            "Saving to: ‘police_activity.csv’\n",
            "\n",
            "police_activity.csv 100%[===================>]   8.71M  --.-KB/s    in 0.07s   \n",
            "\n",
            "2023-03-03 01:06:26 (124 MB/s) - ‘police_activity.csv’ saved [9128997/9128997]\n",
            "\n"
          ]
        }
      ]
    },
    {
      "cell_type": "code",
      "metadata": {
        "id": "BxTh5haKnFyZ"
      },
      "source": [
        "# Carga los datos\n",
        "ri = spark.read.csv('police_activity.csv',\n",
        "                    sep=',', \n",
        "                    header=True, \n",
        "                    inferSchema=True)"
      ],
      "execution_count": 87,
      "outputs": []
    },
    {
      "cell_type": "code",
      "metadata": {
        "id": "IfZIlYiSnF1C",
        "colab": {
          "base_uri": "https://localhost:8080/"
        },
        "outputId": "4c6059e4-cc96-4670-fe11-38bc3e00d542"
      },
      "source": [
        "# Examina la estructura del DataFrame\n",
        "ri.show(2)"
      ],
      "execution_count": 6,
      "outputs": [
        {
          "output_type": "stream",
          "name": "stdout",
          "text": [
            "+-----+-------------------+-------------------+-----------+-------------+-----------+--------------------+---------+----------------+-----------+------------+-----------+-------------+------------------+--------+\n",
            "|state|          stop_date|          stop_time|county_name|driver_gender|driver_race|       violation_raw|violation|search_conducted|search_type|stop_outcome|is_arrested|stop_duration|drugs_related_stop|district|\n",
            "+-----+-------------------+-------------------+-----------+-------------+-----------+--------------------+---------+----------------+-----------+------------+-----------+-------------+------------------+--------+\n",
            "|   RI|2005-01-04 00:00:00|2023-03-03 12:55:00|       null|            M|      White|Equipment/Inspect...|Equipment|           false|       null|    Citation|      false|     0-15 Min|             false| Zone X4|\n",
            "|   RI|2005-01-23 00:00:00|2023-03-03 23:15:00|       null|            M|      White|            Speeding| Speeding|           false|       null|    Citation|      false|     0-15 Min|             false| Zone K3|\n",
            "+-----+-------------------+-------------------+-----------+-------------+-----------+--------------------+---------+----------------+-----------+------------+-----------+-------------+------------------+--------+\n",
            "only showing top 2 rows\n",
            "\n"
          ]
        }
      ]
    },
    {
      "cell_type": "code",
      "metadata": {
        "id": "0aevlGG-_jzW",
        "colab": {
          "base_uri": "https://localhost:8080/"
        },
        "outputId": "44060532-92f5-41d9-8f52-1733e9f22ec8"
      },
      "source": [
        "# Examina el tipo de datos del DataFrame\n",
        "ri.dtypes"
      ],
      "execution_count": 7,
      "outputs": [
        {
          "output_type": "execute_result",
          "data": {
            "text/plain": [
              "[('state', 'string'),\n",
              " ('stop_date', 'timestamp'),\n",
              " ('stop_time', 'timestamp'),\n",
              " ('county_name', 'string'),\n",
              " ('driver_gender', 'string'),\n",
              " ('driver_race', 'string'),\n",
              " ('violation_raw', 'string'),\n",
              " ('violation', 'string'),\n",
              " ('search_conducted', 'boolean'),\n",
              " ('search_type', 'string'),\n",
              " ('stop_outcome', 'string'),\n",
              " ('is_arrested', 'boolean'),\n",
              " ('stop_duration', 'string'),\n",
              " ('drugs_related_stop', 'boolean'),\n",
              " ('district', 'string')]"
            ]
          },
          "metadata": {},
          "execution_count": 7
        }
      ]
    },
    {
      "cell_type": "code",
      "source": [
        "ri.printSchema()  #útil printSchema cuando tenemos datos anidados"
      ],
      "metadata": {
        "colab": {
          "base_uri": "https://localhost:8080/"
        },
        "id": "Ou-VLgl3Bc5j",
        "outputId": "6765e8ca-7dd9-4c95-8b26-c29a34d9d762"
      },
      "execution_count": 10,
      "outputs": [
        {
          "output_type": "stream",
          "name": "stdout",
          "text": [
            "root\n",
            " |-- state: string (nullable = true)\n",
            " |-- stop_date: timestamp (nullable = true)\n",
            " |-- stop_time: timestamp (nullable = true)\n",
            " |-- county_name: string (nullable = true)\n",
            " |-- driver_gender: string (nullable = true)\n",
            " |-- driver_race: string (nullable = true)\n",
            " |-- violation_raw: string (nullable = true)\n",
            " |-- violation: string (nullable = true)\n",
            " |-- search_conducted: boolean (nullable = true)\n",
            " |-- search_type: string (nullable = true)\n",
            " |-- stop_outcome: string (nullable = true)\n",
            " |-- is_arrested: boolean (nullable = true)\n",
            " |-- stop_duration: string (nullable = true)\n",
            " |-- drugs_related_stop: boolean (nullable = true)\n",
            " |-- district: string (nullable = true)\n",
            "\n"
          ]
        }
      ]
    },
    {
      "cell_type": "code",
      "source": [
        "#Conocer las columnas\n",
        "ri.columns"
      ],
      "metadata": {
        "colab": {
          "base_uri": "https://localhost:8080/"
        },
        "id": "2xkUcH5cBxu0",
        "outputId": "671deb99-05e3-409b-d2df-957a53420494"
      },
      "execution_count": 12,
      "outputs": [
        {
          "output_type": "execute_result",
          "data": {
            "text/plain": [
              "['state',\n",
              " 'stop_date',\n",
              " 'stop_time',\n",
              " 'county_name',\n",
              " 'driver_gender',\n",
              " 'driver_race',\n",
              " 'violation_raw',\n",
              " 'violation',\n",
              " 'search_conducted',\n",
              " 'search_type',\n",
              " 'stop_outcome',\n",
              " 'is_arrested',\n",
              " 'stop_duration',\n",
              " 'drugs_related_stop',\n",
              " 'district']"
            ]
          },
          "metadata": {},
          "execution_count": 12
        }
      ]
    },
    {
      "cell_type": "code",
      "source": [
        "#Conteo de registros\n",
        "ri.count()"
      ],
      "metadata": {
        "colab": {
          "base_uri": "https://localhost:8080/"
        },
        "id": "fI0bGJd2B5iN",
        "outputId": "6286be4b-86f3-4587-9376-29c17eb9905a"
      },
      "execution_count": 13,
      "outputs": [
        {
          "output_type": "execute_result",
          "data": {
            "text/plain": [
              "91741"
            ]
          },
          "metadata": {},
          "execution_count": 13
        }
      ]
    },
    {
      "cell_type": "code",
      "metadata": {
        "id": "xDqa5ZRTnF8T",
        "colab": {
          "base_uri": "https://localhost:8080/"
        },
        "outputId": "cfb05352-e4b0-42d3-f8cf-9fedd8e27529"
      },
      "source": [
        "# Examine las dimensiones del DataFrame (Métodos similares a shape en pandas)\n",
        "ri.count(), len(ri.columns)"
      ],
      "execution_count": 14,
      "outputs": [
        {
          "output_type": "execute_result",
          "data": {
            "text/plain": [
              "(91741, 15)"
            ]
          },
          "metadata": {},
          "execution_count": 14
        }
      ]
    },
    {
      "cell_type": "code",
      "metadata": {
        "id": "yQU-e0SGuL0y",
        "colab": {
          "base_uri": "https://localhost:8080/"
        },
        "outputId": "0e3f8408-a19e-494c-e996-8d7e17f97073"
      },
      "source": [
        "# Usa el método describe sobre el DataFrame\n",
        "ri.describe().show()"
      ],
      "execution_count": 15,
      "outputs": [
        {
          "output_type": "stream",
          "name": "stdout",
          "text": [
            "+-------+-----+-----------+-------------+-----------+-------------+---------+--------------------+-------------+-------------+--------+\n",
            "|summary|state|county_name|driver_gender|driver_race|violation_raw|violation|         search_type| stop_outcome|stop_duration|district|\n",
            "+-------+-----+-----------+-------------+-----------+-------------+---------+--------------------+-------------+-------------+--------+\n",
            "|  count|91741|          0|        86536|      86539|        86539|    86539|                3307|        86539|        86539|   91741|\n",
            "|   mean| null|       null|         null|       null|         null|     null|                null|         null|         null|    null|\n",
            "| stddev| null|       null|         null|       null|         null|     null|                null|         null|         null|    null|\n",
            "|    min|   RI|       null|            F|      Asian|          APB|Equipment|  Incident to Arrest|Arrest Driver|     0-15 Min| Zone K1|\n",
            "|    max|   RI|       null|            M|      White|      Warrant| Speeding|Reasonable Suspicion|      Warning|      30+ Min| Zone X4|\n",
            "+-------+-----+-----------+-------------+-----------+-------------+---------+--------------------+-------------+-------------+--------+\n",
            "\n"
          ]
        }
      ]
    },
    {
      "cell_type": "code",
      "source": [
        "#Seleccionar columnas\n",
        "ri.select('driver_race','driver_gender').show(5)"
      ],
      "metadata": {
        "colab": {
          "base_uri": "https://localhost:8080/"
        },
        "id": "F634CHSwCV7r",
        "outputId": "afac558f-aba9-44a2-a308-c89841d7299f"
      },
      "execution_count": 25,
      "outputs": [
        {
          "output_type": "stream",
          "name": "stdout",
          "text": [
            "+-----------+-------------+\n",
            "|driver_race|driver_gender|\n",
            "+-----------+-------------+\n",
            "|      White|            M|\n",
            "|      White|            M|\n",
            "|      White|            M|\n",
            "|      White|            M|\n",
            "|      White|            F|\n",
            "+-----------+-------------+\n",
            "only showing top 5 rows\n",
            "\n"
          ]
        }
      ]
    },
    {
      "cell_type": "code",
      "metadata": {
        "id": "oSfWDTcmnF3g",
        "colab": {
          "base_uri": "https://localhost:8080/"
        },
        "outputId": "33828642-7664-455d-d314-3191747a18b3"
      },
      "source": [
        "# Cuenta el número de missings por cada columna en el DataFrame\n",
        "(ri\n",
        " .select([F.sum(F.col(c).isNull().cast('int')).alias(c) for c in ri.columns])\n",
        " .show())"
      ],
      "execution_count": 16,
      "outputs": [
        {
          "output_type": "stream",
          "name": "stdout",
          "text": [
            "+-----+---------+---------+-----------+-------------+-----------+-------------+---------+----------------+-----------+------------+-----------+-------------+------------------+--------+\n",
            "|state|stop_date|stop_time|county_name|driver_gender|driver_race|violation_raw|violation|search_conducted|search_type|stop_outcome|is_arrested|stop_duration|drugs_related_stop|district|\n",
            "+-----+---------+---------+-----------+-------------+-----------+-------------+---------+----------------+-----------+------------+-----------+-------------+------------------+--------+\n",
            "|    0|        0|        0|      91741|         5205|       5202|         5202|     5202|               0|      88434|        5202|       5202|         5202|                 0|       0|\n",
            "+-----+---------+---------+-----------+-------------+-----------+-------------+---------+----------------+-----------+------------+-----------+-------------+------------------+--------+\n",
            "\n"
          ]
        }
      ]
    },
    {
      "cell_type": "code",
      "metadata": {
        "id": "bL9CRrPgsJPx"
      },
      "source": [
        "# Elimina las columnas 'county_name', 'state'\n",
        "ri = ri.drop(*['county_name', 'state'])"
      ],
      "execution_count": 23,
      "outputs": []
    },
    {
      "cell_type": "code",
      "metadata": {
        "id": "EFqNu1insJSU",
        "colab": {
          "base_uri": "https://localhost:8080/"
        },
        "outputId": "bf8c3c42-910e-4251-a6f5-cbe88532db66"
      },
      "source": [
        "# Nuevamente examine las dimensiones del DataFrame\n",
        "ri.count(), len(ri.columns)"
      ],
      "execution_count": 26,
      "outputs": [
        {
          "output_type": "execute_result",
          "data": {
            "text/plain": [
              "(91741, 13)"
            ]
          },
          "metadata": {},
          "execution_count": 26
        }
      ]
    },
    {
      "cell_type": "code",
      "metadata": {
        "id": "IgynhD59sJU0"
      },
      "source": [
        "# Elimina los registros que tengan missings en la columna 'driver_gender'\n",
        "ri = ri.dropna(subset=['driver_gender'])"
      ],
      "execution_count": 27,
      "outputs": []
    },
    {
      "cell_type": "code",
      "metadata": {
        "id": "HVTDpUI5sJXj",
        "colab": {
          "base_uri": "https://localhost:8080/"
        },
        "outputId": "95aee075-8cef-489a-8496-211c9c772d49"
      },
      "source": [
        "# Nuevament cuenta el número de missings por cada columna en el DataFrame\n",
        "(ri\n",
        " .select([F.sum(F.col(c).isNull().cast('int')).alias(c) for c in ri.columns])\n",
        " .show())"
      ],
      "execution_count": 28,
      "outputs": [
        {
          "output_type": "stream",
          "name": "stdout",
          "text": [
            "+---------+---------+-------------+-----------+-------------+---------+----------------+-----------+------------+-----------+-------------+------------------+--------+\n",
            "|stop_date|stop_time|driver_gender|driver_race|violation_raw|violation|search_conducted|search_type|stop_outcome|is_arrested|stop_duration|drugs_related_stop|district|\n",
            "+---------+---------+-------------+-----------+-------------+---------+----------------+-----------+------------+-----------+-------------+------------------+--------+\n",
            "|        0|        0|            0|          0|            0|        0|               0|      83229|           0|          0|            0|                 0|       0|\n",
            "+---------+---------+-------------+-----------+-------------+---------+----------------+-----------+------------+-----------+-------------+------------------+--------+\n",
            "\n"
          ]
        }
      ]
    },
    {
      "cell_type": "code",
      "metadata": {
        "id": "EUbiOLNzsJae",
        "colab": {
          "base_uri": "https://localhost:8080/"
        },
        "outputId": "261236fd-c0c8-42bc-f0c2-6edab7395885"
      },
      "source": [
        "# Nuevamente examine las dimensiones del DataFrame\n",
        "ri.count(), len(ri.columns)"
      ],
      "execution_count": 29,
      "outputs": [
        {
          "output_type": "execute_result",
          "data": {
            "text/plain": [
              "(86536, 13)"
            ]
          },
          "metadata": {},
          "execution_count": 29
        }
      ]
    },
    {
      "cell_type": "markdown",
      "metadata": {
        "id": "F3EqdHmX2__I"
      },
      "source": [
        "## Tipos de datos correctos"
      ]
    },
    {
      "cell_type": "code",
      "metadata": {
        "id": "B9bLaYBssJf8",
        "colab": {
          "base_uri": "https://localhost:8080/"
        },
        "outputId": "1eecfc29-a6dc-4bcf-ac4d-01bdf26f8cf2"
      },
      "source": [
        "# Examina las primeras 4 filas del DataFrame\n",
        "ri.show(4)"
      ],
      "execution_count": 30,
      "outputs": [
        {
          "output_type": "stream",
          "name": "stdout",
          "text": [
            "+-------------------+-------------------+-------------+-----------+--------------------+---------+----------------+-----------+-------------+-----------+-------------+------------------+--------+\n",
            "|          stop_date|          stop_time|driver_gender|driver_race|       violation_raw|violation|search_conducted|search_type| stop_outcome|is_arrested|stop_duration|drugs_related_stop|district|\n",
            "+-------------------+-------------------+-------------+-----------+--------------------+---------+----------------+-----------+-------------+-----------+-------------+------------------+--------+\n",
            "|2005-01-04 00:00:00|2023-03-03 12:55:00|            M|      White|Equipment/Inspect...|Equipment|           false|       null|     Citation|      false|     0-15 Min|             false| Zone X4|\n",
            "|2005-01-23 00:00:00|2023-03-03 23:15:00|            M|      White|            Speeding| Speeding|           false|       null|     Citation|      false|     0-15 Min|             false| Zone K3|\n",
            "|2005-02-17 00:00:00|2023-03-03 04:15:00|            M|      White|            Speeding| Speeding|           false|       null|     Citation|      false|     0-15 Min|             false| Zone X4|\n",
            "|2005-02-20 00:00:00|2023-03-03 17:15:00|            M|      White|    Call for Service|    Other|           false|       null|Arrest Driver|       true|    16-30 Min|             false| Zone X1|\n",
            "+-------------------+-------------------+-------------+-----------+--------------------+---------+----------------+-----------+-------------+-----------+-------------+------------------+--------+\n",
            "only showing top 4 rows\n",
            "\n"
          ]
        }
      ]
    },
    {
      "cell_type": "code",
      "metadata": {
        "id": "XXBZDo6FyEM7",
        "colab": {
          "base_uri": "https://localhost:8080/"
        },
        "outputId": "64a75977-e206-487d-a5ec-d86908c26e9f"
      },
      "source": [
        "# Examina los data types del DataFrame\n",
        "ri.dtypes"
      ],
      "execution_count": 31,
      "outputs": [
        {
          "output_type": "execute_result",
          "data": {
            "text/plain": [
              "[('stop_date', 'timestamp'),\n",
              " ('stop_time', 'timestamp'),\n",
              " ('driver_gender', 'string'),\n",
              " ('driver_race', 'string'),\n",
              " ('violation_raw', 'string'),\n",
              " ('violation', 'string'),\n",
              " ('search_conducted', 'boolean'),\n",
              " ('search_type', 'string'),\n",
              " ('stop_outcome', 'string'),\n",
              " ('is_arrested', 'boolean'),\n",
              " ('stop_duration', 'string'),\n",
              " ('drugs_related_stop', 'boolean'),\n",
              " ('district', 'string')]"
            ]
          },
          "metadata": {},
          "execution_count": 31
        }
      ]
    },
    {
      "cell_type": "code",
      "metadata": {
        "id": "0qhF9cAqyX-o"
      },
      "source": [
        "# transforma 'stop_date' and 'stop_time' en una nueva columna con formato datetime llamada stop_datetime\n",
        "ri = (ri.withColumn('stop_datetime', F.concat_ws(' ', 'stop_date', 'stop_time'))\n",
        "        .withColumn('stop_datetime', F.from_unixtime(F.unix_timestamp(F.col('stop_datetime'), 'yyyy-MM-dd HH:mm'))))"
      ],
      "execution_count": 32,
      "outputs": []
    },
    {
      "cell_type": "code",
      "source": [
        "ri.show()"
      ],
      "metadata": {
        "colab": {
          "base_uri": "https://localhost:8080/"
        },
        "id": "SqIngDWuEf9n",
        "outputId": "cd39f609-68f0-45b3-f35e-a5a59e576cbf"
      },
      "execution_count": 36,
      "outputs": [
        {
          "output_type": "stream",
          "name": "stdout",
          "text": [
            "+-----+-------------------+-------------------+-----------+-------------+-----------+--------------------+----------------+----------------+-----------+-------------+-----------+-------------+------------------+--------+\n",
            "|state|          stop_date|          stop_time|county_name|driver_gender|driver_race|       violation_raw|       violation|search_conducted|search_type| stop_outcome|is_arrested|stop_duration|drugs_related_stop|district|\n",
            "+-----+-------------------+-------------------+-----------+-------------+-----------+--------------------+----------------+----------------+-----------+-------------+-----------+-------------+------------------+--------+\n",
            "|   RI|2005-01-04 00:00:00|2023-03-03 12:55:00|       null|            M|      White|Equipment/Inspect...|       Equipment|           false|       null|     Citation|      false|     0-15 Min|             false| Zone X4|\n",
            "|   RI|2005-01-23 00:00:00|2023-03-03 23:15:00|       null|            M|      White|            Speeding|        Speeding|           false|       null|     Citation|      false|     0-15 Min|             false| Zone K3|\n",
            "|   RI|2005-02-17 00:00:00|2023-03-03 04:15:00|       null|            M|      White|            Speeding|        Speeding|           false|       null|     Citation|      false|     0-15 Min|             false| Zone X4|\n",
            "|   RI|2005-02-20 00:00:00|2023-03-03 17:15:00|       null|            M|      White|    Call for Service|           Other|           false|       null|Arrest Driver|       true|    16-30 Min|             false| Zone X1|\n",
            "|   RI|2005-02-24 00:00:00|2023-03-03 01:20:00|       null|            F|      White|            Speeding|        Speeding|           false|       null|     Citation|      false|     0-15 Min|             false| Zone X3|\n",
            "|   RI|2005-03-14 00:00:00|2023-03-03 10:00:00|       null|            F|      White|            Speeding|        Speeding|           false|       null|     Citation|      false|     0-15 Min|             false| Zone K3|\n",
            "|   RI|2005-03-29 00:00:00|2023-03-03 21:55:00|       null|            M|      White|            Speeding|        Speeding|           false|       null|     Citation|      false|     0-15 Min|             false| Zone K3|\n",
            "|   RI|2005-04-04 00:00:00|2023-03-03 21:25:00|       null|            M|      White|            Speeding|        Speeding|           false|       null|     Citation|      false|     0-15 Min|             false| Zone K1|\n",
            "|   RI|2005-07-14 00:00:00|2023-03-03 11:20:00|       null|            F|      White|            Speeding|        Speeding|           false|       null|     Citation|      false|     0-15 Min|             false| Zone X4|\n",
            "|   RI|2005-07-14 00:00:00|2023-03-03 19:55:00|       null|            M|      White|            Speeding|        Speeding|           false|       null|     Citation|      false|     0-15 Min|             false| Zone X4|\n",
            "|   RI|2005-07-18 00:00:00|2023-03-03 19:10:00|       null|            M|      White|            Speeding|        Speeding|           false|       null|     Citation|      false|     0-15 Min|             false| Zone K3|\n",
            "|   RI|2005-07-18 00:00:00|2023-03-03 19:30:00|       null|            F|      White|            Speeding|        Speeding|           false|       null|     Citation|      false|     0-15 Min|             false| Zone K3|\n",
            "|   RI|2005-07-19 00:00:00|2023-03-03 00:30:00|       null|            M|      White|            Speeding|        Speeding|           false|       null|     Citation|      false|     0-15 Min|             false| Zone K3|\n",
            "|   RI|2005-07-24 00:00:00|2023-03-03 20:10:00|       null|            F|      White|            Speeding|        Speeding|           false|       null|     Citation|      false|     0-15 Min|             false| Zone K3|\n",
            "|   RI|2005-08-18 00:00:00|2023-03-03 10:57:00|       null|            F|      White|            Speeding|        Speeding|           false|       null|     Citation|      false|     0-15 Min|             false| Zone K3|\n",
            "|   RI|2005-09-03 00:00:00|2023-03-03 16:02:00|       null|         null|       null|                null|            null|           false|       null|         null|       null|         null|             false| Zone K3|\n",
            "|   RI|2005-09-11 00:00:00|2023-03-03 00:10:00|       null|            M|      White|Other Traffic Vio...|Moving violation|           false|       null|Arrest Driver|       true|      30+ Min|             false| Zone X4|\n",
            "|   RI|2005-09-11 00:00:00|2023-03-03 11:45:00|       null|            F|      White|            Speeding|        Speeding|           false|       null|     Citation|      false|     0-15 Min|             false| Zone X3|\n",
            "|   RI|2005-09-20 00:00:00|2023-03-03 22:25:00|       null|            M|      White|            Speeding|        Speeding|           false|       null|     Citation|      false|     0-15 Min|             false| Zone X4|\n",
            "|   RI|2005-09-29 00:00:00|2023-03-03 15:31:00|       null|            M|      White|Other Traffic Vio...|Moving violation|           false|       null|     Citation|      false|     0-15 Min|             false| Zone X3|\n",
            "+-----+-------------------+-------------------+-----------+-------------+-----------+--------------------+----------------+----------------+-----------+-------------+-----------+-------------+------------------+--------+\n",
            "only showing top 20 rows\n",
            "\n"
          ]
        }
      ]
    },
    {
      "cell_type": "markdown",
      "metadata": {
        "id": "-sZwBk7NQteJ"
      },
      "source": [
        "## ¿Hay evidencia de diferentes delitos cometidos por género?"
      ]
    },
    {
      "cell_type": "markdown",
      "metadata": {
        "id": "36PiCA1awSIA"
      },
      "source": [
        "Crea una tabla con el siguiente formato:\n",
        "\n",
        "\n",
        "|violation| F| M| Total| Fp100_of_Total| Mp100_of_Total|\n",
        "| --| --| --| --| --| --|\n",
        "| Equipment| 2501| 8420| 10921| 0.23| 0.77|\n",
        "| Other| 707| 3702| 4409| 0.16| 0.84|\n",
        "| ...| ...| ...| ...| ...| ...|\n",
        "\n",
        "En donde:\n",
        "\n",
        "+ __Violation__ son las violaciones cometidas\n",
        "+ __F__ cantidad de mujeres que cometen esa violación\n",
        "+ __M__ cantidad de hombres que cometen esa violación\n",
        "+ __Total__ suma de __F__ + __M__\n",
        "+ __Fp100_of_Total__ división de __F__ / __Total__\n",
        "+ __Mp100_of_Total__ división de __F__ y __Total__\n"
      ]
    },
    {
      "cell_type": "code",
      "metadata": {
        "id": "wK-DD3-DsJ4r",
        "colab": {
          "base_uri": "https://localhost:8080/"
        },
        "outputId": "2c1fb15d-6c3d-487b-8e5f-56dfbf63190b"
      },
      "source": [
        "t1 = (ri.dropna(subset=['violation']).groupBy(['violation', 'driver_gender'])\n",
        " .count()\n",
        " .groupBy(\"violation\")\n",
        " .pivot(\"driver_gender\")\n",
        " .sum(\"count\")\n",
        " .withColumn('Total', F.col('F') + F.col('M'))  #Crear columna nueva: \"nombre\" y \"Operación de la columna\"\n",
        " .withColumn('Fp100_of_Total', F.round(F.col('F')/F.col('Total'), 2))\n",
        " .withColumn('Mp100_of_Total', F.round(F.col('M')/F.col('Total'), 2)))\n",
        "\n",
        "t1.show()"
      ],
      "execution_count": 55,
      "outputs": [
        {
          "output_type": "stream",
          "name": "stdout",
          "text": [
            "+-------------------+----+-----+-----+-----+--------------+--------------+\n",
            "|          violation|null|    F|    M|Total|Fp100_of_Total|Mp100_of_Total|\n",
            "+-------------------+----+-----+-----+-----+--------------+--------------+\n",
            "|          Equipment|   1| 2501| 8420|10921|          0.23|          0.77|\n",
            "|              Other|   1|  707| 3702| 4409|          0.16|          0.84|\n",
            "|   Moving violation|null| 3286|12938|16224|           0.2|           0.8|\n",
            "|Registration/plates|null| 1056| 2647| 3703|          0.29|          0.71|\n",
            "|           Speeding|   1|15646|32777|48423|          0.32|          0.68|\n",
            "|          Seat belt|null|  578| 2278| 2856|           0.2|           0.8|\n",
            "+-------------------+----+-----+-----+-----+--------------+--------------+\n",
            "\n"
          ]
        }
      ]
    },
    {
      "cell_type": "markdown",
      "metadata": {
        "id": "laLsi13kyMZe"
      },
      "source": [
        "Agrega dos columnas más a la tabla anterior y llámalas:\n",
        "\n",
        "* __Fp100__ es la división de __F__ / __SUMA(columna F)__\n",
        "* __Mp100__ es la división de __M__ / __SUMA(columna M)__"
      ]
    },
    {
      "cell_type": "code",
      "metadata": {
        "id": "cL8v_Bn93LIJ"
      },
      "source": [
        "TF = t1.select((F.sum('F'))).first()[0]\n",
        "TM = t1.select((F.sum('M'))).first()[0]"
      ],
      "execution_count": 56,
      "outputs": []
    },
    {
      "cell_type": "code",
      "metadata": {
        "id": "hkbt87F93Lr8",
        "colab": {
          "base_uri": "https://localhost:8080/"
        },
        "outputId": "ffacadae-9212-4ea7-a1aa-59777103c0b7"
      },
      "source": [
        "t1.withColumn('Fp100', F.round(F.col('F')/TF, 2)).withColumn('Mp100', F.round(F.col('M')/TM, 2)).show()"
      ],
      "execution_count": 58,
      "outputs": [
        {
          "output_type": "stream",
          "name": "stdout",
          "text": [
            "+-------------------+----+-----+-----+-----+--------------+--------------+-----+-----+\n",
            "|          violation|null|    F|    M|Total|Fp100_of_Total|Mp100_of_Total|Fp100|Mp100|\n",
            "+-------------------+----+-----+-----+-----+--------------+--------------+-----+-----+\n",
            "|          Equipment|   1| 2501| 8420|10921|          0.23|          0.77| 0.11| 0.13|\n",
            "|              Other|   1|  707| 3702| 4409|          0.16|          0.84| 0.03| 0.06|\n",
            "|   Moving violation|null| 3286|12938|16224|           0.2|           0.8| 0.14| 0.21|\n",
            "|Registration/plates|null| 1056| 2647| 3703|          0.29|          0.71| 0.04| 0.04|\n",
            "|           Speeding|   1|15646|32777|48423|          0.32|          0.68| 0.66| 0.52|\n",
            "|          Seat belt|null|  578| 2278| 2856|           0.2|           0.8| 0.02| 0.04|\n",
            "+-------------------+----+-----+-----+-----+--------------+--------------+-----+-----+\n",
            "\n"
          ]
        }
      ]
    },
    {
      "cell_type": "markdown",
      "metadata": {
        "id": "moWgNT6UdZzX"
      },
      "source": [
        "## ¿Impacta el género en quiénes reciben más multas?"
      ]
    },
    {
      "cell_type": "markdown",
      "metadata": {
        "id": "BySTiBWqhgz7"
      },
      "source": [
        "## Analiza el género cuando las violaciones son por _speeding_"
      ]
    },
    {
      "cell_type": "code",
      "metadata": {
        "id": "gKP2B59M5jtM",
        "colab": {
          "base_uri": "https://localhost:8080/"
        },
        "outputId": "972fe717-a581-4511-f205-cf4dc6ce2490"
      },
      "source": [
        "# Filtra el dataset por violation == 'speedong'\n",
        "gender_and_speeding = ri.filter(F.col('violation')=='Speeding')  #Tambien se puede poner where en vez de filter\n",
        "gender_and_speeding.show(5)"
      ],
      "execution_count": 62,
      "outputs": [
        {
          "output_type": "stream",
          "name": "stdout",
          "text": [
            "+-----+-------------------+-------------------+-----------+-------------+-----------+-------------+---------+----------------+-----------+------------+-----------+-------------+------------------+--------+\n",
            "|state|          stop_date|          stop_time|county_name|driver_gender|driver_race|violation_raw|violation|search_conducted|search_type|stop_outcome|is_arrested|stop_duration|drugs_related_stop|district|\n",
            "+-----+-------------------+-------------------+-----------+-------------+-----------+-------------+---------+----------------+-----------+------------+-----------+-------------+------------------+--------+\n",
            "|   RI|2005-01-23 00:00:00|2023-03-03 23:15:00|       null|            M|      White|     Speeding| Speeding|           false|       null|    Citation|      false|     0-15 Min|             false| Zone K3|\n",
            "|   RI|2005-02-17 00:00:00|2023-03-03 04:15:00|       null|            M|      White|     Speeding| Speeding|           false|       null|    Citation|      false|     0-15 Min|             false| Zone X4|\n",
            "|   RI|2005-02-24 00:00:00|2023-03-03 01:20:00|       null|            F|      White|     Speeding| Speeding|           false|       null|    Citation|      false|     0-15 Min|             false| Zone X3|\n",
            "|   RI|2005-03-14 00:00:00|2023-03-03 10:00:00|       null|            F|      White|     Speeding| Speeding|           false|       null|    Citation|      false|     0-15 Min|             false| Zone K3|\n",
            "|   RI|2005-03-29 00:00:00|2023-03-03 21:55:00|       null|            M|      White|     Speeding| Speeding|           false|       null|    Citation|      false|     0-15 Min|             false| Zone K3|\n",
            "+-----+-------------------+-------------------+-----------+-------------+-----------+-------------+---------+----------------+-----------+------------+-----------+-------------+------------------+--------+\n",
            "only showing top 5 rows\n",
            "\n"
          ]
        }
      ]
    },
    {
      "cell_type": "code",
      "metadata": {
        "id": "ptYJ782Q58tj",
        "colab": {
          "base_uri": "https://localhost:8080/"
        },
        "outputId": "1f1d80ec-babe-4115-c380-097d440b78ee"
      },
      "source": [
        "# A partir del DataFrame anterior, calcula en qué terminó el encuentro con la policia 'stop_outcome' por género\n",
        "Outcomes_by_gender =( gender_and_speeding.groupBy(['driver_gender', 'stop_outcome'])\n",
        "                      .count()\n",
        "                      .groupBy('stop_outcome')\n",
        "                      .pivot('driver_gender')\n",
        "                      .sum('count'))\n",
        "Outcomes_by_gender.show(5)"
      ],
      "execution_count": 65,
      "outputs": [
        {
          "output_type": "stream",
          "name": "stdout",
          "text": [
            "+----------------+----+-----+-----+\n",
            "|    stop_outcome|null|    F|    M|\n",
            "+----------------+----+-----+-----+\n",
            "|        Citation|   1|14898|30961|\n",
            "|Arrest Passenger|null|   10|   42|\n",
            "|             N/D|null|   15|   32|\n",
            "|       No Action|null|    6|   35|\n",
            "|   Arrest Driver|null|   90|  521|\n",
            "+----------------+----+-----+-----+\n",
            "only showing top 5 rows\n",
            "\n"
          ]
        }
      ]
    },
    {
      "cell_type": "markdown",
      "metadata": {
        "id": "jqOy6xGhzzRi"
      },
      "source": [
        "A partir del DataFrame anterior, calcula las siguientes variables:\n",
        "\n",
        "* __Fp100__ = __F__ / __SUMA(columna F)__\n",
        "* __Mp100__ = __F__ / __SUMA(columna M)__"
      ]
    },
    {
      "cell_type": "code",
      "metadata": {
        "id": "CQcvmG_068Un"
      },
      "source": [
        "OTF = Outcomes_by_gender.select((F.sum('F'))).first()[0]\n",
        "OTM = Outcomes_by_gender.select((F.sum('M'))).first()[0]"
      ],
      "execution_count": 66,
      "outputs": []
    },
    {
      "cell_type": "code",
      "metadata": {
        "id": "-Tev-gPU7GNZ",
        "colab": {
          "base_uri": "https://localhost:8080/"
        },
        "outputId": "d743a824-4216-4a75-d80d-a94c3b7c9556"
      },
      "source": [
        "Outcomes_by_gender.withColumn('Fp100', F.round(F.col('F')/OTF, 2)).withColumn('Mp100', F.round(F.col('M')/OTM, 2)).show()"
      ],
      "execution_count": 70,
      "outputs": [
        {
          "output_type": "stream",
          "name": "stdout",
          "text": [
            "+----------------+----+-----+-----+-----+-----+\n",
            "|    stop_outcome|null|    F|    M|Fp100|Mp100|\n",
            "+----------------+----+-----+-----+-----+-----+\n",
            "|        Citation|   1|14898|30961| 0.95| 0.94|\n",
            "|Arrest Passenger|null|   10|   42|  0.0|  0.0|\n",
            "|             N/D|null|   15|   32|  0.0|  0.0|\n",
            "|       No Action|null|    6|   35|  0.0|  0.0|\n",
            "|   Arrest Driver|null|   90|  521| 0.01| 0.02|\n",
            "|         Warning|null|  627| 1186| 0.04| 0.04|\n",
            "+----------------+----+-----+-----+-----+-----+\n",
            "\n"
          ]
        }
      ]
    },
    {
      "cell_type": "markdown",
      "metadata": {
        "id": "UN9osIYbldkK"
      },
      "source": [
        "## Calcula el search-rate"
      ]
    },
    {
      "cell_type": "markdown",
      "metadata": {
        "id": "x6v_RL2v0uxZ"
      },
      "source": [
        "Obtén la siguiente tabla:\n",
        "\n",
        "|driver_gender|false|true|Rate|\n",
        "|--|--|--|--|\n",
        "|F|23318| 456|0.019180617481282074|\n",
        "|M|59911|2851| 0.04542557598546892|\n",
        "\n",
        "donde:\n",
        "\n",
        "* __false__ es la cantidad de veces que no se realizó una 'search_conducted'\n",
        "* __true__ es la cantidad de veces que se llevó a cabo una 'search_conducted'\n",
        "* __rate__ es __true__ / (__true__ + __false__)"
      ]
    },
    {
      "cell_type": "code",
      "metadata": {
        "id": "CjG8_Nks76SX",
        "colab": {
          "base_uri": "https://localhost:8080/"
        },
        "outputId": "fc475d12-29f1-4424-f133-9f82a5e9dc1d"
      },
      "source": [
        "(ri.groupBy(['search_conducted', 'driver_gender'])\n",
        " .count()\n",
        " .groupBy(\"driver_gender\")\n",
        " .pivot(\"search_conducted\")\n",
        " .sum(\"count\")\n",
        " .withColumn('Rate', F.col('true')/(F.col('true')+ F.col('false')))\n",
        " ).show()"
      ],
      "execution_count": 71,
      "outputs": [
        {
          "output_type": "stream",
          "name": "stdout",
          "text": [
            "+-------------+-----+----+--------------------+\n",
            "|driver_gender|false|true|                Rate|\n",
            "+-------------+-----+----+--------------------+\n",
            "|            F|23318| 456|0.019180617481282074|\n",
            "|         null| 5205|null|                null|\n",
            "|            M|59911|2851| 0.04542557598546892|\n",
            "+-------------+-----+----+--------------------+\n",
            "\n"
          ]
        }
      ]
    },
    {
      "cell_type": "markdown",
      "metadata": {
        "id": "Zxl7wcS3n-q3"
      },
      "source": [
        "## Análisis de violation"
      ]
    },
    {
      "cell_type": "markdown",
      "metadata": {
        "id": "gEvMBmLpoAXU"
      },
      "source": [
        "Incorpora al DataFrame anterior la variable violation y comprueba si el search-rate varía por clase y género, y responde si los hombres y las mujeres tienden a cometer distintos delitos."
      ]
    },
    {
      "cell_type": "code",
      "metadata": {
        "id": "Xz_7proVB1ir"
      },
      "source": [
        "from pyspark.sql.types import IntegerType"
      ],
      "execution_count": 72,
      "outputs": []
    },
    {
      "cell_type": "code",
      "metadata": {
        "id": "jJw8NBPB_5CJ",
        "colab": {
          "base_uri": "https://localhost:8080/"
        },
        "outputId": "9b49e4c4-c604-426f-d9b5-641943f813c0"
      },
      "source": [
        "(ri.withColumn('search_conducted', F.col('search_conducted').cast(IntegerType()))\n",
        " .groupBy(['violation', 'driver_gender'])\n",
        " .agg(F.avg('search_conducted').alias('mean'))\n",
        " .withColumn('mean', F.round(F.col('mean'),3 ) )\n",
        " .groupBy(\"violation\")\n",
        " .pivot(\"driver_gender\")\n",
        " .sum(\"mean\")\n",
        "#  .withColumn('Rate', F.col('true')/(F.col('true')+ F.col('false')))\n",
        " ).show()"
      ],
      "execution_count": 73,
      "outputs": [
        {
          "output_type": "stream",
          "name": "stdout",
          "text": [
            "+-------------------+----+-----+-----+\n",
            "|          violation|null|    F|    M|\n",
            "+-------------------+----+-----+-----+\n",
            "|               null| 0.0| null| null|\n",
            "|          Equipment| 0.0| 0.04|0.071|\n",
            "|              Other| 0.0|0.041|0.046|\n",
            "|   Moving violation|null|0.039|0.062|\n",
            "|Registration/plates|null|0.055|0.109|\n",
            "|           Speeding| 0.0|0.008|0.028|\n",
            "|          Seat belt|null|0.017|0.035|\n",
            "+-------------------+----+-----+-----+\n",
            "\n"
          ]
        }
      ]
    },
    {
      "cell_type": "markdown",
      "metadata": {
        "id": "QCQImSVOrFBz"
      },
      "source": [
        "## Análisis de los frisks"
      ]
    },
    {
      "cell_type": "markdown",
      "metadata": {
        "id": "DOBAJbiUrFef"
      },
      "source": [
        "Analiza la frecuencia de las clases en search-rate:"
      ]
    },
    {
      "cell_type": "code",
      "metadata": {
        "id": "kugy5e7uFPN_",
        "colab": {
          "base_uri": "https://localhost:8080/"
        },
        "outputId": "c26319e1-bf4f-413f-a488-539d6f02dea3"
      },
      "source": [
        "(ri\n",
        " .groupBy(['search_type'])\n",
        " .count()\n",
        " ).show(truncate=False)"
      ],
      "execution_count": 75,
      "outputs": [
        {
          "output_type": "stream",
          "name": "stdout",
          "text": [
            "+--------------------------------------------------------+-----+\n",
            "|search_type                                             |count|\n",
            "+--------------------------------------------------------+-----+\n",
            "|Protective Frisk                                        |164  |\n",
            "|Inventory,Probable Cause,Protective Frisk               |1    |\n",
            "|Probable Cause                                          |924  |\n",
            "|Inventory,Probable Cause,Reasonable Suspicion           |1    |\n",
            "|Incident to Arrest,Protective Frisk                     |33   |\n",
            "|Inventory,Protective Frisk                              |12   |\n",
            "|null                                                    |88434|\n",
            "|Incident to Arrest,Probable Cause,Reasonable Suspicion  |5    |\n",
            "|Incident to Arrest,Protective Frisk,Reasonable Suspicion|2    |\n",
            "|Incident to Arrest,Inventory,Probable Cause             |35   |\n",
            "|Probable Cause,Protective Frisk                         |35   |\n",
            "|Incident to Arrest                                      |1290 |\n",
            "|Probable Cause,Protective Frisk,Reasonable Suspicion    |5    |\n",
            "|Incident to Arrest,Inventory,Reasonable Suspicion       |4    |\n",
            "|Incident to Arrest,Inventory                            |123  |\n",
            "|Inventory,Reasonable Suspicion                          |2    |\n",
            "|Incident to Arrest,Inventory,Protective Frisk           |18   |\n",
            "|Inventory                                               |219  |\n",
            "|Incident to Arrest,Reasonable Suspicion                 |8    |\n",
            "|Protective Frisk,Reasonable Suspicion                   |19   |\n",
            "+--------------------------------------------------------+-----+\n",
            "only showing top 20 rows\n",
            "\n"
          ]
        }
      ]
    },
    {
      "cell_type": "markdown",
      "metadata": {
        "id": "9mmRQUnOsk4a"
      },
      "source": [
        "### Compara frisk rates por género"
      ]
    },
    {
      "cell_type": "markdown",
      "metadata": {
        "id": "X3U19NDH26_n"
      },
      "source": [
        "1. Elimina los nulos de la variable search_type\n",
        "2. Detecta dónde hay registros relacionados con 'frisk'\n",
        "3. Agrupa por género\n",
        "4. Obtén el promedio por género de los 'frisk'"
      ]
    },
    {
      "cell_type": "code",
      "metadata": {
        "id": "qirI0348FoCR",
        "colab": {
          "base_uri": "https://localhost:8080/"
        },
        "outputId": "a78ac60c-2980-4ee0-ec06-a65731d74301"
      },
      "source": [
        "(ri\n",
        " .dropna(subset = ['search_type'])\n",
        " .withColumn('frisk', F.regexp_extract(F.lower(F.col('search_type') ), '(frisk)', 1))\n",
        " .withColumn('frisk', F.when(F.col('frisk')=='frisk', 1)\n",
        "                       .otherwise(0))\n",
        "\n",
        " .groupBy(['driver_gender'])\n",
        " .agg(F.avg('frisk'))\n",
        " ).show(100, False)"
      ],
      "execution_count": 76,
      "outputs": [
        {
          "output_type": "stream",
          "name": "stdout",
          "text": [
            "+-------------+-------------------+\n",
            "|driver_gender|avg(frisk)         |\n",
            "+-------------+-------------------+\n",
            "|F            |0.07456140350877193|\n",
            "|M            |0.0943528586460891 |\n",
            "+-------------+-------------------+\n",
            "\n"
          ]
        }
      ]
    },
    {
      "cell_type": "markdown",
      "metadata": {
        "id": "6fIf1dj5tSkr"
      },
      "source": [
        "### Calcula el promedio de las horas de arresto por día de la semana"
      ]
    },
    {
      "cell_type": "code",
      "metadata": {
        "id": "si-w_hODLLap",
        "colab": {
          "base_uri": "https://localhost:8080/",
          "height": 802
        },
        "outputId": "d4da9efc-bc04-4f02-ca98-191200315b60"
      },
      "source": [
        "hr_arrest = (ri\n",
        "             .withColumn('is_arrested', F.when(F.col('is_arrested')==True, 1)\n",
        "                                      .otherwise(0))\n",
        "             .withColumn('weekday', F.date_format(F.col('stop_date'), 'E'))\n",
        "             .groupBy(['weekday', F.hour('stop_time').alias('hr')])\n",
        "             .agg(F.avg('is_arrested').alias('avg'))\n",
        "             .groupBy('hr')\n",
        "             .pivot('weekday')\n",
        "             .sum('avg')\n",
        "             .toPandas()\n",
        "             .sort_values(by='hr', ascending = False)\n",
        "             )\n",
        "hr_arrest"
      ],
      "execution_count": 94,
      "outputs": [
        {
          "output_type": "execute_result",
          "data": {
            "text/plain": [
              "    hr       Fri       Mon       Sat       Sun       Thu       Tue       Wed\n",
              "15  23  0.063953  0.035568  0.047500  0.046481  0.039897  0.040691  0.035714\n",
              "1   22  0.069021  0.037773  0.055268  0.047191  0.043478  0.038153  0.020202\n",
              "18  21  0.059441  0.036364  0.053232  0.072289  0.071730  0.057471  0.054878\n",
              "7   20  0.069159  0.028200  0.028668  0.028640  0.044211  0.023641  0.023364\n",
              "9   19  0.039720  0.024590  0.021505  0.044218  0.039216  0.015823  0.031700\n",
              "23  18  0.043165  0.034759  0.020690  0.048148  0.040956  0.048571  0.019499\n",
              "11  17  0.059432  0.036446  0.050847  0.050139  0.019337  0.011933  0.037406\n",
              "4   16  0.023913  0.028933  0.036545  0.044014  0.026316  0.032086  0.038760\n",
              "10  15  0.025039  0.025199  0.031888  0.027548  0.032885  0.032742  0.028090\n",
              "20  14  0.025572  0.031690  0.034606  0.033215  0.022107  0.034653  0.019737\n",
              "3   13  0.030822  0.030956  0.021708  0.028926  0.030973  0.034335  0.027027\n",
              "0   12  0.021834  0.043328  0.035503  0.027508  0.036000  0.041905  0.041667\n",
              "19  11  0.032967  0.031877  0.025050  0.015740  0.019441  0.029340  0.041013\n",
              "17  10  0.028689  0.034709  0.017903  0.026025  0.022449  0.029990  0.030864\n",
              "12   9  0.023913  0.016512  0.023339  0.021159  0.024911  0.030769  0.029050\n",
              "14   8  0.022427  0.021651  0.030730  0.027523  0.018362  0.014825  0.008253\n",
              "16   7  0.016949  0.009790  0.008170  0.009195  0.011006  0.017391  0.012748\n",
              "5    6  0.010830  0.022088  0.011765  0.006826  0.020121  0.009506  0.009960\n",
              "8    5  0.000000  0.000000  0.150000  0.083333  0.045455  0.000000  0.047619\n",
              "13   4  0.029412  0.041667  0.083333  0.034483  0.081633  0.000000  0.000000\n",
              "6    3  0.047619  0.047244  0.066079  0.065574  0.050000  0.042857  0.049645\n",
              "21   2  0.043478  0.051282  0.065180  0.055755  0.057471  0.041667  0.068249\n",
              "2    1  0.061728  0.067474  0.072254  0.056738  0.064309  0.044750  0.046312\n",
              "22   0  0.054475  0.036775  0.045103  0.055276  0.037940  0.042135  0.060907"
            ],
            "text/html": [
              "\n",
              "  <div id=\"df-e1903098-e785-430c-8ce9-a2acaf44fb27\">\n",
              "    <div class=\"colab-df-container\">\n",
              "      <div>\n",
              "<style scoped>\n",
              "    .dataframe tbody tr th:only-of-type {\n",
              "        vertical-align: middle;\n",
              "    }\n",
              "\n",
              "    .dataframe tbody tr th {\n",
              "        vertical-align: top;\n",
              "    }\n",
              "\n",
              "    .dataframe thead th {\n",
              "        text-align: right;\n",
              "    }\n",
              "</style>\n",
              "<table border=\"1\" class=\"dataframe\">\n",
              "  <thead>\n",
              "    <tr style=\"text-align: right;\">\n",
              "      <th></th>\n",
              "      <th>hr</th>\n",
              "      <th>Fri</th>\n",
              "      <th>Mon</th>\n",
              "      <th>Sat</th>\n",
              "      <th>Sun</th>\n",
              "      <th>Thu</th>\n",
              "      <th>Tue</th>\n",
              "      <th>Wed</th>\n",
              "    </tr>\n",
              "  </thead>\n",
              "  <tbody>\n",
              "    <tr>\n",
              "      <th>15</th>\n",
              "      <td>23</td>\n",
              "      <td>0.063953</td>\n",
              "      <td>0.035568</td>\n",
              "      <td>0.047500</td>\n",
              "      <td>0.046481</td>\n",
              "      <td>0.039897</td>\n",
              "      <td>0.040691</td>\n",
              "      <td>0.035714</td>\n",
              "    </tr>\n",
              "    <tr>\n",
              "      <th>1</th>\n",
              "      <td>22</td>\n",
              "      <td>0.069021</td>\n",
              "      <td>0.037773</td>\n",
              "      <td>0.055268</td>\n",
              "      <td>0.047191</td>\n",
              "      <td>0.043478</td>\n",
              "      <td>0.038153</td>\n",
              "      <td>0.020202</td>\n",
              "    </tr>\n",
              "    <tr>\n",
              "      <th>18</th>\n",
              "      <td>21</td>\n",
              "      <td>0.059441</td>\n",
              "      <td>0.036364</td>\n",
              "      <td>0.053232</td>\n",
              "      <td>0.072289</td>\n",
              "      <td>0.071730</td>\n",
              "      <td>0.057471</td>\n",
              "      <td>0.054878</td>\n",
              "    </tr>\n",
              "    <tr>\n",
              "      <th>7</th>\n",
              "      <td>20</td>\n",
              "      <td>0.069159</td>\n",
              "      <td>0.028200</td>\n",
              "      <td>0.028668</td>\n",
              "      <td>0.028640</td>\n",
              "      <td>0.044211</td>\n",
              "      <td>0.023641</td>\n",
              "      <td>0.023364</td>\n",
              "    </tr>\n",
              "    <tr>\n",
              "      <th>9</th>\n",
              "      <td>19</td>\n",
              "      <td>0.039720</td>\n",
              "      <td>0.024590</td>\n",
              "      <td>0.021505</td>\n",
              "      <td>0.044218</td>\n",
              "      <td>0.039216</td>\n",
              "      <td>0.015823</td>\n",
              "      <td>0.031700</td>\n",
              "    </tr>\n",
              "    <tr>\n",
              "      <th>23</th>\n",
              "      <td>18</td>\n",
              "      <td>0.043165</td>\n",
              "      <td>0.034759</td>\n",
              "      <td>0.020690</td>\n",
              "      <td>0.048148</td>\n",
              "      <td>0.040956</td>\n",
              "      <td>0.048571</td>\n",
              "      <td>0.019499</td>\n",
              "    </tr>\n",
              "    <tr>\n",
              "      <th>11</th>\n",
              "      <td>17</td>\n",
              "      <td>0.059432</td>\n",
              "      <td>0.036446</td>\n",
              "      <td>0.050847</td>\n",
              "      <td>0.050139</td>\n",
              "      <td>0.019337</td>\n",
              "      <td>0.011933</td>\n",
              "      <td>0.037406</td>\n",
              "    </tr>\n",
              "    <tr>\n",
              "      <th>4</th>\n",
              "      <td>16</td>\n",
              "      <td>0.023913</td>\n",
              "      <td>0.028933</td>\n",
              "      <td>0.036545</td>\n",
              "      <td>0.044014</td>\n",
              "      <td>0.026316</td>\n",
              "      <td>0.032086</td>\n",
              "      <td>0.038760</td>\n",
              "    </tr>\n",
              "    <tr>\n",
              "      <th>10</th>\n",
              "      <td>15</td>\n",
              "      <td>0.025039</td>\n",
              "      <td>0.025199</td>\n",
              "      <td>0.031888</td>\n",
              "      <td>0.027548</td>\n",
              "      <td>0.032885</td>\n",
              "      <td>0.032742</td>\n",
              "      <td>0.028090</td>\n",
              "    </tr>\n",
              "    <tr>\n",
              "      <th>20</th>\n",
              "      <td>14</td>\n",
              "      <td>0.025572</td>\n",
              "      <td>0.031690</td>\n",
              "      <td>0.034606</td>\n",
              "      <td>0.033215</td>\n",
              "      <td>0.022107</td>\n",
              "      <td>0.034653</td>\n",
              "      <td>0.019737</td>\n",
              "    </tr>\n",
              "    <tr>\n",
              "      <th>3</th>\n",
              "      <td>13</td>\n",
              "      <td>0.030822</td>\n",
              "      <td>0.030956</td>\n",
              "      <td>0.021708</td>\n",
              "      <td>0.028926</td>\n",
              "      <td>0.030973</td>\n",
              "      <td>0.034335</td>\n",
              "      <td>0.027027</td>\n",
              "    </tr>\n",
              "    <tr>\n",
              "      <th>0</th>\n",
              "      <td>12</td>\n",
              "      <td>0.021834</td>\n",
              "      <td>0.043328</td>\n",
              "      <td>0.035503</td>\n",
              "      <td>0.027508</td>\n",
              "      <td>0.036000</td>\n",
              "      <td>0.041905</td>\n",
              "      <td>0.041667</td>\n",
              "    </tr>\n",
              "    <tr>\n",
              "      <th>19</th>\n",
              "      <td>11</td>\n",
              "      <td>0.032967</td>\n",
              "      <td>0.031877</td>\n",
              "      <td>0.025050</td>\n",
              "      <td>0.015740</td>\n",
              "      <td>0.019441</td>\n",
              "      <td>0.029340</td>\n",
              "      <td>0.041013</td>\n",
              "    </tr>\n",
              "    <tr>\n",
              "      <th>17</th>\n",
              "      <td>10</td>\n",
              "      <td>0.028689</td>\n",
              "      <td>0.034709</td>\n",
              "      <td>0.017903</td>\n",
              "      <td>0.026025</td>\n",
              "      <td>0.022449</td>\n",
              "      <td>0.029990</td>\n",
              "      <td>0.030864</td>\n",
              "    </tr>\n",
              "    <tr>\n",
              "      <th>12</th>\n",
              "      <td>9</td>\n",
              "      <td>0.023913</td>\n",
              "      <td>0.016512</td>\n",
              "      <td>0.023339</td>\n",
              "      <td>0.021159</td>\n",
              "      <td>0.024911</td>\n",
              "      <td>0.030769</td>\n",
              "      <td>0.029050</td>\n",
              "    </tr>\n",
              "    <tr>\n",
              "      <th>14</th>\n",
              "      <td>8</td>\n",
              "      <td>0.022427</td>\n",
              "      <td>0.021651</td>\n",
              "      <td>0.030730</td>\n",
              "      <td>0.027523</td>\n",
              "      <td>0.018362</td>\n",
              "      <td>0.014825</td>\n",
              "      <td>0.008253</td>\n",
              "    </tr>\n",
              "    <tr>\n",
              "      <th>16</th>\n",
              "      <td>7</td>\n",
              "      <td>0.016949</td>\n",
              "      <td>0.009790</td>\n",
              "      <td>0.008170</td>\n",
              "      <td>0.009195</td>\n",
              "      <td>0.011006</td>\n",
              "      <td>0.017391</td>\n",
              "      <td>0.012748</td>\n",
              "    </tr>\n",
              "    <tr>\n",
              "      <th>5</th>\n",
              "      <td>6</td>\n",
              "      <td>0.010830</td>\n",
              "      <td>0.022088</td>\n",
              "      <td>0.011765</td>\n",
              "      <td>0.006826</td>\n",
              "      <td>0.020121</td>\n",
              "      <td>0.009506</td>\n",
              "      <td>0.009960</td>\n",
              "    </tr>\n",
              "    <tr>\n",
              "      <th>8</th>\n",
              "      <td>5</td>\n",
              "      <td>0.000000</td>\n",
              "      <td>0.000000</td>\n",
              "      <td>0.150000</td>\n",
              "      <td>0.083333</td>\n",
              "      <td>0.045455</td>\n",
              "      <td>0.000000</td>\n",
              "      <td>0.047619</td>\n",
              "    </tr>\n",
              "    <tr>\n",
              "      <th>13</th>\n",
              "      <td>4</td>\n",
              "      <td>0.029412</td>\n",
              "      <td>0.041667</td>\n",
              "      <td>0.083333</td>\n",
              "      <td>0.034483</td>\n",
              "      <td>0.081633</td>\n",
              "      <td>0.000000</td>\n",
              "      <td>0.000000</td>\n",
              "    </tr>\n",
              "    <tr>\n",
              "      <th>6</th>\n",
              "      <td>3</td>\n",
              "      <td>0.047619</td>\n",
              "      <td>0.047244</td>\n",
              "      <td>0.066079</td>\n",
              "      <td>0.065574</td>\n",
              "      <td>0.050000</td>\n",
              "      <td>0.042857</td>\n",
              "      <td>0.049645</td>\n",
              "    </tr>\n",
              "    <tr>\n",
              "      <th>21</th>\n",
              "      <td>2</td>\n",
              "      <td>0.043478</td>\n",
              "      <td>0.051282</td>\n",
              "      <td>0.065180</td>\n",
              "      <td>0.055755</td>\n",
              "      <td>0.057471</td>\n",
              "      <td>0.041667</td>\n",
              "      <td>0.068249</td>\n",
              "    </tr>\n",
              "    <tr>\n",
              "      <th>2</th>\n",
              "      <td>1</td>\n",
              "      <td>0.061728</td>\n",
              "      <td>0.067474</td>\n",
              "      <td>0.072254</td>\n",
              "      <td>0.056738</td>\n",
              "      <td>0.064309</td>\n",
              "      <td>0.044750</td>\n",
              "      <td>0.046312</td>\n",
              "    </tr>\n",
              "    <tr>\n",
              "      <th>22</th>\n",
              "      <td>0</td>\n",
              "      <td>0.054475</td>\n",
              "      <td>0.036775</td>\n",
              "      <td>0.045103</td>\n",
              "      <td>0.055276</td>\n",
              "      <td>0.037940</td>\n",
              "      <td>0.042135</td>\n",
              "      <td>0.060907</td>\n",
              "    </tr>\n",
              "  </tbody>\n",
              "</table>\n",
              "</div>\n",
              "      <button class=\"colab-df-convert\" onclick=\"convertToInteractive('df-e1903098-e785-430c-8ce9-a2acaf44fb27')\"\n",
              "              title=\"Convert this dataframe to an interactive table.\"\n",
              "              style=\"display:none;\">\n",
              "        \n",
              "  <svg xmlns=\"http://www.w3.org/2000/svg\" height=\"24px\"viewBox=\"0 0 24 24\"\n",
              "       width=\"24px\">\n",
              "    <path d=\"M0 0h24v24H0V0z\" fill=\"none\"/>\n",
              "    <path d=\"M18.56 5.44l.94 2.06.94-2.06 2.06-.94-2.06-.94-.94-2.06-.94 2.06-2.06.94zm-11 1L8.5 8.5l.94-2.06 2.06-.94-2.06-.94L8.5 2.5l-.94 2.06-2.06.94zm10 10l.94 2.06.94-2.06 2.06-.94-2.06-.94-.94-2.06-.94 2.06-2.06.94z\"/><path d=\"M17.41 7.96l-1.37-1.37c-.4-.4-.92-.59-1.43-.59-.52 0-1.04.2-1.43.59L10.3 9.45l-7.72 7.72c-.78.78-.78 2.05 0 2.83L4 21.41c.39.39.9.59 1.41.59.51 0 1.02-.2 1.41-.59l7.78-7.78 2.81-2.81c.8-.78.8-2.07 0-2.86zM5.41 20L4 18.59l7.72-7.72 1.47 1.35L5.41 20z\"/>\n",
              "  </svg>\n",
              "      </button>\n",
              "      \n",
              "  <style>\n",
              "    .colab-df-container {\n",
              "      display:flex;\n",
              "      flex-wrap:wrap;\n",
              "      gap: 12px;\n",
              "    }\n",
              "\n",
              "    .colab-df-convert {\n",
              "      background-color: #E8F0FE;\n",
              "      border: none;\n",
              "      border-radius: 50%;\n",
              "      cursor: pointer;\n",
              "      display: none;\n",
              "      fill: #1967D2;\n",
              "      height: 32px;\n",
              "      padding: 0 0 0 0;\n",
              "      width: 32px;\n",
              "    }\n",
              "\n",
              "    .colab-df-convert:hover {\n",
              "      background-color: #E2EBFA;\n",
              "      box-shadow: 0px 1px 2px rgba(60, 64, 67, 0.3), 0px 1px 3px 1px rgba(60, 64, 67, 0.15);\n",
              "      fill: #174EA6;\n",
              "    }\n",
              "\n",
              "    [theme=dark] .colab-df-convert {\n",
              "      background-color: #3B4455;\n",
              "      fill: #D2E3FC;\n",
              "    }\n",
              "\n",
              "    [theme=dark] .colab-df-convert:hover {\n",
              "      background-color: #434B5C;\n",
              "      box-shadow: 0px 1px 3px 1px rgba(0, 0, 0, 0.15);\n",
              "      filter: drop-shadow(0px 1px 2px rgba(0, 0, 0, 0.3));\n",
              "      fill: #FFFFFF;\n",
              "    }\n",
              "  </style>\n",
              "\n",
              "      <script>\n",
              "        const buttonEl =\n",
              "          document.querySelector('#df-e1903098-e785-430c-8ce9-a2acaf44fb27 button.colab-df-convert');\n",
              "        buttonEl.style.display =\n",
              "          google.colab.kernel.accessAllowed ? 'block' : 'none';\n",
              "\n",
              "        async function convertToInteractive(key) {\n",
              "          const element = document.querySelector('#df-e1903098-e785-430c-8ce9-a2acaf44fb27');\n",
              "          const dataTable =\n",
              "            await google.colab.kernel.invokeFunction('convertToInteractive',\n",
              "                                                     [key], {});\n",
              "          if (!dataTable) return;\n",
              "\n",
              "          const docLinkHtml = 'Like what you see? Visit the ' +\n",
              "            '<a target=\"_blank\" href=https://colab.research.google.com/notebooks/data_table.ipynb>data table notebook</a>'\n",
              "            + ' to learn more about interactive tables.';\n",
              "          element.innerHTML = '';\n",
              "          dataTable['output_type'] = 'display_data';\n",
              "          await google.colab.output.renderOutput(dataTable, element);\n",
              "          const docLink = document.createElement('div');\n",
              "          docLink.innerHTML = docLinkHtml;\n",
              "          element.appendChild(docLink);\n",
              "        }\n",
              "      </script>\n",
              "    </div>\n",
              "  </div>\n",
              "  "
            ]
          },
          "metadata": {},
          "execution_count": 94
        }
      ]
    },
    {
      "cell_type": "code",
      "metadata": {
        "id": "WQreIQNGOVmX",
        "colab": {
          "base_uri": "https://localhost:8080/",
          "height": 802
        },
        "outputId": "850026ea-b87a-47ee-aa07-f498a56a37bb"
      },
      "source": [
        "hr_arrest['hrstr'] = hr_arrest.hr.apply(lambda x: 'hr_' + str(x))\n",
        "hr_arrest['hr_dummy'] = hr_arrest.hr.apply(lambda x: x - 7 if x - 7 >= 0 else x + 17)\n",
        "hr_arrest.sort_values(by='hr_dummy', ascending=False, inplace=True)\n",
        "hr_arrest"
      ],
      "execution_count": 95,
      "outputs": [
        {
          "output_type": "execute_result",
          "data": {
            "text/plain": [
              "    hr       Fri       Mon       Sat       Sun       Thu       Tue       Wed  \\\n",
              "5    6  0.010830  0.022088  0.011765  0.006826  0.020121  0.009506  0.009960   \n",
              "8    5  0.000000  0.000000  0.150000  0.083333  0.045455  0.000000  0.047619   \n",
              "13   4  0.029412  0.041667  0.083333  0.034483  0.081633  0.000000  0.000000   \n",
              "6    3  0.047619  0.047244  0.066079  0.065574  0.050000  0.042857  0.049645   \n",
              "21   2  0.043478  0.051282  0.065180  0.055755  0.057471  0.041667  0.068249   \n",
              "2    1  0.061728  0.067474  0.072254  0.056738  0.064309  0.044750  0.046312   \n",
              "22   0  0.054475  0.036775  0.045103  0.055276  0.037940  0.042135  0.060907   \n",
              "15  23  0.063953  0.035568  0.047500  0.046481  0.039897  0.040691  0.035714   \n",
              "1   22  0.069021  0.037773  0.055268  0.047191  0.043478  0.038153  0.020202   \n",
              "18  21  0.059441  0.036364  0.053232  0.072289  0.071730  0.057471  0.054878   \n",
              "7   20  0.069159  0.028200  0.028668  0.028640  0.044211  0.023641  0.023364   \n",
              "9   19  0.039720  0.024590  0.021505  0.044218  0.039216  0.015823  0.031700   \n",
              "23  18  0.043165  0.034759  0.020690  0.048148  0.040956  0.048571  0.019499   \n",
              "11  17  0.059432  0.036446  0.050847  0.050139  0.019337  0.011933  0.037406   \n",
              "4   16  0.023913  0.028933  0.036545  0.044014  0.026316  0.032086  0.038760   \n",
              "10  15  0.025039  0.025199  0.031888  0.027548  0.032885  0.032742  0.028090   \n",
              "20  14  0.025572  0.031690  0.034606  0.033215  0.022107  0.034653  0.019737   \n",
              "3   13  0.030822  0.030956  0.021708  0.028926  0.030973  0.034335  0.027027   \n",
              "0   12  0.021834  0.043328  0.035503  0.027508  0.036000  0.041905  0.041667   \n",
              "19  11  0.032967  0.031877  0.025050  0.015740  0.019441  0.029340  0.041013   \n",
              "17  10  0.028689  0.034709  0.017903  0.026025  0.022449  0.029990  0.030864   \n",
              "12   9  0.023913  0.016512  0.023339  0.021159  0.024911  0.030769  0.029050   \n",
              "14   8  0.022427  0.021651  0.030730  0.027523  0.018362  0.014825  0.008253   \n",
              "16   7  0.016949  0.009790  0.008170  0.009195  0.011006  0.017391  0.012748   \n",
              "\n",
              "    hrstr  hr_dummy  \n",
              "5    hr_6        23  \n",
              "8    hr_5        22  \n",
              "13   hr_4        21  \n",
              "6    hr_3        20  \n",
              "21   hr_2        19  \n",
              "2    hr_1        18  \n",
              "22   hr_0        17  \n",
              "15  hr_23        16  \n",
              "1   hr_22        15  \n",
              "18  hr_21        14  \n",
              "7   hr_20        13  \n",
              "9   hr_19        12  \n",
              "23  hr_18        11  \n",
              "11  hr_17        10  \n",
              "4   hr_16         9  \n",
              "10  hr_15         8  \n",
              "20  hr_14         7  \n",
              "3   hr_13         6  \n",
              "0   hr_12         5  \n",
              "19  hr_11         4  \n",
              "17  hr_10         3  \n",
              "12   hr_9         2  \n",
              "14   hr_8         1  \n",
              "16   hr_7         0  "
            ],
            "text/html": [
              "\n",
              "  <div id=\"df-4e407aa0-0c35-4085-96c5-c692cd2fe948\">\n",
              "    <div class=\"colab-df-container\">\n",
              "      <div>\n",
              "<style scoped>\n",
              "    .dataframe tbody tr th:only-of-type {\n",
              "        vertical-align: middle;\n",
              "    }\n",
              "\n",
              "    .dataframe tbody tr th {\n",
              "        vertical-align: top;\n",
              "    }\n",
              "\n",
              "    .dataframe thead th {\n",
              "        text-align: right;\n",
              "    }\n",
              "</style>\n",
              "<table border=\"1\" class=\"dataframe\">\n",
              "  <thead>\n",
              "    <tr style=\"text-align: right;\">\n",
              "      <th></th>\n",
              "      <th>hr</th>\n",
              "      <th>Fri</th>\n",
              "      <th>Mon</th>\n",
              "      <th>Sat</th>\n",
              "      <th>Sun</th>\n",
              "      <th>Thu</th>\n",
              "      <th>Tue</th>\n",
              "      <th>Wed</th>\n",
              "      <th>hrstr</th>\n",
              "      <th>hr_dummy</th>\n",
              "    </tr>\n",
              "  </thead>\n",
              "  <tbody>\n",
              "    <tr>\n",
              "      <th>5</th>\n",
              "      <td>6</td>\n",
              "      <td>0.010830</td>\n",
              "      <td>0.022088</td>\n",
              "      <td>0.011765</td>\n",
              "      <td>0.006826</td>\n",
              "      <td>0.020121</td>\n",
              "      <td>0.009506</td>\n",
              "      <td>0.009960</td>\n",
              "      <td>hr_6</td>\n",
              "      <td>23</td>\n",
              "    </tr>\n",
              "    <tr>\n",
              "      <th>8</th>\n",
              "      <td>5</td>\n",
              "      <td>0.000000</td>\n",
              "      <td>0.000000</td>\n",
              "      <td>0.150000</td>\n",
              "      <td>0.083333</td>\n",
              "      <td>0.045455</td>\n",
              "      <td>0.000000</td>\n",
              "      <td>0.047619</td>\n",
              "      <td>hr_5</td>\n",
              "      <td>22</td>\n",
              "    </tr>\n",
              "    <tr>\n",
              "      <th>13</th>\n",
              "      <td>4</td>\n",
              "      <td>0.029412</td>\n",
              "      <td>0.041667</td>\n",
              "      <td>0.083333</td>\n",
              "      <td>0.034483</td>\n",
              "      <td>0.081633</td>\n",
              "      <td>0.000000</td>\n",
              "      <td>0.000000</td>\n",
              "      <td>hr_4</td>\n",
              "      <td>21</td>\n",
              "    </tr>\n",
              "    <tr>\n",
              "      <th>6</th>\n",
              "      <td>3</td>\n",
              "      <td>0.047619</td>\n",
              "      <td>0.047244</td>\n",
              "      <td>0.066079</td>\n",
              "      <td>0.065574</td>\n",
              "      <td>0.050000</td>\n",
              "      <td>0.042857</td>\n",
              "      <td>0.049645</td>\n",
              "      <td>hr_3</td>\n",
              "      <td>20</td>\n",
              "    </tr>\n",
              "    <tr>\n",
              "      <th>21</th>\n",
              "      <td>2</td>\n",
              "      <td>0.043478</td>\n",
              "      <td>0.051282</td>\n",
              "      <td>0.065180</td>\n",
              "      <td>0.055755</td>\n",
              "      <td>0.057471</td>\n",
              "      <td>0.041667</td>\n",
              "      <td>0.068249</td>\n",
              "      <td>hr_2</td>\n",
              "      <td>19</td>\n",
              "    </tr>\n",
              "    <tr>\n",
              "      <th>2</th>\n",
              "      <td>1</td>\n",
              "      <td>0.061728</td>\n",
              "      <td>0.067474</td>\n",
              "      <td>0.072254</td>\n",
              "      <td>0.056738</td>\n",
              "      <td>0.064309</td>\n",
              "      <td>0.044750</td>\n",
              "      <td>0.046312</td>\n",
              "      <td>hr_1</td>\n",
              "      <td>18</td>\n",
              "    </tr>\n",
              "    <tr>\n",
              "      <th>22</th>\n",
              "      <td>0</td>\n",
              "      <td>0.054475</td>\n",
              "      <td>0.036775</td>\n",
              "      <td>0.045103</td>\n",
              "      <td>0.055276</td>\n",
              "      <td>0.037940</td>\n",
              "      <td>0.042135</td>\n",
              "      <td>0.060907</td>\n",
              "      <td>hr_0</td>\n",
              "      <td>17</td>\n",
              "    </tr>\n",
              "    <tr>\n",
              "      <th>15</th>\n",
              "      <td>23</td>\n",
              "      <td>0.063953</td>\n",
              "      <td>0.035568</td>\n",
              "      <td>0.047500</td>\n",
              "      <td>0.046481</td>\n",
              "      <td>0.039897</td>\n",
              "      <td>0.040691</td>\n",
              "      <td>0.035714</td>\n",
              "      <td>hr_23</td>\n",
              "      <td>16</td>\n",
              "    </tr>\n",
              "    <tr>\n",
              "      <th>1</th>\n",
              "      <td>22</td>\n",
              "      <td>0.069021</td>\n",
              "      <td>0.037773</td>\n",
              "      <td>0.055268</td>\n",
              "      <td>0.047191</td>\n",
              "      <td>0.043478</td>\n",
              "      <td>0.038153</td>\n",
              "      <td>0.020202</td>\n",
              "      <td>hr_22</td>\n",
              "      <td>15</td>\n",
              "    </tr>\n",
              "    <tr>\n",
              "      <th>18</th>\n",
              "      <td>21</td>\n",
              "      <td>0.059441</td>\n",
              "      <td>0.036364</td>\n",
              "      <td>0.053232</td>\n",
              "      <td>0.072289</td>\n",
              "      <td>0.071730</td>\n",
              "      <td>0.057471</td>\n",
              "      <td>0.054878</td>\n",
              "      <td>hr_21</td>\n",
              "      <td>14</td>\n",
              "    </tr>\n",
              "    <tr>\n",
              "      <th>7</th>\n",
              "      <td>20</td>\n",
              "      <td>0.069159</td>\n",
              "      <td>0.028200</td>\n",
              "      <td>0.028668</td>\n",
              "      <td>0.028640</td>\n",
              "      <td>0.044211</td>\n",
              "      <td>0.023641</td>\n",
              "      <td>0.023364</td>\n",
              "      <td>hr_20</td>\n",
              "      <td>13</td>\n",
              "    </tr>\n",
              "    <tr>\n",
              "      <th>9</th>\n",
              "      <td>19</td>\n",
              "      <td>0.039720</td>\n",
              "      <td>0.024590</td>\n",
              "      <td>0.021505</td>\n",
              "      <td>0.044218</td>\n",
              "      <td>0.039216</td>\n",
              "      <td>0.015823</td>\n",
              "      <td>0.031700</td>\n",
              "      <td>hr_19</td>\n",
              "      <td>12</td>\n",
              "    </tr>\n",
              "    <tr>\n",
              "      <th>23</th>\n",
              "      <td>18</td>\n",
              "      <td>0.043165</td>\n",
              "      <td>0.034759</td>\n",
              "      <td>0.020690</td>\n",
              "      <td>0.048148</td>\n",
              "      <td>0.040956</td>\n",
              "      <td>0.048571</td>\n",
              "      <td>0.019499</td>\n",
              "      <td>hr_18</td>\n",
              "      <td>11</td>\n",
              "    </tr>\n",
              "    <tr>\n",
              "      <th>11</th>\n",
              "      <td>17</td>\n",
              "      <td>0.059432</td>\n",
              "      <td>0.036446</td>\n",
              "      <td>0.050847</td>\n",
              "      <td>0.050139</td>\n",
              "      <td>0.019337</td>\n",
              "      <td>0.011933</td>\n",
              "      <td>0.037406</td>\n",
              "      <td>hr_17</td>\n",
              "      <td>10</td>\n",
              "    </tr>\n",
              "    <tr>\n",
              "      <th>4</th>\n",
              "      <td>16</td>\n",
              "      <td>0.023913</td>\n",
              "      <td>0.028933</td>\n",
              "      <td>0.036545</td>\n",
              "      <td>0.044014</td>\n",
              "      <td>0.026316</td>\n",
              "      <td>0.032086</td>\n",
              "      <td>0.038760</td>\n",
              "      <td>hr_16</td>\n",
              "      <td>9</td>\n",
              "    </tr>\n",
              "    <tr>\n",
              "      <th>10</th>\n",
              "      <td>15</td>\n",
              "      <td>0.025039</td>\n",
              "      <td>0.025199</td>\n",
              "      <td>0.031888</td>\n",
              "      <td>0.027548</td>\n",
              "      <td>0.032885</td>\n",
              "      <td>0.032742</td>\n",
              "      <td>0.028090</td>\n",
              "      <td>hr_15</td>\n",
              "      <td>8</td>\n",
              "    </tr>\n",
              "    <tr>\n",
              "      <th>20</th>\n",
              "      <td>14</td>\n",
              "      <td>0.025572</td>\n",
              "      <td>0.031690</td>\n",
              "      <td>0.034606</td>\n",
              "      <td>0.033215</td>\n",
              "      <td>0.022107</td>\n",
              "      <td>0.034653</td>\n",
              "      <td>0.019737</td>\n",
              "      <td>hr_14</td>\n",
              "      <td>7</td>\n",
              "    </tr>\n",
              "    <tr>\n",
              "      <th>3</th>\n",
              "      <td>13</td>\n",
              "      <td>0.030822</td>\n",
              "      <td>0.030956</td>\n",
              "      <td>0.021708</td>\n",
              "      <td>0.028926</td>\n",
              "      <td>0.030973</td>\n",
              "      <td>0.034335</td>\n",
              "      <td>0.027027</td>\n",
              "      <td>hr_13</td>\n",
              "      <td>6</td>\n",
              "    </tr>\n",
              "    <tr>\n",
              "      <th>0</th>\n",
              "      <td>12</td>\n",
              "      <td>0.021834</td>\n",
              "      <td>0.043328</td>\n",
              "      <td>0.035503</td>\n",
              "      <td>0.027508</td>\n",
              "      <td>0.036000</td>\n",
              "      <td>0.041905</td>\n",
              "      <td>0.041667</td>\n",
              "      <td>hr_12</td>\n",
              "      <td>5</td>\n",
              "    </tr>\n",
              "    <tr>\n",
              "      <th>19</th>\n",
              "      <td>11</td>\n",
              "      <td>0.032967</td>\n",
              "      <td>0.031877</td>\n",
              "      <td>0.025050</td>\n",
              "      <td>0.015740</td>\n",
              "      <td>0.019441</td>\n",
              "      <td>0.029340</td>\n",
              "      <td>0.041013</td>\n",
              "      <td>hr_11</td>\n",
              "      <td>4</td>\n",
              "    </tr>\n",
              "    <tr>\n",
              "      <th>17</th>\n",
              "      <td>10</td>\n",
              "      <td>0.028689</td>\n",
              "      <td>0.034709</td>\n",
              "      <td>0.017903</td>\n",
              "      <td>0.026025</td>\n",
              "      <td>0.022449</td>\n",
              "      <td>0.029990</td>\n",
              "      <td>0.030864</td>\n",
              "      <td>hr_10</td>\n",
              "      <td>3</td>\n",
              "    </tr>\n",
              "    <tr>\n",
              "      <th>12</th>\n",
              "      <td>9</td>\n",
              "      <td>0.023913</td>\n",
              "      <td>0.016512</td>\n",
              "      <td>0.023339</td>\n",
              "      <td>0.021159</td>\n",
              "      <td>0.024911</td>\n",
              "      <td>0.030769</td>\n",
              "      <td>0.029050</td>\n",
              "      <td>hr_9</td>\n",
              "      <td>2</td>\n",
              "    </tr>\n",
              "    <tr>\n",
              "      <th>14</th>\n",
              "      <td>8</td>\n",
              "      <td>0.022427</td>\n",
              "      <td>0.021651</td>\n",
              "      <td>0.030730</td>\n",
              "      <td>0.027523</td>\n",
              "      <td>0.018362</td>\n",
              "      <td>0.014825</td>\n",
              "      <td>0.008253</td>\n",
              "      <td>hr_8</td>\n",
              "      <td>1</td>\n",
              "    </tr>\n",
              "    <tr>\n",
              "      <th>16</th>\n",
              "      <td>7</td>\n",
              "      <td>0.016949</td>\n",
              "      <td>0.009790</td>\n",
              "      <td>0.008170</td>\n",
              "      <td>0.009195</td>\n",
              "      <td>0.011006</td>\n",
              "      <td>0.017391</td>\n",
              "      <td>0.012748</td>\n",
              "      <td>hr_7</td>\n",
              "      <td>0</td>\n",
              "    </tr>\n",
              "  </tbody>\n",
              "</table>\n",
              "</div>\n",
              "      <button class=\"colab-df-convert\" onclick=\"convertToInteractive('df-4e407aa0-0c35-4085-96c5-c692cd2fe948')\"\n",
              "              title=\"Convert this dataframe to an interactive table.\"\n",
              "              style=\"display:none;\">\n",
              "        \n",
              "  <svg xmlns=\"http://www.w3.org/2000/svg\" height=\"24px\"viewBox=\"0 0 24 24\"\n",
              "       width=\"24px\">\n",
              "    <path d=\"M0 0h24v24H0V0z\" fill=\"none\"/>\n",
              "    <path d=\"M18.56 5.44l.94 2.06.94-2.06 2.06-.94-2.06-.94-.94-2.06-.94 2.06-2.06.94zm-11 1L8.5 8.5l.94-2.06 2.06-.94-2.06-.94L8.5 2.5l-.94 2.06-2.06.94zm10 10l.94 2.06.94-2.06 2.06-.94-2.06-.94-.94-2.06-.94 2.06-2.06.94z\"/><path d=\"M17.41 7.96l-1.37-1.37c-.4-.4-.92-.59-1.43-.59-.52 0-1.04.2-1.43.59L10.3 9.45l-7.72 7.72c-.78.78-.78 2.05 0 2.83L4 21.41c.39.39.9.59 1.41.59.51 0 1.02-.2 1.41-.59l7.78-7.78 2.81-2.81c.8-.78.8-2.07 0-2.86zM5.41 20L4 18.59l7.72-7.72 1.47 1.35L5.41 20z\"/>\n",
              "  </svg>\n",
              "      </button>\n",
              "      \n",
              "  <style>\n",
              "    .colab-df-container {\n",
              "      display:flex;\n",
              "      flex-wrap:wrap;\n",
              "      gap: 12px;\n",
              "    }\n",
              "\n",
              "    .colab-df-convert {\n",
              "      background-color: #E8F0FE;\n",
              "      border: none;\n",
              "      border-radius: 50%;\n",
              "      cursor: pointer;\n",
              "      display: none;\n",
              "      fill: #1967D2;\n",
              "      height: 32px;\n",
              "      padding: 0 0 0 0;\n",
              "      width: 32px;\n",
              "    }\n",
              "\n",
              "    .colab-df-convert:hover {\n",
              "      background-color: #E2EBFA;\n",
              "      box-shadow: 0px 1px 2px rgba(60, 64, 67, 0.3), 0px 1px 3px 1px rgba(60, 64, 67, 0.15);\n",
              "      fill: #174EA6;\n",
              "    }\n",
              "\n",
              "    [theme=dark] .colab-df-convert {\n",
              "      background-color: #3B4455;\n",
              "      fill: #D2E3FC;\n",
              "    }\n",
              "\n",
              "    [theme=dark] .colab-df-convert:hover {\n",
              "      background-color: #434B5C;\n",
              "      box-shadow: 0px 1px 3px 1px rgba(0, 0, 0, 0.15);\n",
              "      filter: drop-shadow(0px 1px 2px rgba(0, 0, 0, 0.3));\n",
              "      fill: #FFFFFF;\n",
              "    }\n",
              "  </style>\n",
              "\n",
              "      <script>\n",
              "        const buttonEl =\n",
              "          document.querySelector('#df-4e407aa0-0c35-4085-96c5-c692cd2fe948 button.colab-df-convert');\n",
              "        buttonEl.style.display =\n",
              "          google.colab.kernel.accessAllowed ? 'block' : 'none';\n",
              "\n",
              "        async function convertToInteractive(key) {\n",
              "          const element = document.querySelector('#df-4e407aa0-0c35-4085-96c5-c692cd2fe948');\n",
              "          const dataTable =\n",
              "            await google.colab.kernel.invokeFunction('convertToInteractive',\n",
              "                                                     [key], {});\n",
              "          if (!dataTable) return;\n",
              "\n",
              "          const docLinkHtml = 'Like what you see? Visit the ' +\n",
              "            '<a target=\"_blank\" href=https://colab.research.google.com/notebooks/data_table.ipynb>data table notebook</a>'\n",
              "            + ' to learn more about interactive tables.';\n",
              "          element.innerHTML = '';\n",
              "          dataTable['output_type'] = 'display_data';\n",
              "          await google.colab.output.renderOutput(dataTable, element);\n",
              "          const docLink = document.createElement('div');\n",
              "          docLink.innerHTML = docLinkHtml;\n",
              "          element.appendChild(docLink);\n",
              "        }\n",
              "      </script>\n",
              "    </div>\n",
              "  </div>\n",
              "  "
            ]
          },
          "metadata": {},
          "execution_count": 95
        }
      ]
    },
    {
      "cell_type": "code",
      "metadata": {
        "id": "E0eo-HqpPRzM"
      },
      "source": [
        "# Grafica la tabla anterior como un radar chart"
      ],
      "execution_count": null,
      "outputs": []
    },
    {
      "cell_type": "code",
      "metadata": {
        "id": "096FYvWjLLdJ",
        "colab": {
          "base_uri": "https://localhost:8080/",
          "height": 542
        },
        "outputId": "83b1b810-68da-40f8-d15f-69e2988703e0"
      },
      "source": [
        "import plotly.graph_objects as go\n",
        "\n",
        "categories = hr_arrest.hrstr\n",
        "\n",
        "Fri = list(hr_arrest.Fri)\n",
        "Sat = list(hr_arrest.Sat)\n",
        "Sun = list(hr_arrest.Sun)\n",
        "Mon = list(hr_arrest.Mon)\n",
        "Tue = list(hr_arrest.Tue)\n",
        "Wed = list(hr_arrest.Wed)\n",
        "Thu = list(hr_arrest.Thu)\n",
        "\n",
        "f = go.Figure(\n",
        "    data=[\n",
        "        go.Scatterpolar(r=Fri, theta=categories, name='Fri'),\n",
        "        go.Scatterpolar(r=Sat, theta=categories, name='Sat'),\n",
        "        go.Scatterpolar(r=Sun, theta=categories, name='Sun'),\n",
        "        go.Scatterpolar(r=Mon, theta=categories, name='Mon'),\n",
        "        go.Scatterpolar(r=Tue, theta=categories, name='Tue'),\n",
        "        go.Scatterpolar(r=Wed, theta=categories, name='Wed'),\n",
        "        go.Scatterpolar(r=Thu, theta=categories, name='Thu')\n",
        "    ],\n",
        "    layout=go.Layout(\n",
        "        title=go.layout.Title(text='Weekday comparison'),\n",
        "        polar={'radialaxis': {'visible': True}},\n",
        "        showlegend=True\n",
        "    )\n",
        ")\n",
        "\n",
        "f.show()"
      ],
      "execution_count": 97,
      "outputs": [
        {
          "output_type": "display_data",
          "data": {
            "text/html": [
              "<html>\n",
              "<head><meta charset=\"utf-8\" /></head>\n",
              "<body>\n",
              "    <div>            <script src=\"https://cdnjs.cloudflare.com/ajax/libs/mathjax/2.7.5/MathJax.js?config=TeX-AMS-MML_SVG\"></script><script type=\"text/javascript\">if (window.MathJax) {MathJax.Hub.Config({SVG: {font: \"STIX-Web\"}});}</script>                <script type=\"text/javascript\">window.PlotlyConfig = {MathJaxConfig: 'local'};</script>\n",
              "        <script src=\"https://cdn.plot.ly/plotly-2.8.3.min.js\"></script>                <div id=\"5959e1a8-59be-48b1-9fa5-fc60fabea7bd\" class=\"plotly-graph-div\" style=\"height:525px; width:100%;\"></div>            <script type=\"text/javascript\">                                    window.PLOTLYENV=window.PLOTLYENV || {};                                    if (document.getElementById(\"5959e1a8-59be-48b1-9fa5-fc60fabea7bd\")) {                    Plotly.newPlot(                        \"5959e1a8-59be-48b1-9fa5-fc60fabea7bd\",                        [{\"name\":\"Fri\",\"r\":[0.010830324909747292,0.0,0.029411764705882353,0.047619047619047616,0.043478260869565216,0.06172839506172839,0.054474708171206226,0.06395348837209303,0.06902086677367576,0.05944055944055944,0.0691588785046729,0.0397196261682243,0.04316546762589928,0.059431524547803614,0.02391304347826087,0.025039123630672927,0.02557200538358008,0.030821917808219176,0.021834061135371178,0.03296703296703297,0.028688524590163935,0.02391304347826087,0.022427440633245383,0.01694915254237288],\"theta\":[\"hr_6\",\"hr_5\",\"hr_4\",\"hr_3\",\"hr_2\",\"hr_1\",\"hr_0\",\"hr_23\",\"hr_22\",\"hr_21\",\"hr_20\",\"hr_19\",\"hr_18\",\"hr_17\",\"hr_16\",\"hr_15\",\"hr_14\",\"hr_13\",\"hr_12\",\"hr_11\",\"hr_10\",\"hr_9\",\"hr_8\",\"hr_7\"],\"type\":\"scatterpolar\"},{\"name\":\"Sat\",\"r\":[0.011764705882352941,0.15,0.08333333333333333,0.06607929515418502,0.06518010291595197,0.07225433526011561,0.045103092783505154,0.0475,0.055267702936096716,0.053231939163498096,0.02866779089376054,0.021505376344086023,0.020689655172413793,0.05084745762711865,0.036544850498338874,0.03188775510204082,0.034606205250596656,0.02170767004341534,0.03550295857988166,0.025050100200400802,0.017902813299232736,0.02333931777378815,0.030729833546734954,0.008169934640522876],\"theta\":[\"hr_6\",\"hr_5\",\"hr_4\",\"hr_3\",\"hr_2\",\"hr_1\",\"hr_0\",\"hr_23\",\"hr_22\",\"hr_21\",\"hr_20\",\"hr_19\",\"hr_18\",\"hr_17\",\"hr_16\",\"hr_15\",\"hr_14\",\"hr_13\",\"hr_12\",\"hr_11\",\"hr_10\",\"hr_9\",\"hr_8\",\"hr_7\"],\"type\":\"scatterpolar\"},{\"name\":\"Sun\",\"r\":[0.006825938566552901,0.08333333333333333,0.034482758620689655,0.06557377049180328,0.05575539568345324,0.05673758865248227,0.05527638190954774,0.04648074369189907,0.04719101123595506,0.07228915662650602,0.028639618138424822,0.04421768707482993,0.04814814814814815,0.05013927576601671,0.04401408450704225,0.027548209366391185,0.033214709371293,0.028925619834710745,0.02750809061488673,0.015739769150052464,0.026025236593059938,0.021159153633854646,0.027522935779816515,0.009195402298850575],\"theta\":[\"hr_6\",\"hr_5\",\"hr_4\",\"hr_3\",\"hr_2\",\"hr_1\",\"hr_0\",\"hr_23\",\"hr_22\",\"hr_21\",\"hr_20\",\"hr_19\",\"hr_18\",\"hr_17\",\"hr_16\",\"hr_15\",\"hr_14\",\"hr_13\",\"hr_12\",\"hr_11\",\"hr_10\",\"hr_9\",\"hr_8\",\"hr_7\"],\"type\":\"scatterpolar\"},{\"name\":\"Mon\",\"r\":[0.02208835341365462,0.0,0.041666666666666664,0.047244094488188976,0.05128205128205128,0.06747404844290658,0.036775106082036775,0.03556771545827633,0.03777335984095427,0.03636363636363636,0.028199566160520606,0.02459016393442623,0.034759358288770054,0.03644646924829157,0.028933092224231464,0.025198938992042442,0.03169014084507042,0.03095558546433378,0.043327556325823226,0.031877213695395513,0.03470919324577861,0.016511867905056758,0.02165087956698241,0.009790209790209791],\"theta\":[\"hr_6\",\"hr_5\",\"hr_4\",\"hr_3\",\"hr_2\",\"hr_1\",\"hr_0\",\"hr_23\",\"hr_22\",\"hr_21\",\"hr_20\",\"hr_19\",\"hr_18\",\"hr_17\",\"hr_16\",\"hr_15\",\"hr_14\",\"hr_13\",\"hr_12\",\"hr_11\",\"hr_10\",\"hr_9\",\"hr_8\",\"hr_7\"],\"type\":\"scatterpolar\"},{\"name\":\"Tue\",\"r\":[0.009505703422053232,0.0,0.0,0.04285714285714286,0.041666666666666664,0.04475043029259897,0.042134831460674156,0.040690505548705305,0.03815261044176707,0.05747126436781609,0.02364066193853428,0.015822784810126583,0.04857142857142857,0.011933174224343675,0.03208556149732621,0.03274215552523874,0.034653465346534656,0.034334763948497854,0.0419047619047619,0.029339853300733496,0.02998965873836608,0.03076923076923077,0.014824797843665768,0.017391304347826087],\"theta\":[\"hr_6\",\"hr_5\",\"hr_4\",\"hr_3\",\"hr_2\",\"hr_1\",\"hr_0\",\"hr_23\",\"hr_22\",\"hr_21\",\"hr_20\",\"hr_19\",\"hr_18\",\"hr_17\",\"hr_16\",\"hr_15\",\"hr_14\",\"hr_13\",\"hr_12\",\"hr_11\",\"hr_10\",\"hr_9\",\"hr_8\",\"hr_7\"],\"type\":\"scatterpolar\"},{\"name\":\"Wed\",\"r\":[0.0099601593625498,0.047619047619047616,0.0,0.04964539007092199,0.06824925816023739,0.04631217838765009,0.060906515580736544,0.03571428571428571,0.020202020202020204,0.054878048780487805,0.02336448598130841,0.03170028818443804,0.019498607242339833,0.03740648379052369,0.03875968992248062,0.028089887640449437,0.019736842105263157,0.02702702702702703,0.041666666666666664,0.04101326899879373,0.030864197530864196,0.02905027932960894,0.008253094910591471,0.012747875354107648],\"theta\":[\"hr_6\",\"hr_5\",\"hr_4\",\"hr_3\",\"hr_2\",\"hr_1\",\"hr_0\",\"hr_23\",\"hr_22\",\"hr_21\",\"hr_20\",\"hr_19\",\"hr_18\",\"hr_17\",\"hr_16\",\"hr_15\",\"hr_14\",\"hr_13\",\"hr_12\",\"hr_11\",\"hr_10\",\"hr_9\",\"hr_8\",\"hr_7\"],\"type\":\"scatterpolar\"},{\"name\":\"Thu\",\"r\":[0.02012072434607646,0.045454545454545456,0.08163265306122448,0.05,0.05747126436781609,0.06430868167202572,0.037940379403794036,0.039897039897039896,0.043478260869565216,0.07172995780590717,0.04421052631578947,0.0392156862745098,0.040955631399317405,0.019337016574585635,0.02631578947368421,0.03288490284005979,0.022106631989596878,0.030973451327433628,0.036,0.019441069258809233,0.022448979591836733,0.02491103202846975,0.018361581920903956,0.0110062893081761],\"theta\":[\"hr_6\",\"hr_5\",\"hr_4\",\"hr_3\",\"hr_2\",\"hr_1\",\"hr_0\",\"hr_23\",\"hr_22\",\"hr_21\",\"hr_20\",\"hr_19\",\"hr_18\",\"hr_17\",\"hr_16\",\"hr_15\",\"hr_14\",\"hr_13\",\"hr_12\",\"hr_11\",\"hr_10\",\"hr_9\",\"hr_8\",\"hr_7\"],\"type\":\"scatterpolar\"}],                        {\"polar\":{\"radialaxis\":{\"visible\":true}},\"showlegend\":true,\"title\":{\"text\":\"Weekday comparison\"},\"template\":{\"data\":{\"bar\":[{\"error_x\":{\"color\":\"#2a3f5f\"},\"error_y\":{\"color\":\"#2a3f5f\"},\"marker\":{\"line\":{\"color\":\"#E5ECF6\",\"width\":0.5},\"pattern\":{\"fillmode\":\"overlay\",\"size\":10,\"solidity\":0.2}},\"type\":\"bar\"}],\"barpolar\":[{\"marker\":{\"line\":{\"color\":\"#E5ECF6\",\"width\":0.5},\"pattern\":{\"fillmode\":\"overlay\",\"size\":10,\"solidity\":0.2}},\"type\":\"barpolar\"}],\"carpet\":[{\"aaxis\":{\"endlinecolor\":\"#2a3f5f\",\"gridcolor\":\"white\",\"linecolor\":\"white\",\"minorgridcolor\":\"white\",\"startlinecolor\":\"#2a3f5f\"},\"baxis\":{\"endlinecolor\":\"#2a3f5f\",\"gridcolor\":\"white\",\"linecolor\":\"white\",\"minorgridcolor\":\"white\",\"startlinecolor\":\"#2a3f5f\"},\"type\":\"carpet\"}],\"choropleth\":[{\"colorbar\":{\"outlinewidth\":0,\"ticks\":\"\"},\"type\":\"choropleth\"}],\"contour\":[{\"colorbar\":{\"outlinewidth\":0,\"ticks\":\"\"},\"colorscale\":[[0.0,\"#0d0887\"],[0.1111111111111111,\"#46039f\"],[0.2222222222222222,\"#7201a8\"],[0.3333333333333333,\"#9c179e\"],[0.4444444444444444,\"#bd3786\"],[0.5555555555555556,\"#d8576b\"],[0.6666666666666666,\"#ed7953\"],[0.7777777777777778,\"#fb9f3a\"],[0.8888888888888888,\"#fdca26\"],[1.0,\"#f0f921\"]],\"type\":\"contour\"}],\"contourcarpet\":[{\"colorbar\":{\"outlinewidth\":0,\"ticks\":\"\"},\"type\":\"contourcarpet\"}],\"heatmap\":[{\"colorbar\":{\"outlinewidth\":0,\"ticks\":\"\"},\"colorscale\":[[0.0,\"#0d0887\"],[0.1111111111111111,\"#46039f\"],[0.2222222222222222,\"#7201a8\"],[0.3333333333333333,\"#9c179e\"],[0.4444444444444444,\"#bd3786\"],[0.5555555555555556,\"#d8576b\"],[0.6666666666666666,\"#ed7953\"],[0.7777777777777778,\"#fb9f3a\"],[0.8888888888888888,\"#fdca26\"],[1.0,\"#f0f921\"]],\"type\":\"heatmap\"}],\"heatmapgl\":[{\"colorbar\":{\"outlinewidth\":0,\"ticks\":\"\"},\"colorscale\":[[0.0,\"#0d0887\"],[0.1111111111111111,\"#46039f\"],[0.2222222222222222,\"#7201a8\"],[0.3333333333333333,\"#9c179e\"],[0.4444444444444444,\"#bd3786\"],[0.5555555555555556,\"#d8576b\"],[0.6666666666666666,\"#ed7953\"],[0.7777777777777778,\"#fb9f3a\"],[0.8888888888888888,\"#fdca26\"],[1.0,\"#f0f921\"]],\"type\":\"heatmapgl\"}],\"histogram\":[{\"marker\":{\"pattern\":{\"fillmode\":\"overlay\",\"size\":10,\"solidity\":0.2}},\"type\":\"histogram\"}],\"histogram2d\":[{\"colorbar\":{\"outlinewidth\":0,\"ticks\":\"\"},\"colorscale\":[[0.0,\"#0d0887\"],[0.1111111111111111,\"#46039f\"],[0.2222222222222222,\"#7201a8\"],[0.3333333333333333,\"#9c179e\"],[0.4444444444444444,\"#bd3786\"],[0.5555555555555556,\"#d8576b\"],[0.6666666666666666,\"#ed7953\"],[0.7777777777777778,\"#fb9f3a\"],[0.8888888888888888,\"#fdca26\"],[1.0,\"#f0f921\"]],\"type\":\"histogram2d\"}],\"histogram2dcontour\":[{\"colorbar\":{\"outlinewidth\":0,\"ticks\":\"\"},\"colorscale\":[[0.0,\"#0d0887\"],[0.1111111111111111,\"#46039f\"],[0.2222222222222222,\"#7201a8\"],[0.3333333333333333,\"#9c179e\"],[0.4444444444444444,\"#bd3786\"],[0.5555555555555556,\"#d8576b\"],[0.6666666666666666,\"#ed7953\"],[0.7777777777777778,\"#fb9f3a\"],[0.8888888888888888,\"#fdca26\"],[1.0,\"#f0f921\"]],\"type\":\"histogram2dcontour\"}],\"mesh3d\":[{\"colorbar\":{\"outlinewidth\":0,\"ticks\":\"\"},\"type\":\"mesh3d\"}],\"parcoords\":[{\"line\":{\"colorbar\":{\"outlinewidth\":0,\"ticks\":\"\"}},\"type\":\"parcoords\"}],\"pie\":[{\"automargin\":true,\"type\":\"pie\"}],\"scatter\":[{\"marker\":{\"colorbar\":{\"outlinewidth\":0,\"ticks\":\"\"}},\"type\":\"scatter\"}],\"scatter3d\":[{\"line\":{\"colorbar\":{\"outlinewidth\":0,\"ticks\":\"\"}},\"marker\":{\"colorbar\":{\"outlinewidth\":0,\"ticks\":\"\"}},\"type\":\"scatter3d\"}],\"scattercarpet\":[{\"marker\":{\"colorbar\":{\"outlinewidth\":0,\"ticks\":\"\"}},\"type\":\"scattercarpet\"}],\"scattergeo\":[{\"marker\":{\"colorbar\":{\"outlinewidth\":0,\"ticks\":\"\"}},\"type\":\"scattergeo\"}],\"scattergl\":[{\"marker\":{\"colorbar\":{\"outlinewidth\":0,\"ticks\":\"\"}},\"type\":\"scattergl\"}],\"scattermapbox\":[{\"marker\":{\"colorbar\":{\"outlinewidth\":0,\"ticks\":\"\"}},\"type\":\"scattermapbox\"}],\"scatterpolar\":[{\"marker\":{\"colorbar\":{\"outlinewidth\":0,\"ticks\":\"\"}},\"type\":\"scatterpolar\"}],\"scatterpolargl\":[{\"marker\":{\"colorbar\":{\"outlinewidth\":0,\"ticks\":\"\"}},\"type\":\"scatterpolargl\"}],\"scatterternary\":[{\"marker\":{\"colorbar\":{\"outlinewidth\":0,\"ticks\":\"\"}},\"type\":\"scatterternary\"}],\"surface\":[{\"colorbar\":{\"outlinewidth\":0,\"ticks\":\"\"},\"colorscale\":[[0.0,\"#0d0887\"],[0.1111111111111111,\"#46039f\"],[0.2222222222222222,\"#7201a8\"],[0.3333333333333333,\"#9c179e\"],[0.4444444444444444,\"#bd3786\"],[0.5555555555555556,\"#d8576b\"],[0.6666666666666666,\"#ed7953\"],[0.7777777777777778,\"#fb9f3a\"],[0.8888888888888888,\"#fdca26\"],[1.0,\"#f0f921\"]],\"type\":\"surface\"}],\"table\":[{\"cells\":{\"fill\":{\"color\":\"#EBF0F8\"},\"line\":{\"color\":\"white\"}},\"header\":{\"fill\":{\"color\":\"#C8D4E3\"},\"line\":{\"color\":\"white\"}},\"type\":\"table\"}]},\"layout\":{\"annotationdefaults\":{\"arrowcolor\":\"#2a3f5f\",\"arrowhead\":0,\"arrowwidth\":1},\"autotypenumbers\":\"strict\",\"coloraxis\":{\"colorbar\":{\"outlinewidth\":0,\"ticks\":\"\"}},\"colorscale\":{\"diverging\":[[0,\"#8e0152\"],[0.1,\"#c51b7d\"],[0.2,\"#de77ae\"],[0.3,\"#f1b6da\"],[0.4,\"#fde0ef\"],[0.5,\"#f7f7f7\"],[0.6,\"#e6f5d0\"],[0.7,\"#b8e186\"],[0.8,\"#7fbc41\"],[0.9,\"#4d9221\"],[1,\"#276419\"]],\"sequential\":[[0.0,\"#0d0887\"],[0.1111111111111111,\"#46039f\"],[0.2222222222222222,\"#7201a8\"],[0.3333333333333333,\"#9c179e\"],[0.4444444444444444,\"#bd3786\"],[0.5555555555555556,\"#d8576b\"],[0.6666666666666666,\"#ed7953\"],[0.7777777777777778,\"#fb9f3a\"],[0.8888888888888888,\"#fdca26\"],[1.0,\"#f0f921\"]],\"sequentialminus\":[[0.0,\"#0d0887\"],[0.1111111111111111,\"#46039f\"],[0.2222222222222222,\"#7201a8\"],[0.3333333333333333,\"#9c179e\"],[0.4444444444444444,\"#bd3786\"],[0.5555555555555556,\"#d8576b\"],[0.6666666666666666,\"#ed7953\"],[0.7777777777777778,\"#fb9f3a\"],[0.8888888888888888,\"#fdca26\"],[1.0,\"#f0f921\"]]},\"colorway\":[\"#636efa\",\"#EF553B\",\"#00cc96\",\"#ab63fa\",\"#FFA15A\",\"#19d3f3\",\"#FF6692\",\"#B6E880\",\"#FF97FF\",\"#FECB52\"],\"font\":{\"color\":\"#2a3f5f\"},\"geo\":{\"bgcolor\":\"white\",\"lakecolor\":\"white\",\"landcolor\":\"#E5ECF6\",\"showlakes\":true,\"showland\":true,\"subunitcolor\":\"white\"},\"hoverlabel\":{\"align\":\"left\"},\"hovermode\":\"closest\",\"mapbox\":{\"style\":\"light\"},\"paper_bgcolor\":\"white\",\"plot_bgcolor\":\"#E5ECF6\",\"polar\":{\"angularaxis\":{\"gridcolor\":\"white\",\"linecolor\":\"white\",\"ticks\":\"\"},\"bgcolor\":\"#E5ECF6\",\"radialaxis\":{\"gridcolor\":\"white\",\"linecolor\":\"white\",\"ticks\":\"\"}},\"scene\":{\"xaxis\":{\"backgroundcolor\":\"#E5ECF6\",\"gridcolor\":\"white\",\"gridwidth\":2,\"linecolor\":\"white\",\"showbackground\":true,\"ticks\":\"\",\"zerolinecolor\":\"white\"},\"yaxis\":{\"backgroundcolor\":\"#E5ECF6\",\"gridcolor\":\"white\",\"gridwidth\":2,\"linecolor\":\"white\",\"showbackground\":true,\"ticks\":\"\",\"zerolinecolor\":\"white\"},\"zaxis\":{\"backgroundcolor\":\"#E5ECF6\",\"gridcolor\":\"white\",\"gridwidth\":2,\"linecolor\":\"white\",\"showbackground\":true,\"ticks\":\"\",\"zerolinecolor\":\"white\"}},\"shapedefaults\":{\"line\":{\"color\":\"#2a3f5f\"}},\"ternary\":{\"aaxis\":{\"gridcolor\":\"white\",\"linecolor\":\"white\",\"ticks\":\"\"},\"baxis\":{\"gridcolor\":\"white\",\"linecolor\":\"white\",\"ticks\":\"\"},\"bgcolor\":\"#E5ECF6\",\"caxis\":{\"gridcolor\":\"white\",\"linecolor\":\"white\",\"ticks\":\"\"}},\"title\":{\"x\":0.05},\"xaxis\":{\"automargin\":true,\"gridcolor\":\"white\",\"linecolor\":\"white\",\"ticks\":\"\",\"title\":{\"standoff\":15},\"zerolinecolor\":\"white\",\"zerolinewidth\":2},\"yaxis\":{\"automargin\":true,\"gridcolor\":\"white\",\"linecolor\":\"white\",\"ticks\":\"\",\"title\":{\"standoff\":15},\"zerolinecolor\":\"white\",\"zerolinewidth\":2}}}},                        {\"responsive\": true}                    ).then(function(){\n",
              "                            \n",
              "var gd = document.getElementById('5959e1a8-59be-48b1-9fa5-fc60fabea7bd');\n",
              "var x = new MutationObserver(function (mutations, observer) {{\n",
              "        var display = window.getComputedStyle(gd).display;\n",
              "        if (!display || display === 'none') {{\n",
              "            console.log([gd, 'removed!']);\n",
              "            Plotly.purge(gd);\n",
              "            observer.disconnect();\n",
              "        }}\n",
              "}});\n",
              "\n",
              "// Listen for the removal of the full notebook cells\n",
              "var notebookContainer = gd.closest('#notebook-container');\n",
              "if (notebookContainer) {{\n",
              "    x.observe(notebookContainer, {childList: true});\n",
              "}}\n",
              "\n",
              "// Listen for the clearing of the current output cell\n",
              "var outputEl = gd.closest('.output');\n",
              "if (outputEl) {{\n",
              "    x.observe(outputEl, {childList: true});\n",
              "}}\n",
              "\n",
              "                        })                };                            </script>        </div>\n",
              "</body>\n",
              "</html>"
            ]
          },
          "metadata": {}
        }
      ]
    }
  ]
}