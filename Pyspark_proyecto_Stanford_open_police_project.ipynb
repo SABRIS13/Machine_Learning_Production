{
  "nbformat": 4,
  "nbformat_minor": 0,
  "metadata": {
    "kernelspec": {
      "display_name": "d1-spark2python3",
      "language": "python",
      "name": "spark-python-d1-spark2python3"
    },
    "language_info": {
      "nbconvert_exporter": "python",
      "file_extension": ".py",
      "mimetype": "text/x-python",
      "version": "3.5.2",
      "codemirror_mode": {
        "version": 3,
        "name": "ipython"
      },
      "pygments_lexer": "ipython3",
      "name": "python"
    },
    "colab": {
      "provenance": [],
      "toc_visible": true
    }
  },
  "cells": [
    {
      "cell_type": "markdown",
      "metadata": {
        "id": "6NFrSTocismU"
      },
      "source": [
        "# Standford open policing project"
      ]
    },
    {
      "cell_type": "code",
      "source": [
        "!pip install pyspark"
      ],
      "metadata": {
        "id": "2RzfuiUFGfiC",
        "colab": {
          "base_uri": "https://localhost:8080/"
        },
        "outputId": "bc462403-4bbc-4474-dcad-494c2fe8433b"
      },
      "execution_count": null,
      "outputs": [
        {
          "output_type": "stream",
          "name": "stdout",
          "text": [
            "Looking in indexes: https://pypi.org/simple, https://us-python.pkg.dev/colab-wheels/public/simple/\n",
            "Collecting pyspark\n",
            "  Downloading pyspark-3.3.2.tar.gz (281.4 MB)\n",
            "\u001b[2K     \u001b[90m━━━━━━━━━━━━━━━━━━━━━━━━━━━━━━━━━━━━━━━\u001b[0m \u001b[32m281.4/281.4 MB\u001b[0m \u001b[31m3.7 MB/s\u001b[0m eta \u001b[36m0:00:00\u001b[0m\n",
            "\u001b[?25h  Preparing metadata (setup.py) ... \u001b[?25l\u001b[?25hdone\n",
            "Collecting py4j==0.10.9.5\n",
            "  Downloading py4j-0.10.9.5-py2.py3-none-any.whl (199 kB)\n",
            "\u001b[2K     \u001b[90m━━━━━━━━━━━━━━━━━━━━━━━━━━━━━━━━━━━━━━\u001b[0m \u001b[32m199.7/199.7 KB\u001b[0m \u001b[31m11.2 MB/s\u001b[0m eta \u001b[36m0:00:00\u001b[0m\n",
            "\u001b[?25hBuilding wheels for collected packages: pyspark\n",
            "  Building wheel for pyspark (setup.py) ... \u001b[?25l\u001b[?25hdone\n",
            "  Created wheel for pyspark: filename=pyspark-3.3.2-py2.py3-none-any.whl size=281824025 sha256=ca7e04e4cb3755158189cc0b4f6be75b076449f3ab66b3f89141b48b9f2cf108\n",
            "  Stored in directory: /root/.cache/pip/wheels/b1/59/a0/a1a0624b5e865fd389919c1a10f53aec9b12195d6747710baf\n",
            "Successfully built pyspark\n",
            "Installing collected packages: py4j, pyspark\n",
            "Successfully installed py4j-0.10.9.5 pyspark-3.3.2\n"
          ]
        }
      ]
    },
    {
      "cell_type": "code",
      "metadata": {
        "id": "yXl4piwKuZxg"
      },
      "source": [
        "# si estamos trabajando en colab, \n",
        "# debemos correr las siguientes líneas:\n",
        "from pyspark.sql import SparkSession\n",
        "spark = SparkSession.builder.getOrCreate()"
      ],
      "execution_count": null,
      "outputs": []
    },
    {
      "cell_type": "code",
      "metadata": {
        "id": "KL_TP-lkuZ4l"
      },
      "source": [
        "# si estamos trabajando en colab, \n",
        "# podemos montar el drive\n",
        "# from google.colab import drive\n",
        "# drive.mount('/content/drive')"
      ],
      "execution_count": null,
      "outputs": []
    },
    {
      "cell_type": "markdown",
      "metadata": {
        "id": "2quZgsz_po8H"
      },
      "source": [
        "## Antecedentes"
      ]
    },
    {
      "cell_type": "markdown",
      "metadata": {
        "id": "zDgQzrkXpEKK"
      },
      "source": [
        "Trabajaremos datos del proyecto abierto _stanford open policing project_, que cuenta con data de 31 estados de los EUA, pero específicamente trabajaremos con datos del estado de Rhod Island.\n",
        "\n",
        "Este proyecto está relacionado con una serie de investigaciones y publicaciones muy famosas todas hechas en R, pero en este proyecto trabajaremos en spark, si quieren conocer más, pueden visitar la [página oficial](https://openpolicing.stanford.edu/) del proyecto"
      ]
    },
    {
      "cell_type": "markdown",
      "metadata": {
        "id": "5CDs-X2Spp8m"
      },
      "source": [
        "## Preparación de los datos"
      ]
    },
    {
      "cell_type": "markdown",
      "metadata": {
        "id": "SNJr9zFbpvMC"
      },
      "source": [
        "Examina y limpia los datos:"
      ]
    },
    {
      "cell_type": "code",
      "metadata": {
        "id": "MUShcSNOjHe3"
      },
      "source": [
        "from pyspark.sql import functions as F"
      ],
      "execution_count": null,
      "outputs": []
    },
    {
      "cell_type": "code",
      "source": [
        "!wget -O police_activity.csv https://raw.githubusercontent.com/edroga/Datasets_for_projects/main/police_activity.csv"
      ],
      "metadata": {
        "id": "7W_i-CSwG57o"
      },
      "execution_count": null,
      "outputs": []
    },
    {
      "cell_type": "code",
      "metadata": {
        "id": "BxTh5haKnFyZ"
      },
      "source": [
        "# Carga los datos\n",
        "ri = spark.read.csv('police_activity.csv',\n",
        "                    sep=',', \n",
        "                    header=True, \n",
        "                    inferSchema=True)"
      ],
      "execution_count": null,
      "outputs": []
    },
    {
      "cell_type": "code",
      "metadata": {
        "id": "IfZIlYiSnF1C"
      },
      "source": [
        "# Examina la estructura del DataFrame\n",
        "ri.show(2)"
      ],
      "execution_count": null,
      "outputs": []
    },
    {
      "cell_type": "code",
      "metadata": {
        "id": "0aevlGG-_jzW"
      },
      "source": [
        "# Examina el tipo de datos del DataFrame\n",
        "ri.dtypes"
      ],
      "execution_count": null,
      "outputs": []
    },
    {
      "cell_type": "code",
      "metadata": {
        "id": "xDqa5ZRTnF8T"
      },
      "source": [
        "# Examine las dimensiones del DataFrame\n",
        "ri.count(), len(ri.columns)"
      ],
      "execution_count": null,
      "outputs": []
    },
    {
      "cell_type": "code",
      "metadata": {
        "id": "yQU-e0SGuL0y"
      },
      "source": [
        "# Usa el método describe sobre el DataFrame\n",
        "ri.describe().show()"
      ],
      "execution_count": null,
      "outputs": []
    },
    {
      "cell_type": "code",
      "metadata": {
        "id": "oSfWDTcmnF3g"
      },
      "source": [
        "# Cuenta el número de missings por cada columna en el DataFrame\n",
        "(ri\n",
        " .select([F.sum(F.col(c).isNull().cast('int')).alias(c) for c in ri.columns])\n",
        " .show())"
      ],
      "execution_count": null,
      "outputs": []
    },
    {
      "cell_type": "code",
      "metadata": {
        "id": "bL9CRrPgsJPx"
      },
      "source": [
        "# Elimina las columnas 'county_name', 'state'\n",
        "ri = ri.drop(*['county_name', 'state'])"
      ],
      "execution_count": null,
      "outputs": []
    },
    {
      "cell_type": "code",
      "metadata": {
        "id": "EFqNu1insJSU"
      },
      "source": [
        "# Nuevamente examine las dimensiones del DataFrame\n",
        "ri.count(), len(ri.columns)"
      ],
      "execution_count": null,
      "outputs": []
    },
    {
      "cell_type": "code",
      "metadata": {
        "id": "IgynhD59sJU0"
      },
      "source": [
        "# Elimina los registros que tengan missings en la columna 'driver_gender'\n",
        "ri = ri.dropna(subset=['driver_gender'])"
      ],
      "execution_count": null,
      "outputs": []
    },
    {
      "cell_type": "code",
      "metadata": {
        "id": "HVTDpUI5sJXj"
      },
      "source": [
        "# Nuevament cuenta el número de missings por cada columna en el DataFrame\n",
        "(ri\n",
        " .select([F.sum(F.col(c).isNull().cast('int')).alias(c) for c in ri.columns])\n",
        " .show())"
      ],
      "execution_count": null,
      "outputs": []
    },
    {
      "cell_type": "code",
      "metadata": {
        "id": "EUbiOLNzsJae"
      },
      "source": [
        "# Nuevamente examine las dimensiones del DataFrame\n",
        "ri.count(), len(ri.columns)"
      ],
      "execution_count": null,
      "outputs": []
    },
    {
      "cell_type": "markdown",
      "metadata": {
        "id": "F3EqdHmX2__I"
      },
      "source": [
        "## Tipos de datos correctos"
      ]
    },
    {
      "cell_type": "code",
      "metadata": {
        "id": "B9bLaYBssJf8"
      },
      "source": [
        "# Examina las primeras 4 filas del DataFrame\n",
        "ri.show(4)"
      ],
      "execution_count": null,
      "outputs": []
    },
    {
      "cell_type": "code",
      "metadata": {
        "id": "XXBZDo6FyEM7"
      },
      "source": [
        "# Examina los data types del DataFrame\n",
        "ri.dtypes"
      ],
      "execution_count": null,
      "outputs": []
    },
    {
      "cell_type": "code",
      "metadata": {
        "id": "0qhF9cAqyX-o"
      },
      "source": [
        "# transforma 'stop_date' and 'stop_time' en una nueva columna con formato datetime llamada stop_datetime\n",
        "ri = (ri.withColumn('stop_datetime', F.concat_ws(' ', 'stop_date', 'stop_time'))\n",
        "        .withColumn('stop_datetime', F.from_unixtime(F.unix_timestamp(F.col('stop_datetime'), 'yyyy-MM-dd HH:mm'))))"
      ],
      "execution_count": null,
      "outputs": []
    },
    {
      "cell_type": "markdown",
      "metadata": {
        "id": "-sZwBk7NQteJ"
      },
      "source": [
        "## ¿Hay evidencia de diferentes delitos cometidos por género?"
      ]
    },
    {
      "cell_type": "markdown",
      "metadata": {
        "id": "36PiCA1awSIA"
      },
      "source": [
        "Crea una tabla con el siguiente formato:\n",
        "\n",
        "\n",
        "|violation| F| M| Total| Fp100_of_Total| Mp100_of_Total|\n",
        "| --| --| --| --| --| --|\n",
        "| Equipment| 2501| 8420| 10921| 0.23| 0.77|\n",
        "| Other| 707| 3702| 4409| 0.16| 0.84|\n",
        "| ...| ...| ...| ...| ...| ...|\n",
        "\n",
        "En donde:\n",
        "\n",
        "+ __Violation__ son las violaciones cometidas\n",
        "+ __F__ cantidad de mujeres que cometen esa violación\n",
        "+ __M__ cantidad de hombres que cometen esa violación\n",
        "+ __Total__ suma de __F__ + __M__\n",
        "+ __Fp100_of_Total__ división de __F__ / __Total__\n",
        "+ __Mp100_of_Total__ división de __F__ y __Total__\n"
      ]
    },
    {
      "cell_type": "code",
      "metadata": {
        "id": "wK-DD3-DsJ4r"
      },
      "source": [
        "t1 = (ri.groupBy(['violation', 'driver_gender'])\n",
        " .count()\n",
        " .groupBy(\"violation\")\n",
        " .pivot(\"driver_gender\")\n",
        " .sum(\"count\")\n",
        " .withColumn('Total', F.col('F') + F.col('M'))\n",
        " .withColumn('Fp100_of_Total', F.round(F.col('F')/F.col('Total'), 2))\n",
        " .withColumn('Mp100_of_Total', F.round(F.col('M')/F.col('Total'), 2)))\n",
        "\n",
        "t1.show(2)"
      ],
      "execution_count": null,
      "outputs": []
    },
    {
      "cell_type": "markdown",
      "metadata": {
        "id": "laLsi13kyMZe"
      },
      "source": [
        "Agrega dos columnas más a la tabla anterior y llámalas:\n",
        "\n",
        "* __Fp100__ es la división de __F__ / __SUMA(columna F)__\n",
        "* __Mp100__ es la división de __M__ / __SUMA(columna M)__"
      ]
    },
    {
      "cell_type": "code",
      "metadata": {
        "id": "cL8v_Bn93LIJ"
      },
      "source": [
        "TF = t1.select((F.sum('F'))).first()[0]\n",
        "TM = t1.select((F.sum('M'))).first()[0]"
      ],
      "execution_count": null,
      "outputs": []
    },
    {
      "cell_type": "code",
      "metadata": {
        "id": "hkbt87F93Lr8"
      },
      "source": [
        "t1.withColumn('Fp100', F.round(F.col('F')/TF, 2)).withColumn('Mp100', F.round(F.col('M')/TM, 2)).show(2)"
      ],
      "execution_count": null,
      "outputs": []
    },
    {
      "cell_type": "markdown",
      "metadata": {
        "id": "moWgNT6UdZzX"
      },
      "source": [
        "## ¿Impacta el género en quiénes reciben más multas?"
      ]
    },
    {
      "cell_type": "markdown",
      "metadata": {
        "id": "BySTiBWqhgz7"
      },
      "source": [
        "## Analiza el género cuando las violaciones son por _speeding_"
      ]
    },
    {
      "cell_type": "code",
      "metadata": {
        "id": "gKP2B59M5jtM"
      },
      "source": [
        "# Filtra el dataset por violation == 'speedong'\n",
        "gender_and_speeding = ri.filter(F.col('violation')=='Speeding')\n",
        "gender_and_speeding.show(2)"
      ],
      "execution_count": null,
      "outputs": []
    },
    {
      "cell_type": "code",
      "metadata": {
        "id": "ptYJ782Q58tj"
      },
      "source": [
        "# A partir del DataFrame anterior, calcula en qué terminó el encuentro con la policia 'stop_outcome' por género\n",
        "Outcomes_by_gender = gender_and_speeding.groupBy(['driver_gender', 'stop_outcome']).count().groupBy('stop_outcome').pivot('driver_gender').sum('count')\n",
        "Outcomes_by_gender.show(2)"
      ],
      "execution_count": null,
      "outputs": []
    },
    {
      "cell_type": "markdown",
      "metadata": {
        "id": "jqOy6xGhzzRi"
      },
      "source": [
        "A partir del DataFrame anterior, calcula las siguientes variables:\n",
        "\n",
        "* __Fp100__ = __F__ / __SUMA(columna F)__\n",
        "* __Mp100__ = __F__ / __SUMA(columna M)__"
      ]
    },
    {
      "cell_type": "code",
      "metadata": {
        "id": "CQcvmG_068Un"
      },
      "source": [
        "OTF = Outcomes_by_gender.select((F.sum('F'))).first()[0]\n",
        "OTM = Outcomes_by_gender.select((F.sum('M'))).first()[0]"
      ],
      "execution_count": null,
      "outputs": []
    },
    {
      "cell_type": "code",
      "metadata": {
        "id": "-Tev-gPU7GNZ"
      },
      "source": [
        "Outcomes_by_gender.withColumn('Fp100', F.round(F.col('F')/OTF, 2)).withColumn('Mp100', F.round(F.col('M')/OTM, 2)).show(2)"
      ],
      "execution_count": null,
      "outputs": []
    },
    {
      "cell_type": "markdown",
      "metadata": {
        "id": "UN9osIYbldkK"
      },
      "source": [
        "## Calcula el search-rate"
      ]
    },
    {
      "cell_type": "markdown",
      "metadata": {
        "id": "x6v_RL2v0uxZ"
      },
      "source": [
        "Obtén la siguiente tabla:\n",
        "\n",
        "|driver_gender|false|true|Rate|\n",
        "|--|--|--|--|\n",
        "|F|23318| 456|0.019180617481282074|\n",
        "|M|59911|2851| 0.04542557598546892|\n",
        "\n",
        "donde:\n",
        "\n",
        "* __false__ es la cantidad de veces que no se realizó una 'search_conducted'\n",
        "* __true__ es la cantidad de veces que se llevó a cabo una 'search_conducted'\n",
        "* __rate__ es __true__ / (__true__ + __false__)"
      ]
    },
    {
      "cell_type": "code",
      "metadata": {
        "id": "CjG8_Nks76SX"
      },
      "source": [
        "(ri.groupBy(['search_conducted', 'driver_gender'])\n",
        " .count()\n",
        " .groupBy(\"driver_gender\")\n",
        " .pivot(\"search_conducted\")\n",
        " .sum(\"count\")\n",
        " .withColumn('Rate', F.col('true')/(F.col('true')+ F.col('false')))\n",
        " ).show()"
      ],
      "execution_count": null,
      "outputs": []
    },
    {
      "cell_type": "markdown",
      "metadata": {
        "id": "Zxl7wcS3n-q3"
      },
      "source": [
        "## Análisis de violation"
      ]
    },
    {
      "cell_type": "markdown",
      "metadata": {
        "id": "gEvMBmLpoAXU"
      },
      "source": [
        "Incorpora al DataFrame anterior la variable violation y comprueba si el search-rate varía por clase y género, y responde si los hombres y las mujeres tienden a cometer distintos delitos."
      ]
    },
    {
      "cell_type": "code",
      "metadata": {
        "id": "Xz_7proVB1ir"
      },
      "source": [
        "from pyspark.sql.types import IntegerType"
      ],
      "execution_count": null,
      "outputs": []
    },
    {
      "cell_type": "code",
      "metadata": {
        "id": "jJw8NBPB_5CJ"
      },
      "source": [
        "(ri.withColumn('search_conducted', F.col('search_conducted').cast(IntegerType()))\n",
        " .groupBy(['violation', 'driver_gender'])\n",
        " .agg(F.avg('search_conducted').alias('mean'))\n",
        " .withColumn('mean', F.round(F.col('mean'),3 ) )\n",
        " .groupBy(\"violation\")\n",
        " .pivot(\"driver_gender\")\n",
        " .sum(\"mean\")\n",
        "#  .withColumn('Rate', F.col('true')/(F.col('true')+ F.col('false')))\n",
        " ).show()"
      ],
      "execution_count": null,
      "outputs": []
    },
    {
      "cell_type": "markdown",
      "metadata": {
        "id": "QCQImSVOrFBz"
      },
      "source": [
        "## Análisis de los frisks"
      ]
    },
    {
      "cell_type": "markdown",
      "metadata": {
        "id": "DOBAJbiUrFef"
      },
      "source": [
        "Analiza la frecuencia de las clases en search-rate:"
      ]
    },
    {
      "cell_type": "code",
      "metadata": {
        "id": "kugy5e7uFPN_"
      },
      "source": [
        "(ri\n",
        " .groupBy(['search_type'])\n",
        " .count()\n",
        " ).show()"
      ],
      "execution_count": null,
      "outputs": []
    },
    {
      "cell_type": "markdown",
      "metadata": {
        "id": "9mmRQUnOsk4a"
      },
      "source": [
        "### Compara frisk rates por género"
      ]
    },
    {
      "cell_type": "markdown",
      "metadata": {
        "id": "X3U19NDH26_n"
      },
      "source": [
        "1. Elimina los nulos de la variable search_type\n",
        "2. Detecta dónde hay registros relacionados con 'frisk'\n",
        "3. Agrupa por género\n",
        "4. Obtén el promedio por género de los 'frisk'"
      ]
    },
    {
      "cell_type": "code",
      "metadata": {
        "id": "qirI0348FoCR"
      },
      "source": [
        "(ri\n",
        " .dropna(subset = ['search_type'])\n",
        " .withColumn('frisk', F.regexp_extract(F.lower(F.col('search_type') ), '(frisk)', 1))\n",
        " .withColumn('frisk', F.when(F.col('frisk')=='frisk', 1)\n",
        "                       .otherwise(0))\n",
        "\n",
        " .groupBy(['driver_gender'])\n",
        " .agg(F.avg('frisk'))\n",
        " ).show(100, False)"
      ],
      "execution_count": null,
      "outputs": []
    },
    {
      "cell_type": "markdown",
      "metadata": {
        "id": "6fIf1dj5tSkr"
      },
      "source": [
        "### Calcula el promedio de las horas de arresto por día de la semana"
      ]
    },
    {
      "cell_type": "code",
      "metadata": {
        "id": "si-w_hODLLap"
      },
      "source": [
        "hr_arrest = (ri\n",
        "             .withColumn('is_arrested', F.when(F.col('is_arrested')==True, 1)\n",
        "             .otherwise(0))\n",
        "             .withColumn('weekday', F.date_format(F.col('stop_datetime'), 'E'))\n",
        "             .groupBy(['weekday', F.hour('stop_datetime').alias('hr')])\n",
        "             .agg(F.avg('is_arrested').alias('avg'))\n",
        "             .groupBy('hr')\n",
        "             .pivot('weekday')\n",
        "             .sum('avg')\n",
        "             .toPandas()\n",
        "             .sort_values(by='hr', ascending = False)\n",
        "             )"
      ],
      "execution_count": null,
      "outputs": []
    },
    {
      "cell_type": "code",
      "metadata": {
        "id": "WQreIQNGOVmX"
      },
      "source": [
        "hr_arrest['hrstr'] = hr_arrest.hr.apply(lambda x: 'hr_' + str(x))\n",
        "hr_arrest['hr_dummy'] = hr_arrest.hr.apply(lambda x: x - 7 if x - 7 >= 0 else x + 17)\n",
        "hr_arrest.sort_values(by='hr_dummy', ascending=False, inplace=True)"
      ],
      "execution_count": null,
      "outputs": []
    },
    {
      "cell_type": "code",
      "metadata": {
        "id": "E0eo-HqpPRzM"
      },
      "source": [
        "# Grafica la tabla anterior como un radar chart"
      ],
      "execution_count": null,
      "outputs": []
    },
    {
      "cell_type": "code",
      "metadata": {
        "id": "096FYvWjLLdJ"
      },
      "source": [
        "import plotly.graph_objects as go\n",
        "\n",
        "categories = hr_arrest.hrstr\n",
        "\n",
        "Fri = list(hr_arrest.Fri)\n",
        "Sat = list(hr_arrest.Sat)\n",
        "Sun = list(hr_arrest.Sun)\n",
        "Mon = list(hr_arrest.Mon)\n",
        "Tue = list(hr_arrest.Tue)\n",
        "Wed = list(hr_arrest.Wed)\n",
        "Thu = list(hr_arrest.Thu)\n",
        "\n",
        "f = go.Figure(\n",
        "    data=[\n",
        "        go.Scatterpolar(r=Fri, theta=categories, name='Fri'),\n",
        "        go.Scatterpolar(r=Sat, theta=categories, name='Sat'),\n",
        "        go.Scatterpolar(r=Sun, theta=categories, name='Sun'),\n",
        "        go.Scatterpolar(r=Mon, theta=categories, name='Mon'),\n",
        "        go.Scatterpolar(r=Tue, theta=categories, name='Tue'),\n",
        "        go.Scatterpolar(r=Wed, theta=categories, name='Wed'),\n",
        "        go.Scatterpolar(r=Thu, theta=categories, name='Thu')\n",
        "    ],\n",
        "    layout=go.Layout(\n",
        "        title=go.layout.Title(text='Weekday comparison'),\n",
        "        polar={'radialaxis': {'visible': True}},\n",
        "        showlegend=True\n",
        "    )\n",
        ")\n",
        "\n",
        "f.show()"
      ],
      "execution_count": null,
      "outputs": []
    }
  ]
}